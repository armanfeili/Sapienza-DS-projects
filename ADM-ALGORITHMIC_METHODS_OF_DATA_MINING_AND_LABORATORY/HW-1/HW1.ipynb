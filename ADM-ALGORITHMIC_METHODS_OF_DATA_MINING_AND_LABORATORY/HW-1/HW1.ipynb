{
 "cells": [
  {
   "cell_type": "markdown",
   "id": "3387b3b9",
   "metadata": {},
   "source": [
    "# Arman Feili - Homework-1"
   ]
  },
  {
   "cell_type": "markdown",
   "id": "035907df",
   "metadata": {},
   "source": [
    "-------------------------------------------------------"
   ]
  },
  {
   "cell_type": "markdown",
   "id": "65adb3c0",
   "metadata": {},
   "source": [
    "## Problem 1"
   ]
  },
  {
   "cell_type": "markdown",
   "id": "25b5b8a0",
   "metadata": {},
   "source": [
    "### Say \"Hello, World!\" With Python\n"
   ]
  },
  {
   "cell_type": "code",
   "execution_count": null,
   "id": "05813727",
   "metadata": {},
   "outputs": [],
   "source": [
    "print(\"Hello, World!\")"
   ]
  },
  {
   "cell_type": "markdown",
   "id": "1398721e",
   "metadata": {},
   "source": [
    "### Python If-Else"
   ]
  },
  {
   "cell_type": "code",
   "execution_count": null,
   "id": "0d73a6c9",
   "metadata": {},
   "outputs": [],
   "source": [
    "#!/bin/python3\n",
    "\n",
    "import math\n",
    "import os\n",
    "import random\n",
    "import re\n",
    "import sys\n",
    "\n",
    "\n",
    "\n",
    "if __name__ == '__main__':\n",
    "    n = int(input().strip())\n",
    "    if (n % 2 == 1) : print(\"Weird\")\n",
    "    elif n % 2 == 0 and n>=2 and n<=5 : print(\"Not Weird\")\n",
    "    elif n % 2 == 0 and n>=6 and n<=20 : print(\"Weird\")\n",
    "    elif n % 2 == 0 and n>=20 : print(\"Not Weird\")\n"
   ]
  },
  {
   "cell_type": "markdown",
   "id": "246527e7",
   "metadata": {},
   "source": [
    "### Arithmetic Operators"
   ]
  },
  {
   "cell_type": "code",
   "execution_count": null,
   "id": "9263d42e",
   "metadata": {},
   "outputs": [],
   "source": [
    "if __name__ == '__main__':\n",
    "    a = int(input())\n",
    "    b = int(input())\n",
    "    \n",
    "    print(a+b)\n",
    "    print(a-b)\n",
    "    print(a*b)"
   ]
  },
  {
   "cell_type": "markdown",
   "id": "8572f6f6",
   "metadata": {},
   "source": [
    "### Python: Division"
   ]
  },
  {
   "cell_type": "code",
   "execution_count": null,
   "id": "871b75df",
   "metadata": {},
   "outputs": [],
   "source": [
    "if __name__ == '__main__':\n",
    "    a = int(input())\n",
    "    b = int(input())\n",
    "    \n",
    "    print(a//b)\n",
    "    print(a/b)"
   ]
  },
  {
   "cell_type": "markdown",
   "id": "39ba09bd",
   "metadata": {},
   "source": [
    "### Loops"
   ]
  },
  {
   "cell_type": "code",
   "execution_count": null,
   "id": "a8b1ad05",
   "metadata": {},
   "outputs": [],
   "source": [
    "if __name__ == '__main__':\n",
    "    n = int(input())\n",
    "    i = 0\n",
    "    if n >= 1 and n <= 20: \n",
    "        while(i < n):\n",
    "            print(i*i)\n",
    "            i += 1"
   ]
  },
  {
   "cell_type": "markdown",
   "id": "2356e275",
   "metadata": {},
   "source": [
    "### Write a function"
   ]
  },
  {
   "cell_type": "code",
   "execution_count": null,
   "id": "54bffb30",
   "metadata": {},
   "outputs": [],
   "source": [
    "def is_leap(year):\n",
    "    leap = False\n",
    "    \n",
    "    if year >= 1900 and year <= 100000 :\n",
    "        if year % 400 == 0 : \n",
    "            leap = True\n",
    "        elif year % 100 == 0:\n",
    "            leap = False\n",
    "        elif year % 4 == 0:\n",
    "            leap = True\n",
    "    return leap\n",
    "\n",
    "year = int(input())\n",
    "print(is_leap(year))"
   ]
  },
  {
   "cell_type": "markdown",
   "id": "6fa30705",
   "metadata": {},
   "source": [
    "### Print Function"
   ]
  },
  {
   "cell_type": "code",
   "execution_count": null,
   "id": "691778e7",
   "metadata": {},
   "outputs": [],
   "source": [
    "if __name__ == '__main__':\n",
    "    n = int(input())\n",
    "    numbers = []\n",
    "    i = 1\n",
    "    while(i<=n):\n",
    "        numbers.append(i)\n",
    "        i += 1\n",
    "\n",
    "    for i in numbers:\n",
    "        print(i, end=\"\")    "
   ]
  },
  {
   "cell_type": "markdown",
   "id": "0782b0aa",
   "metadata": {},
   "source": [
    "### List Comprehensions"
   ]
  },
  {
   "cell_type": "code",
   "execution_count": null,
   "id": "8ad4e194",
   "metadata": {},
   "outputs": [],
   "source": [
    "if __name__ == '__main__':\n",
    "    x = int(input())\n",
    "    y = int(input())\n",
    "    z = int(input())\n",
    "    n = int(input())\n",
    "    \n",
    "    dddlist = []\n",
    "    notSumToN = []\n",
    "    \n",
    "    i = 0\n",
    "    j = 0\n",
    "    k = 0\n",
    "    while (i <= x):\n",
    "        innerlist = []\n",
    "        if (i <= x and i >= 0): \n",
    "            innerlist.append(i)\n",
    "        if (j <= y and j >= 0): \n",
    "            innerlist.append(j)\n",
    "        if (k <= z and k >= 0): \n",
    "            innerlist.append(k)\n",
    "                \n",
    "        dddlist.append(innerlist)\n",
    "        if k < z: \n",
    "            k += 1\n",
    "        elif j < y: \n",
    "            j += 1\n",
    "            k = 0\n",
    "        elif i <= x: \n",
    "            i += 1\n",
    "            j = 0\n",
    "            k = 0\n",
    "    \n",
    "    for arr in dddlist:        \n",
    "        if arr[0] + arr[1] + arr[2] != n:\n",
    "            notSumToN.append(arr)\n",
    "    \n",
    "    print(notSumToN)\n"
   ]
  },
  {
   "cell_type": "markdown",
   "id": "fca12af4",
   "metadata": {},
   "source": [
    "### Find the Runner-Up Score!"
   ]
  },
  {
   "cell_type": "code",
   "execution_count": null,
   "id": "d4f66c3c",
   "metadata": {},
   "outputs": [],
   "source": [
    "if __name__ == '__main__':\n",
    "    n = int(input())\n",
    "    arr = map(int, input().split())\n",
    "    \n",
    "    max = -100\n",
    "    seconndMax = -100\n",
    "    \n",
    "    if n >= 2 and n <= 10:\n",
    "        for i in arr:\n",
    "            if i >= -100 and i <= 100:\n",
    "                if i > max:\n",
    "                    seconndMax = max\n",
    "                    max = i\n",
    "                elif i > seconndMax and i < max:\n",
    "                    seconndMax = i\n",
    "    print(seconndMax)\n"
   ]
  },
  {
   "cell_type": "markdown",
   "id": "4f691e20",
   "metadata": {},
   "source": [
    "### Nested List"
   ]
  },
  {
   "cell_type": "code",
   "execution_count": null,
   "id": "18984c1a",
   "metadata": {},
   "outputs": [],
   "source": [
    "if __name__ == '__main__':\n",
    "    \n",
    "    isFirstTime = 1\n",
    "    gradeList = []\n",
    "    minGrades = []\n",
    "    secondMinGrades = []\n",
    "    names = []\n",
    "    \n",
    "    numberOfStudents = int(input())\n",
    "    \n",
    "    if numberOfStudents >= 2 and numberOfStudents <= 5:\n",
    "        for index, n in enumerate(range(numberOfStudents)):\n",
    "            name = input()\n",
    "            score = float(input())\n",
    "            \n",
    "            gradeList.append([index, name, score])\n",
    "    \n",
    "    for i in gradeList:\n",
    "        if isFirstTime:\n",
    "            minGrades = [i]\n",
    "            secondMinGrades = [i]\n",
    "            isFirstTime = 0\n",
    "        elif i[2] < minGrades[0][2]:\n",
    "            secondMinGrades = minGrades\n",
    "            minGrades = [i]\n",
    "        elif i[2] == minGrades[0][2]:\n",
    "            minGrades.append(i)\n",
    "        elif i[2] > minGrades[0][2] and (i[2] < secondMinGrades[0][2] or secondMinGrades[0][2] == minGrades[0][2]):\n",
    "            secondMinGrades = [i]\n",
    "        elif i[2] == secondMinGrades[0][2]:\n",
    "            secondMinGrades.append(i)\n",
    "            \n",
    "    for i in secondMinGrades:\n",
    "        names.append(i[1])\n",
    "        \n",
    "    names.sort()\n",
    "    for n in names:\n",
    "        print(n)\n",
    "# 3\n",
    "# Test1\n",
    "# 52\n",
    "# Test2\n",
    "# 53\n",
    "# Test3\n",
    "# 53\n"
   ]
  },
  {
   "cell_type": "markdown",
   "id": "1af21e4f",
   "metadata": {},
   "source": [
    "### Lists"
   ]
  },
  {
   "cell_type": "code",
   "execution_count": null,
   "id": "3a53587a",
   "metadata": {},
   "outputs": [],
   "source": [
    "if __name__ == '__main__':\n",
    "    N = int(input())\n",
    "    \n",
    "    # list = []\n",
    "    # list[1] = 5\n",
    "    # list[2] = 10\n",
    "    # list[0] = 6\n",
    "    # print(list)\n",
    "    # list.remove(6)\n",
    "    # list.append(9)\n",
    "    # list.append(1)\n",
    "    # list.sort()\n",
    "    # print(list)\n",
    "    # list.pop()\n",
    "    # list.reverse()\n",
    "    # print(list)    \n",
    "\n",
    "    List=[]\n",
    "    for i in range(N):\n",
    "        command=input().split()\n",
    "        if command[0] == \"insert\":\n",
    "            List.insert(int(command[1]), int(command[2]))\n",
    "        elif command[0] == \"append\":\n",
    "            List.append(int(command[1]))\n",
    "        elif command[0] == \"pop\":\n",
    "            List.pop()\n",
    "        elif command[0] == \"print\":\n",
    "            print(List)\n",
    "        elif command[0] == \"remove\":\n",
    "            List.remove(int(command[1]))\n",
    "        elif command[0] == \"sort\":\n",
    "            List.sort()\n",
    "        else:\n",
    "            List.reverse()\n",
    "            \n"
   ]
  },
  {
   "cell_type": "markdown",
   "id": "22d02392",
   "metadata": {},
   "source": [
    "### Tuples"
   ]
  },
  {
   "cell_type": "code",
   "execution_count": null,
   "id": "8c73e7ef",
   "metadata": {},
   "outputs": [],
   "source": [
    "numberOfElementsInTuple = input()\n",
    "numbers = input()\n",
    "print(-hash(tuple(map(int, numbers.split(\" \")))))"
   ]
  },
  {
   "cell_type": "markdown",
   "id": "e26daf77",
   "metadata": {},
   "source": [
    "### Finding the percentage"
   ]
  },
  {
   "cell_type": "code",
   "execution_count": null,
   "id": "737704df",
   "metadata": {},
   "outputs": [],
   "source": [
    "if __name__ == '__main__':\n",
    "    n = int(input())\n",
    "    sum = 0\n",
    "    students = {}\n",
    "    for _ in range(n):\n",
    "        name, *marks = input().split()\n",
    "        scores = list(map(float, marks))\n",
    "        students[name] = scores\n",
    "    query_name = input()\n",
    "\n",
    "    # loop through the arrray in the dictionary that its name is equal to query_name \n",
    "    for i in students[query_name]:\n",
    "        sum += i\n",
    "    average = sum / len(students[query_name])\n",
    "    # float number with 2 decimals\n",
    "    print(\"%.2f\" %average)\n",
    "        \n",
    "    [52.0, 56.0, 60.0]\n",
    "    52.0\n",
    "    56.0\n",
    "    60.0\n",
    "    168.0\n",
    "    56.00\n"
   ]
  },
  {
   "cell_type": "markdown",
   "id": "cc5cbf31",
   "metadata": {},
   "source": [
    "### sWAP cASE"
   ]
  },
  {
   "cell_type": "code",
   "execution_count": null,
   "id": "8d8ec2fa",
   "metadata": {},
   "outputs": [],
   "source": [
    "def swap_case(s):\n",
    "    nweText = \"\"\n",
    "    if len(s) > 0 and len(s) <= 1000:\n",
    "        for i in s:\n",
    "            if i.islower(): \n",
    "                nweText = nweText + i.upper()\n",
    "            else:\n",
    "                nweText = nweText + i.lower()\n",
    "    return nweText\n",
    "\n",
    "if __name__ == '__main__':\n",
    "    s = input()\n",
    "    result = swap_case(s)\n",
    "    print(result)"
   ]
  },
  {
   "cell_type": "markdown",
   "id": "4a9fbfe5",
   "metadata": {},
   "source": [
    "### String Split and Join"
   ]
  },
  {
   "cell_type": "code",
   "execution_count": null,
   "id": "f5f40af3",
   "metadata": {},
   "outputs": [],
   "source": [
    "def split_and_join(line):\n",
    "    # write your code here\n",
    "    line = line.split(\" \")\n",
    "    line = \"-\".join(line)\n",
    "    return line\n",
    "\n",
    "if __name__ == '__main__':\n",
    "    line = input()\n",
    "    result = split_and_join(line)\n",
    "    print(result)"
   ]
  },
  {
   "cell_type": "markdown",
   "id": "32cde565",
   "metadata": {},
   "source": [
    "### What's Your Name?"
   ]
  },
  {
   "cell_type": "code",
   "execution_count": null,
   "id": "962bdf20",
   "metadata": {},
   "outputs": [],
   "source": [
    "def print_full_name(first, last):\n",
    "    # Write your code here\n",
    "    print(f\"Hello {first} {last}! You just delved into python.\")\n",
    "\n",
    "if __name__ == '__main__':\n",
    "    first_name = input()\n",
    "    last_name = input()\n",
    "    print_full_name(first_name, last_name)"
   ]
  },
  {
   "cell_type": "markdown",
   "id": "75d24e9f",
   "metadata": {},
   "source": [
    "### Mutation"
   ]
  },
  {
   "cell_type": "code",
   "execution_count": null,
   "id": "3d986411",
   "metadata": {},
   "outputs": [],
   "source": [
    "def mutate_string(string, position, character):\n",
    "    modifiedString = string[:position] + f\"{character}\" + string[position+1:]\n",
    "    return modifiedString\n",
    "\n",
    "if __name__ == '__main__':\n",
    "    s = input()\n",
    "    i, c = input().split()\n",
    "    s_new = mutate_string(s, int(i), c)\n",
    "    print(s_new)"
   ]
  },
  {
   "cell_type": "markdown",
   "id": "aca2fc16",
   "metadata": {},
   "source": [
    "### Find a string"
   ]
  },
  {
   "cell_type": "code",
   "execution_count": null,
   "id": "71dcf4f3",
   "metadata": {},
   "outputs": [],
   "source": [
    "def count_substring(string, sub_string):\n",
    "    counter=0\n",
    "    start_index=0\n",
    "    for i in range(len(string)):\n",
    "        j = string.find(sub_string, start_index)\n",
    "        if (j != -1):\n",
    "            start_index = j+1\n",
    "            counter+=1\n",
    "        \n",
    "    return counter\n",
    "\n",
    "if __name__ == '__main__':\n",
    "    string = input().strip()\n",
    "    sub_string = input().strip()\n",
    "    \n",
    "    count = count_substring(string, sub_string)\n",
    "    print(count)"
   ]
  },
  {
   "cell_type": "markdown",
   "id": "393a250b",
   "metadata": {},
   "source": [
    "### String Validators"
   ]
  },
  {
   "cell_type": "code",
   "execution_count": null,
   "id": "85217cff",
   "metadata": {},
   "outputs": [],
   "source": [
    "if __name__ == '__main__':\n",
    "    s = input()\n",
    "    one = 0\n",
    "    two = 0\n",
    "    three = 0\n",
    "    four = 0\n",
    "    five = 0\n",
    "    \n",
    "    for i in s:\n",
    "        one += 1\n",
    "        if i.isalnum():\n",
    "            print(\"True\")\n",
    "            break\n",
    "        if one == len(s):\n",
    "            print(\"False\")\n",
    "    \n",
    "    for i in s:\n",
    "        two += 1\n",
    "        if i.isalpha() and not i.isdigit():\n",
    "            print(\"True\")\n",
    "            break\n",
    "        if two == len(s):\n",
    "            print(\"False\")\n",
    "\n",
    "    for i in s:\n",
    "        three = three + 1\n",
    "        if i.isdigit():\n",
    "            print(\"True\")\n",
    "            break\n",
    "        if three == len(s):\n",
    "            print(\"False\")\n",
    "            break\n",
    "        \n",
    "    for i in s:\n",
    "        four += 1\n",
    "        if i.islower() and not i.isdigit():\n",
    "            print(\"True\")\n",
    "            break\n",
    "        if four == len(s):\n",
    "            print(\"False\")\n",
    "        \n",
    "    for i in s:\n",
    "        five += 1\n",
    "        if i.isupper() and not i.isdigit():\n",
    "            print(\"True\")\n",
    "            break\n",
    "        if five == len(s):\n",
    "            print(\"False\")\n",
    "\n",
    "    # 123\n",
    "    # True\n",
    "    # False\n",
    "    # True\n",
    "    # False\n",
    "    # False\n"
   ]
  },
  {
   "cell_type": "markdown",
   "id": "abaef40f",
   "metadata": {},
   "source": [
    "### Text Alignment"
   ]
  },
  {
   "cell_type": "code",
   "execution_count": null,
   "id": "71107a75",
   "metadata": {},
   "outputs": [],
   "source": [
    "thickness = int(input()) #This must be an odd number\n",
    "c = 'H'\n",
    "\n",
    "#Top Cone\n",
    "for i in range(thickness):\n",
    "    print((c*i).rjust(thickness-1)+c+(c*i).ljust(thickness-1))\n",
    "\n",
    "#Top Pillars\n",
    "for i in range(thickness+1):\n",
    "    print((c*thickness).center(thickness*2)+(c*thickness).center(thickness*6))\n",
    "\n",
    "#Middle Belt\n",
    "for i in range((thickness+1)//2):\n",
    "    print((c*thickness*5).center(thickness*6))    \n",
    "\n",
    "#Bottom Pillars\n",
    "for i in range(thickness+1):\n",
    "    print((c*thickness).center(thickness*2)+(c*thickness).center(thickness*6))    \n",
    "\n",
    "#Bottom Cone\n",
    "for i in range(thickness):\n",
    "    print(((c*(thickness-i-1)).rjust(thickness)+c+(c*(thickness-i-1)).ljust(thickness)).rjust(thickness*6))\n"
   ]
  },
  {
   "cell_type": "markdown",
   "id": "b0554ff3",
   "metadata": {},
   "source": [
    "### Text Wrap"
   ]
  },
  {
   "cell_type": "code",
   "execution_count": null,
   "id": "5b81ed21",
   "metadata": {},
   "outputs": [],
   "source": [
    "import textwrap\n",
    "\n",
    "def wrap(string, max_width):\n",
    "    \n",
    "    wrapper = textwrap.TextWrapper(width = max_width)\n",
    "    words = wrapper.wrap(text = string)\n",
    "    \n",
    "    text_part = \"\"\n",
    "    # a single text but seperated with \\n\n",
    "    for i in words:\n",
    "        text_part = text_part + i + \"\\n\"\n",
    "        \n",
    "    return text_part\n",
    "\n",
    "if __name__ == '__main__':\n",
    "    string, max_width = input(), int(input())\n",
    "    result = wrap(string, max_width)\n",
    "    print(result)"
   ]
  },
  {
   "cell_type": "markdown",
   "id": "d3a784d4",
   "metadata": {},
   "source": [
    "### Designer Door Mat"
   ]
  },
  {
   "cell_type": "code",
   "execution_count": null,
   "id": "b62c0b38",
   "metadata": {},
   "outputs": [],
   "source": [
    "N, M = map(int, input().split())\n",
    "# range (1, N, 2) means it start with i=1 and the steps will be 2\n",
    "for i in range(1, N, 2):\n",
    "    print(str('.|.' * i).center(M, '-'))\n",
    "# Write \"---Welcome---\" with the width of M\n",
    "print('WELCOME'.center(M, '-'))\n",
    "for i in range(N-2, -1, -2):\n",
    "    print(str('.|.' * i).center(M, '-'))"
   ]
  },
  {
   "cell_type": "markdown",
   "id": "4ff495aa",
   "metadata": {},
   "source": [
    "### String Formatting"
   ]
  },
  {
   "cell_type": "code",
   "execution_count": null,
   "id": "94890361",
   "metadata": {},
   "outputs": [],
   "source": [
    "def print_formatted(number):\n",
    "    # I habe NO clue\n",
    "if __name__ == '__main__':\n",
    "    n = int(input())\n",
    "    print_formatted(n)"
   ]
  },
  {
   "cell_type": "markdown",
   "id": "af2f3097",
   "metadata": {},
   "source": [
    "### Alphabet Rangoli"
   ]
  },
  {
   "cell_type": "code",
   "execution_count": null,
   "id": "93e8832a",
   "metadata": {},
   "outputs": [],
   "source": [
    "a = \"abcdefghijklmnopqrstuvwxyz\"\n",
    "\n",
    "# The following code is a COPY\n",
    "\n",
    "def print_rangoli(size):\n",
    "    \n",
    "    lines = []\n",
    "    for row in range(size):\n",
    "        print_ = \"-\".join(a[row:size])\n",
    "        lines.append(print_[::-1] + print_[1:])\n",
    "    width = len(lines[0])\n",
    "    \n",
    "    for row in range(size-1, 0, -1):\n",
    "        print(lines[row].center(width, '-'))\n",
    "        \n",
    "    for row in range(size):\n",
    "        print(lines[row].center(width, '-'))\n",
    "\n",
    "if __name__ == '__main__':\n",
    "    n = int(input())\n",
    "    print_rangoli(n)"
   ]
  },
  {
   "cell_type": "markdown",
   "id": "ac167448",
   "metadata": {},
   "source": [
    "### Capitalize!"
   ]
  },
  {
   "cell_type": "code",
   "execution_count": null,
   "id": "448d512e",
   "metadata": {},
   "outputs": [],
   "source": [
    "#!/bin/python3\n",
    "\n",
    "import math\n",
    "import os\n",
    "import random\n",
    "import re\n",
    "import sys\n",
    "\n",
    "capitalized_names = []\n",
    "\n",
    "def solve(s):\n",
    "    # 1st approach:\n",
    "    \n",
    "    # full_name = s.split()\n",
    "    # for name in full_name:\n",
    "    #     first_character = name[0].capitalize()\n",
    "    #     name = first_character + name[1:]\n",
    "    #     capitalized_names.append(name)\n",
    "    # return \" \".join(capitalized_names)\n",
    "    \n",
    "    # 2nd approach:\n",
    "    \n",
    "    for i in s.split():\n",
    "        s = s.replace(i, i.capitalize())\n",
    "        \n",
    "    return s\n",
    "    \n",
    "if __name__ == '__main__':\n",
    "    fptr = open(os.environ['OUTPUT_PATH'], 'w')\n",
    "\n",
    "    s = input()\n",
    "\n",
    "    result = solve(s)\n",
    "\n",
    "    fptr.write(result + '\\n')\n",
    "\n",
    "    fptr.close()"
   ]
  },
  {
   "cell_type": "markdown",
   "id": "5a19c0db",
   "metadata": {},
   "source": [
    "### Merge the Tools!"
   ]
  },
  {
   "cell_type": "code",
   "execution_count": null,
   "id": "0c7e9247",
   "metadata": {},
   "outputs": [],
   "source": [
    "# X"
   ]
  },
  {
   "cell_type": "markdown",
   "id": "9a5972f3",
   "metadata": {},
   "source": [
    "### The minion Game"
   ]
  },
  {
   "cell_type": "code",
   "execution_count": null,
   "id": "816ec41e",
   "metadata": {},
   "outputs": [],
   "source": [
    "# X"
   ]
  },
  {
   "cell_type": "markdown",
   "id": "6e2f4540",
   "metadata": {},
   "source": [
    "### Introduction to Sets"
   ]
  },
  {
   "cell_type": "code",
   "execution_count": null,
   "id": "a4db0e71",
   "metadata": {},
   "outputs": [],
   "source": [
    "def average(array):\n",
    "    arrSet = set()\n",
    "    sum = 0\n",
    "    for i in array:\n",
    "        arrSet.add(i)\n",
    "    for i in arrSet:\n",
    "        sum = sum + i\n",
    "    \n",
    "    mean = sum / len(arrSet)\n",
    "    return mean\n",
    "\n",
    "if __name__ == '__main__':\n",
    "    n = int(input())\n",
    "    arr = list(map(int, input().split()))\n",
    "    result = average(arr)\n",
    "    print(result)"
   ]
  },
  {
   "cell_type": "markdown",
   "id": "207a6594",
   "metadata": {},
   "source": [
    "### No idea!"
   ]
  },
  {
   "cell_type": "code",
   "execution_count": null,
   "id": "05ea62a9",
   "metadata": {},
   "outputs": [],
   "source": [
    "# First approach\n",
    "\n",
    "# N, M = map(int, input().split(\" \"))\n",
    "# n = set(list(map(int, input().split())))\n",
    "# A = set(list(map(int, input().split())))\n",
    "# B = set(list(map(int, input().split())))\n",
    "    \n",
    "# A_consideration = n.intersection(A)\n",
    "# B_consideration = n.intersection(B)\n",
    "\n",
    "# sumA = 0\n",
    "# sumB = 0\n",
    "# happiness = 0\n",
    "\n",
    "# for i in A_consideration:\n",
    "#     sumA += 1\n",
    "\n",
    "# for i in B_consideration:\n",
    "#     sumB += 1\n",
    "\n",
    "# happiness = sumA - sumB\n",
    "# print(happiness)\n",
    "\n",
    "# Second approach\n",
    "\n",
    "happiness = 0\n",
    "N, M = map(int, input().strip().split(' '))\n",
    "arr = list(map(int, input().strip().split(' ')))\n",
    "\n",
    "considered_good = set(map(int, input().strip().split(' ')))\n",
    "considered_bad = set(map(int, input().strip().split(' ')))\n",
    "\n",
    "for i in arr:\n",
    "    if i in considered_good:\n",
    "        happiness += 1\n",
    "    elif i in considered_bad:\n",
    "        happiness -= 1\n",
    "print(happiness)"
   ]
  },
  {
   "cell_type": "markdown",
   "id": "4c5d2fb7",
   "metadata": {},
   "source": [
    "### Symmetric Difference"
   ]
  },
  {
   "cell_type": "code",
   "execution_count": null,
   "id": "1ba0bcb7",
   "metadata": {},
   "outputs": [],
   "source": [
    "M = input()\n",
    "arrayM = list(map(int, input().split()))\n",
    "N = input()\n",
    "arrayN = list(map(int, input().split()))\n",
    "\n",
    "setM = set()\n",
    "setN = set()\n",
    "\n",
    "for m in arrayM:\n",
    "    setM.add(m)\n",
    "for n in arrayN:\n",
    "    setN.add(n)\n",
    "    \n",
    "setUnion = setM.union(setN)\n",
    "setIntersection = setM.intersection(setN)\n",
    "\n",
    "res = setUnion - set(setIntersection)\n",
    "finalList = list(res)\n",
    "finalList.sort()\n",
    "for i in finalList:\n",
    "    print(i)\n"
   ]
  },
  {
   "cell_type": "markdown",
   "id": "ebc4a6e5",
   "metadata": {},
   "source": [
    "### Set.add()"
   ]
  },
  {
   "cell_type": "code",
   "execution_count": null,
   "id": "5313f884",
   "metadata": {},
   "outputs": [],
   "source": [
    "N = int(input())\n",
    "Country = set()\n",
    "for i in range(N):\n",
    "    Country.add(input())\n",
    "print(len(Country))"
   ]
  },
  {
   "cell_type": "markdown",
   "id": "9410d214",
   "metadata": {},
   "source": [
    "### Set.discard(), .remove(), .pop()"
   ]
  },
  {
   "cell_type": "code",
   "execution_count": null,
   "id": "9055210f",
   "metadata": {},
   "outputs": [],
   "source": [
    "n = int(input())\n",
    "s = set(map(int, input().split()))\n",
    "\n",
    "for _ in range(int(input())):\n",
    "    # we used '_' because we do not care about the current value of the variable.\n",
    "\n",
    "    commands = input().split()\n",
    "\n",
    "    if commands[0] == 'discard':\n",
    "        s.discard(int(commands[1]))\n",
    "    elif commands[0] == 'remove':\n",
    "        s.remove(int(commands[1]))\n",
    "    elif commands[0] == 'pop':\n",
    "        s.pop()\n",
    "print(sum(s))"
   ]
  },
  {
   "cell_type": "markdown",
   "id": "017c2ed4",
   "metadata": {},
   "source": [
    "### Set .union() Operation"
   ]
  },
  {
   "cell_type": "code",
   "execution_count": null,
   "id": "76baf737",
   "metadata": {},
   "outputs": [],
   "source": [
    "n = int(input())\n",
    "english_students = set(map(int, input().split()))\n",
    "b = int(input())\n",
    "french_students = set(map(int, input().split()))\n",
    "\n",
    "print(len(english_students | french_students))"
   ]
  },
  {
   "cell_type": "markdown",
   "id": "3b54af64",
   "metadata": {},
   "source": [
    "### Set .intersection() Operation"
   ]
  },
  {
   "cell_type": "code",
   "execution_count": null,
   "id": "d50b8658",
   "metadata": {},
   "outputs": [],
   "source": [
    "n = int(input())\n",
    "english_students = set(map(int, input().split()))\n",
    "b = int(input())\n",
    "french_students = set(map(int, input().split()))\n",
    "\n",
    "print(len(english_students & french_students))"
   ]
  },
  {
   "cell_type": "markdown",
   "id": "10276175",
   "metadata": {},
   "source": [
    "### Set .difference() Operation"
   ]
  },
  {
   "cell_type": "code",
   "execution_count": null,
   "id": "930d69e2",
   "metadata": {},
   "outputs": [],
   "source": [
    "n = int(input())\n",
    "english_students = set(map(int, input().split()))\n",
    "b = int(input())\n",
    "french_students = set(map(int, input().split()))\n",
    "\n",
    "print(len(english_students - french_students))"
   ]
  },
  {
   "cell_type": "markdown",
   "id": "d0f54e4e",
   "metadata": {},
   "source": [
    "### Set .symmetric_difference() Operation"
   ]
  },
  {
   "cell_type": "code",
   "execution_count": null,
   "id": "ef10b70f",
   "metadata": {},
   "outputs": [],
   "source": [
    "n = int(input())\n",
    "english_students = set(map(int, input().split()))\n",
    "b = int(input())\n",
    "french_students = set(map(int, input().split()))\n",
    "\n",
    "print(len(english_students ^ french_students))"
   ]
  },
  {
   "cell_type": "markdown",
   "id": "b0b7a370",
   "metadata": {},
   "source": [
    "### Set Mutations"
   ]
  },
  {
   "cell_type": "code",
   "execution_count": null,
   "id": "d71ff581",
   "metadata": {},
   "outputs": [],
   "source": [
    "A = input()\n",
    "A_set = set(int(x) for x in input().split(' '))\n",
    "N = int(input())\n",
    "\n",
    "for _ in range(N):\n",
    "    operation_name, length = input().split(' ')\n",
    "    B_set = set(int(x) for x in input().split(' '))\n",
    "    if operation_name == \"update\":\n",
    "        A_set |= B_set\n",
    "    elif operation_name == \"intersection_update\":\n",
    "        A_set &= B_set\n",
    "    elif operation_name == \"difference_update\":\n",
    "        A_set -= B_set\n",
    "    elif operation_name == \"symmetric_difference_update\":\n",
    "        A_set ^= B_set\n",
    "\n",
    "print(sum(A_set))"
   ]
  },
  {
   "cell_type": "markdown",
   "id": "bf4a3146",
   "metadata": {},
   "source": [
    "### The Captain's Room"
   ]
  },
  {
   "cell_type": "code",
   "execution_count": null,
   "id": "3daa093d",
   "metadata": {},
   "outputs": [],
   "source": [
    "k = int(input())\n",
    "rooms = list(map(int, input().split()))\n",
    "set_rooms = set(rooms)\n",
    "roomSum = sum(rooms)\n",
    "set_roomSum = sum(set_rooms) * k\n",
    "captiansRoom = (set_roomSum - roomSum) // (k - 1)\n",
    "print(captiansRoom)"
   ]
  },
  {
   "cell_type": "markdown",
   "id": "3e0434d2",
   "metadata": {},
   "source": [
    "### Check Subset"
   ]
  },
  {
   "cell_type": "code",
   "execution_count": null,
   "id": "e0382300",
   "metadata": {},
   "outputs": [],
   "source": [
    "T = int(input())\n",
    "\n",
    "for _ in range(T):\n",
    "    a = int(input())\n",
    "    A = set(map(int, input().split()))\n",
    "    b = int(input())\n",
    "    B = set(map(int, input().split()))\n",
    "    print(A & B == A)"
   ]
  },
  {
   "cell_type": "markdown",
   "id": "06e1b9d9",
   "metadata": {},
   "source": [
    "### Check Subset"
   ]
  },
  {
   "cell_type": "code",
   "execution_count": null,
   "id": "5ae0dc82",
   "metadata": {},
   "outputs": [],
   "source": [
    "T = int(input())\n",
    "for _ in range(T):\n",
    "    _ = int(input())\n",
    "    A = set(map(int, input().split()))\n",
    "    b = int(input())\n",
    "    B = set(map(int, input().split()))\n",
    "    print(A & B == A)"
   ]
  },
  {
   "cell_type": "markdown",
   "id": "a9475c47",
   "metadata": {},
   "source": [
    "### Check Strict Superset"
   ]
  },
  {
   "cell_type": "code",
   "execution_count": null,
   "id": "01fcf05f",
   "metadata": {},
   "outputs": [],
   "source": [
    "A = set(input().split())\n",
    "n = int(input())\n",
    "result = True\n",
    "\n",
    "for i in range(n):\n",
    "    B = set(input().split())\n",
    "    if not B.issubset(A):\n",
    "        result = False\n",
    "    if len(B) >= len(A):\n",
    "        result = False\n",
    "print(result)"
   ]
  },
  {
   "cell_type": "markdown",
   "id": "37ca39c4",
   "metadata": {},
   "source": [
    "\n",
    "### collections.Counter()"
   ]
  },
  {
   "cell_type": "code",
   "execution_count": null,
   "id": "0cd2b09b",
   "metadata": {},
   "outputs": [],
   "source": [
    "from collections import Counter\n",
    "x = int(input())\n",
    "size_arr = Counter(map(int, input().split()))\n",
    "N = int(input())\n",
    "\n",
    "total = 0\n",
    "for i in range(N):\n",
    "    size, price = map(int, input().split())\n",
    "    if size_arr[size]:\n",
    "        size_arr[size] = size_arr[size] - 1\n",
    "        total = total + price\n",
    "print(total)\n",
    "\n",
    "# [6, 55]\n",
    "# [6, 45]\n",
    "# [6, 55]\n",
    "# [4, 40]\n",
    "# [18, 60]\n",
    "# [10, 50]"
   ]
  },
  {
   "cell_type": "markdown",
   "id": "f0893233",
   "metadata": {},
   "source": [
    "### Calendar Module"
   ]
  },
  {
   "cell_type": "code",
   "execution_count": null,
   "id": "fb2bd4c8",
   "metadata": {},
   "outputs": [],
   "source": [
    "import calendar\n",
    "\n",
    "mm, dd, yy = map(int, input().strip().split())\n",
    "date = calendar.day_name[calendar.weekday(yy, mm, dd)]\n",
    "upperCaseDate = date.upper()\n",
    "print(upperCaseDate)"
   ]
  },
  {
   "cell_type": "markdown",
   "id": "f28a547c",
   "metadata": {},
   "source": [
    "### Time Delta"
   ]
  },
  {
   "cell_type": "code",
   "execution_count": null,
   "id": "4250365c",
   "metadata": {},
   "outputs": [],
   "source": [
    "#!/bin/python3\n",
    "\n",
    "import math\n",
    "import os\n",
    "import random\n",
    "import re\n",
    "import sys\n",
    "from datetime import datetime\n",
    "\n",
    "# Complete the time_delta function below.\n",
    "def time_delta(time_1, time_2):\n",
    "    t1 = datetime.strptime(time_1, '%a %d %b %Y %H:%M:%S %z')\n",
    "    t2 = datetime.strptime(time_2, '%a %d %b %Y %H:%M:%S %z')\n",
    "    differences_in_second = int((t1-t2).total_seconds()) \n",
    "    absolute_time = abs(differences_in_second)\n",
    "    return str(absolute_time)\n",
    "\n",
    "if __name__ == '__main__':\n",
    "    fptr = open(os.environ['OUTPUT_PATH'], 'w')\n",
    "\n",
    "    t = int(input())\n",
    "\n",
    "    for t_itr in range(t):\n",
    "        t1 = input()\n",
    "\n",
    "        t2 = input()\n",
    "\n",
    "        delta = time_delta(t1, t2)\n",
    "\n",
    "        fptr.write(delta + '\\n')\n",
    "\n",
    "    fptr.close()\n"
   ]
  },
  {
   "cell_type": "markdown",
   "id": "d040da75",
   "metadata": {},
   "source": [
    "### Exceptions"
   ]
  },
  {
   "cell_type": "code",
   "execution_count": null,
   "id": "03100b29",
   "metadata": {},
   "outputs": [],
   "source": [
    "T_number = int(input())\n",
    "\n",
    "for i in range(T_number):\n",
    "    try:\n",
    "        a, b = map(int, input().split())\n",
    "        \n",
    "        print(int(a//b))\n",
    "    except Exception as error:\n",
    "        print(\"Error Code:\", error)"
   ]
  },
  {
   "cell_type": "markdown",
   "id": "c14b0fa9",
   "metadata": {},
   "source": [
    "### Zipped!"
   ]
  },
  {
   "cell_type": "code",
   "execution_count": null,
   "id": "639071ad",
   "metadata": {},
   "outputs": [],
   "source": [
    "students, subjects = input().split()\n",
    "marks = []\n",
    "\n",
    "for _ in range(int(subjects)):\n",
    "    marks.append(map(float, input().split()))\n",
    "\n",
    "for item in zip(*marks):\n",
    "    print(sum(item)/ len(item))"
   ]
  },
  {
   "cell_type": "markdown",
   "id": "6f71ef60",
   "metadata": {},
   "source": [
    "### ginortS"
   ]
  },
  {
   "cell_type": "code",
   "execution_count": null,
   "id": "b90708a3",
   "metadata": {},
   "outputs": [],
   "source": [
    "S = input()\n",
    "uppercase = []\n",
    "lowercase = []\n",
    "odd_number = []\n",
    "even_number = []\n",
    "\n",
    "for i in S:\n",
    "    # if i is a number\n",
    "    if i.isnumeric():\n",
    "        # even if it is an even number or not\n",
    "        if int(i)%2 == 0:\n",
    "            even_number.append(i)\n",
    "        else:\n",
    "            odd_number.append(i)\n",
    "    else:\n",
    "    # in case of being a character check uppercase and lower case:\n",
    "        if i.isupper():\n",
    "            uppercase.append(i)\n",
    "        else:\n",
    "            lowercase.append(i)\n",
    "\n",
    "result = \"\".join(sorted(lowercase)+sorted(uppercase)+sorted(odd_number)+sorted(even_number))\n",
    "print(result)"
   ]
  },
  {
   "cell_type": "markdown",
   "id": "584da534",
   "metadata": {},
   "source": [
    "## Problem Solving - using Python"
   ]
  },
  {
   "cell_type": "markdown",
   "id": "6627dafe",
   "metadata": {},
   "source": [
    "--------------------------------------------------------"
   ]
  },
  {
   "cell_type": "markdown",
   "id": "02b0c263",
   "metadata": {},
   "source": [
    "### Solve Me First"
   ]
  },
  {
   "cell_type": "code",
   "execution_count": null,
   "id": "5c55a972",
   "metadata": {},
   "outputs": [],
   "source": [
    "def solveMeFirst(a,b):\n",
    "\n",
    "num1 = int(input())\n",
    "num2 = int(input())\n",
    "res = solveMeFirst(num1,num2)\n",
    "print(res)"
   ]
  },
  {
   "cell_type": "markdown",
   "id": "555c2d5d",
   "metadata": {},
   "source": [
    "### Simple Array Sum"
   ]
  },
  {
   "cell_type": "code",
   "execution_count": null,
   "id": "a320c975",
   "metadata": {},
   "outputs": [],
   "source": [
    "#!/bin/python3\n",
    "\n",
    "import math\n",
    "import os\n",
    "import random\n",
    "import re\n",
    "import sys\n",
    "\n",
    "#\n",
    "# Complete the 'simpleArraySum' function below.\n",
    "#\n",
    "# The function is expected to return an INTEGER.\n",
    "# The function accepts INTEGER_ARRAY ar as parameter.\n",
    "#\n",
    "\n",
    "def simpleArraySum(ar):\n",
    "    sum = 0\n",
    "    for i in ar:\n",
    "        if 0 < i or i <= 1000:\n",
    "            sum += i\n",
    "    return sum\n",
    "\n",
    "if __name__ == '__main__':\n",
    "    fptr = open(os.environ['OUTPUT_PATH'], 'w')\n",
    "\n",
    "    ar_count = int(input().strip())\n",
    "\n",
    "    ar = list(map(int, input().rstrip().split()))\n",
    "\n",
    "    result = simpleArraySum(ar)\n",
    "\n",
    "    fptr.write(str(result) + '\\n')\n",
    "\n",
    "    fptr.close()"
   ]
  },
  {
   "cell_type": "markdown",
   "id": "5d609a71",
   "metadata": {},
   "source": [
    "### Compare the Triplets"
   ]
  },
  {
   "cell_type": "code",
   "execution_count": null,
   "id": "e0531e1e",
   "metadata": {},
   "outputs": [],
   "source": [
    "#!/bin/python3\n",
    "\n",
    "import math\n",
    "import os\n",
    "import random\n",
    "import re\n",
    "import sys\n",
    "\n",
    "#\n",
    "# Complete the 'compareTriplets' function below.\n",
    "#\n",
    "# The function is expected to return an INTEGER_ARRAY.\n",
    "# The function accepts following parameters:\n",
    "#  1. INTEGER_ARRAY a\n",
    "#  2. INTEGER_ARRAY b\n",
    "#\n",
    "\n",
    "def compareTriplets(a, b):\n",
    "    score_a = 0\n",
    "    score_b = 0\n",
    "    i = 0\n",
    "    \n",
    "    while i < len(a):\n",
    "        if a[i] > b[i] : score_a += 1\n",
    "        elif a[i] < b[i] : score_b += 1\n",
    "        i += 1\n",
    "\n",
    "    return [score_a, score_b]\n",
    "\n",
    "if __name__ == '__main__':\n",
    "    fptr = open(os.environ['OUTPUT_PATH'], 'w')\n",
    "\n",
    "    a = list(map(int, input().rstrip().split()))\n",
    "\n",
    "    b = list(map(int, input().rstrip().split()))\n",
    "\n",
    "    result = compareTriplets(a, b)\n",
    "\n",
    "    fptr.write(' '.join(map(str, result)))\n",
    "    fptr.write('\\n')\n",
    "\n",
    "    fptr.close()\n"
   ]
  },
  {
   "cell_type": "markdown",
   "id": "49401907",
   "metadata": {},
   "source": [
    "### A Very Big Sum"
   ]
  },
  {
   "cell_type": "code",
   "execution_count": null,
   "id": "40c74c27",
   "metadata": {},
   "outputs": [],
   "source": [
    "#!/bin/python3\n",
    "\n",
    "import math\n",
    "import os\n",
    "import random\n",
    "import re\n",
    "import sys\n",
    "\n",
    "#\n",
    "# Complete the 'aVeryBigSum' function below.\n",
    "#\n",
    "# The function is expected to return a LONG_INTEGER.\n",
    "# The function accepts LONG_INTEGER_ARRAY ar as parameter.\n",
    "#\n",
    "\n",
    "def aVeryBigSum(ar):\n",
    "    # Write your code here\n",
    "    sum = 0\n",
    "    for i in ar:\n",
    "        sum += i\n",
    "    return sum    \n",
    "\n",
    "if __name__ == '__main__':\n",
    "    fptr = open(os.environ['OUTPUT_PATH'], 'w')\n",
    "\n",
    "    ar_count = int(input().strip())\n",
    "\n",
    "    ar = list(map(int, input().rstrip().split()))\n",
    "\n",
    "    result = aVeryBigSum(ar)\n",
    "\n",
    "    fptr.write(str(result) + '\\n')\n",
    "\n",
    "    fptr.close()\n"
   ]
  },
  {
   "cell_type": "markdown",
   "id": "092c0f78",
   "metadata": {},
   "source": [
    "### Diagonal Difference"
   ]
  },
  {
   "cell_type": "code",
   "execution_count": null,
   "id": "813fb226",
   "metadata": {},
   "outputs": [],
   "source": [
    "#!/bin/python3\n",
    "\n",
    "import math\n",
    "import os\n",
    "import random\n",
    "import re\n",
    "import sys\n",
    "\n",
    "#\n",
    "# Complete the 'diagonalDifference' function below.\n",
    "#\n",
    "# The function is expected to return an INTEGER.\n",
    "# The function accepts 2D_INTEGER_ARRAY arr as parameter.\n",
    "#\n",
    "\n",
    "def diagonalDifference(arr):\n",
    "    # Write your code here\n",
    "\n",
    "if __name__ == '__main__':\n",
    "    fptr = open(os.environ['OUTPUT_PATH'], 'w')\n",
    "\n",
    "    n = int(input().strip())\n",
    "\n",
    "    arr = []\n",
    "\n",
    "    for _ in range(n):\n",
    "        arr.append(list(map(int, input().rstrip().split())))\n",
    "\n",
    "    result = diagonalDifference(arr)\n",
    "\n",
    "    fptr.write(str(result) + '\\n')\n",
    "\n",
    "    fptr.close()\n"
   ]
  },
  {
   "cell_type": "markdown",
   "id": "2917c744",
   "metadata": {},
   "source": [
    "### Viral Advertising"
   ]
  },
  {
   "cell_type": "code",
   "execution_count": null,
   "id": "bc71bcba",
   "metadata": {},
   "outputs": [],
   "source": [
    "#!/bin/python3\n",
    "\n",
    "import math\n",
    "import os\n",
    "import random\n",
    "import re\n",
    "import sys\n",
    "\n",
    "#\n",
    "# Complete the 'viralAdvertising' function below.\n",
    "#\n",
    "# The function is expected to return an INTEGER.\n",
    "# The function accepts INTEGER n as parameter.\n",
    "#\n",
    "\n",
    "def viralAdvertising(n):\n",
    "    i = 1\n",
    "    shares = n\n",
    "    likes = math.floor(shares / 2)\n",
    "    \n",
    "    while i <= n:\n",
    "        i = i + 1\n",
    "        shares = likes * 3\n",
    "        likes = likes + math.floor(shares / 2)\n",
    "    \n",
    "    return likes\n",
    "        \n",
    "\n",
    "if __name__ == '__main__':\n",
    "    fptr = open(os.environ['OUTPUT_PATH'], 'w')\n",
    "\n",
    "    n = int(input().strip())\n",
    "\n",
    "    result = viralAdvertising(n)\n",
    "\n",
    "    fptr.write(str(result) + '\\n')\n",
    "\n",
    "    fptr.close()\n"
   ]
  },
  {
   "cell_type": "markdown",
   "id": "932da64d",
   "metadata": {},
   "source": [
    "### Re.split()"
   ]
  },
  {
   "cell_type": "code",
   "execution_count": null,
   "id": "1ecb30ac",
   "metadata": {},
   "outputs": [],
   "source": [
    "regex_pattern = r\"[.,]+\"\t# Do not delete 'r'.\n",
    "\n",
    "import re\n",
    "print(\"\\n\".join(re.split(regex_pattern, input())))"
   ]
  },
  {
   "cell_type": "markdown",
   "id": "4f44d801",
   "metadata": {},
   "source": [
    "### XML 1 - Find the Score"
   ]
  },
  {
   "cell_type": "code",
   "execution_count": null,
   "id": "70c29d10",
   "metadata": {},
   "outputs": [],
   "source": [
    "import sys\n",
    "import xml.etree.ElementTree as etree\n",
    "\n",
    "def get_attr_number(node):\n",
    "    number = 0\n",
    "    # map through html to find tags\n",
    "    for html in node:\n",
    "        # print(get_attr_number(html))\n",
    "        number = number + get_attr_number(html)\n",
    "    \n",
    "    return number + len(node.attrib)\n",
    "\n",
    "# 0\n",
    "# 1\n",
    "# 3\n",
    "# 0\n",
    "\n",
    "if __name__ == '__main__':\n",
    "    sys.stdin.readline()\n",
    "    xml = sys.stdin.read()\n",
    "    tree = etree.ElementTree(etree.fromstring(xml))\n",
    "    root = tree.getroot()\n",
    "    print(get_attr_number(root))"
   ]
  },
  {
   "cell_type": "markdown",
   "id": "0de05785",
   "metadata": {},
   "source": [
    "### Numpy Arrays"
   ]
  },
  {
   "cell_type": "code",
   "execution_count": null,
   "id": "bcbac15f",
   "metadata": {},
   "outputs": [],
   "source": [
    "import numpy\n",
    "\n",
    "def arrays(arr):\n",
    "    # In [1]: 'abc'[::-1]\n",
    "    # Out[1]: 'cba'\n",
    "    # In [2]: 'abc'[slice(None,None,-1)]\n",
    "    # Out[2]: 'cba'\n",
    "    return (numpy.array(arr[::-1], float))\n",
    " \n",
    "arr = input().strip().split(' ')\n",
    "result = arrays(arr)\n",
    "print(result)"
   ]
  },
  {
   "cell_type": "markdown",
   "id": "7f7ebbde",
   "metadata": {},
   "source": [
    "### Numpy Shape and Reshape"
   ]
  },
  {
   "cell_type": "code",
   "execution_count": null,
   "id": "fb97e964",
   "metadata": {},
   "outputs": [],
   "source": [
    "import numpy\n",
    " \n",
    "arr = input().split(' ')\n",
    "numpy_arr = numpy.array(arr, int)\n",
    "print(numpy_arr.reshape(3, 3))"
   ]
  },
  {
   "cell_type": "markdown",
   "id": "ab453c33",
   "metadata": {},
   "source": [
    "--------------------------------------------------------"
   ]
  },
  {
   "cell_type": "markdown",
   "id": "fcd8b1b7",
   "metadata": {},
   "source": [
    "## Problem 2"
   ]
  },
  {
   "cell_type": "markdown",
   "id": "d6aed32d",
   "metadata": {},
   "source": [
    "--------------------------------------------------------"
   ]
  },
  {
   "cell_type": "markdown",
   "id": "117d94d2",
   "metadata": {},
   "source": [
    "### Birthday Cake Candles"
   ]
  },
  {
   "cell_type": "code",
   "execution_count": null,
   "id": "88665981",
   "metadata": {},
   "outputs": [],
   "source": [
    "#!/bin/python3\n",
    "\n",
    "import math\n",
    "import os\n",
    "import random\n",
    "import re\n",
    "import sys\n",
    "\n",
    "#\n",
    "# Complete the 'birthdayCakeCandles' function below.\n",
    "#\n",
    "# The function is expected to return an INTEGER.\n",
    "# The function accepts INTEGER_ARRAY candles as parameter.\n",
    "#\n",
    "\n",
    "def birthdayCakeCandles(candles):\n",
    "    count = 0\n",
    "    maximum = 0\n",
    "    \n",
    "    for i in candles:\n",
    "        if i > maximum:\n",
    "            maximum = i\n",
    "            count = 1\n",
    "        elif maximum == i:\n",
    "            count += 1\n",
    "    return count\n",
    "\n",
    "if __name__ == '__main__':\n",
    "    fptr = open(os.environ['OUTPUT_PATH'], 'w')\n",
    "\n",
    "    candles_count = int(input().strip())\n",
    "\n",
    "    candles = list(map(int, input().rstrip().split()))\n",
    "\n",
    "    result = birthdayCakeCandles(candles)\n",
    "\n",
    "    fptr.write(str(result) + '\\n')\n",
    "\n",
    "    fptr.close()\n"
   ]
  },
  {
   "cell_type": "markdown",
   "id": "ddbedd8d",
   "metadata": {},
   "source": [
    "### Number Line Jumps"
   ]
  },
  {
   "cell_type": "code",
   "execution_count": null,
   "id": "75b1776d",
   "metadata": {},
   "outputs": [],
   "source": [
    "#!/bin/python3\n",
    "\n",
    "import math\n",
    "import os\n",
    "import random\n",
    "import re\n",
    "import sys\n",
    "\n",
    "#\n",
    "# Complete the 'kangaroo' function below.\n",
    "#\n",
    "# The function is expected to return a STRING.\n",
    "# The function accepts following parameters:\n",
    "#  1. INTEGER x1\n",
    "#  2. INTEGER v1\n",
    "#  3. INTEGER x2\n",
    "#  4. INTEGER v2\n",
    "#\n",
    "\n",
    "def kangaroo(x1, v1, x2, v2):\n",
    "    # Write your code here\n",
    "    speedA = x1 + v1\n",
    "    speedB = x2 + v2\n",
    "    \n",
    "    while x1 < x2 and x2 < 100000000 and x1 < 100000000:\n",
    "        if (x1 + v1 == x2 + v2):\n",
    "            return \"YES\"\n",
    "            break\n",
    "        else:\n",
    "            x1 += v1\n",
    "            x2 += v2\n",
    "    return \"NO\"\n",
    "\n",
    "if __name__ == '__main__':\n",
    "    fptr = open(os.environ['OUTPUT_PATH'], 'w')\n",
    "\n",
    "    first_multiple_input = input().rstrip().split()\n",
    "\n",
    "    x1 = int(first_multiple_input[0])\n",
    "\n",
    "    v1 = int(first_multiple_input[1])\n",
    "\n",
    "    x2 = int(first_multiple_input[2])\n",
    "\n",
    "    v2 = int(first_multiple_input[3])\n",
    "\n",
    "    result = kangaroo(x1, v1, x2, v2)\n",
    "\n",
    "    fptr.write(result + '\\n')\n",
    "\n",
    "    fptr.close()\n"
   ]
  },
  {
   "cell_type": "markdown",
   "id": "13fe16de",
   "metadata": {},
   "source": [
    "### Viral Advertising"
   ]
  },
  {
   "cell_type": "code",
   "execution_count": null,
   "id": "704bf0c1",
   "metadata": {},
   "outputs": [],
   "source": [
    "#!/bin/python3\n",
    "\n",
    "import math\n",
    "import os\n",
    "import random\n",
    "import re\n",
    "import sys\n",
    "\n",
    "#\n",
    "# Complete the 'viralAdvertising' function below.\n",
    "#\n",
    "# The function is expected to return an INTEGER.\n",
    "# The function accepts INTEGER n as parameter.\n",
    "#\n",
    "\n",
    "def viralAdvertising(n):\n",
    "    shares =5\n",
    "    cumulative=0\n",
    "    i = 0\n",
    "\n",
    "    while (i < n):\n",
    "        i += 1\n",
    "        liked = math.floor(shares / 2)\n",
    "        cumulative += liked\n",
    "        shares = liked * 3\n",
    "\n",
    "    return cumulative\n",
    "        \n",
    "\n",
    "if __name__ == '__main__':\n",
    "    fptr = open(os.environ['OUTPUT_PATH'], 'w')\n",
    "\n",
    "    n = int(input().strip())\n",
    "\n",
    "    result = viralAdvertising(n)\n",
    "\n",
    "    fptr.write(str(result) + '\\n')\n",
    "\n",
    "    fptr.close()\n"
   ]
  },
  {
   "cell_type": "markdown",
   "id": "cab39833",
   "metadata": {},
   "source": [
    "### Recursive Digit Sum"
   ]
  },
  {
   "cell_type": "code",
   "execution_count": null,
   "id": "e60c9f7d",
   "metadata": {},
   "outputs": [],
   "source": [
    "#!/bin/python3\n",
    "\n",
    "import math\n",
    "import os\n",
    "import random\n",
    "import re\n",
    "import sys\n",
    "    \n",
    "def superDigit(n, k):\n",
    "    n = n * k\n",
    "    # 148148148\n",
    "    summation = int(n)\n",
    "    temp = 0\n",
    "    while len(str(summation)) > 1:\n",
    "        temp = 0\n",
    "        for i in str(summation):\n",
    "            temp = temp + int(i)\n",
    "        summation = temp\n",
    "    return summation\n",
    "    \n",
    "if __name__ == '__main__':\n",
    "    fptr = open(os.environ['OUTPUT_PATH'], 'w')\n",
    "\n",
    "    first_multiple_input = input().rstrip().split()\n",
    "\n",
    "    n = first_multiple_input[0]\n",
    "\n",
    "    k = int(first_multiple_input[1])\n",
    "\n",
    "    result = superDigit(n, k)\n",
    "\n",
    "    fptr.write(str(result) + '\\n')\n",
    "\n",
    "    fptr.close()\n"
   ]
  },
  {
   "cell_type": "markdown",
   "id": "0fbe2442",
   "metadata": {},
   "source": [
    "### Insertion Sort - Part 1"
   ]
  },
  {
   "cell_type": "code",
   "execution_count": null,
   "id": "5460ff50",
   "metadata": {},
   "outputs": [],
   "source": [
    "#!/bin/python3\n",
    "\n",
    "import math\n",
    "import os\n",
    "import random\n",
    "import re\n",
    "import sys\n",
    "\n",
    "#\n",
    "# Complete the 'insertionSort1' function below.\n",
    "#\n",
    "# The function accepts following parameters:\n",
    "#  1. INTEGER n\n",
    "#  2. INTEGER_ARRAY arr\n",
    "#\n",
    "\n",
    "def insertionSort1(n, arr):\n",
    "    # Write your code here\n",
    "    stored = 0\n",
    "    sorted_row = ''\n",
    "    first_time = True\n",
    "    \n",
    "    for index, i in enumerate(reversed(arr)):\n",
    "        if first_time:\n",
    "            first_time = False\n",
    "            \n",
    "            if i >= arr[index-2]:\n",
    "                print(arr)\n",
    "            else:\n",
    "                stored = i\n",
    "                # print(stored) # 3\n",
    "                # print(index) # 0 -> first index\n",
    "                # print(arr[index]) # 2 first cell\n",
    "                # print(len(arr) - 1) # 4 -> last index\n",
    "                # print(arr[len(arr) - 1]) # 3 -> last cell\n",
    "                \n",
    "                arr[len(arr) - (index+1)] = arr[len(arr) - (index+2)]   # shift 8 to 3\n",
    "                for i in arr:\n",
    "                    print(i, end = ' ')\n",
    "                print(\"\\n\")\n",
    "        else:\n",
    "            if stored > i:\n",
    "                print('Hi')\n",
    "                arr[len(arr) - (index)] = stored\n",
    "                for i in arr:\n",
    "                    print(i, end = ' ')\n",
    "                print(\"\\n\")\n",
    "                break\n",
    "            else:\n",
    "                arr[len(arr) - (index+1)] = arr[len(arr) - (index+2)]   # shift 8 to 3\n",
    "                for i in arr:\n",
    "                    print(i, end = ' ')\n",
    "                print(\"\\n\")\n",
    "    # 3\n",
    "    # 8\n",
    "    # 6\n",
    "    # 4\n",
    "    # 2\n",
    "    \n",
    "if __name__ == '__main__':\n",
    "    n = int(input().strip())\n",
    "\n",
    "    arr = list(map(int, input().rstrip().split()))\n",
    "\n",
    "    insertionSort1(n, arr)\n"
   ]
  },
  {
   "cell_type": "markdown",
   "id": "a67c5dde",
   "metadata": {},
   "source": [
    "### Insertion Sort - Part 2"
   ]
  },
  {
   "cell_type": "code",
   "execution_count": null,
   "id": "847042bf",
   "metadata": {},
   "outputs": [],
   "source": [
    "#!/bin/python3\n",
    "\n",
    "import math\n",
    "import os\n",
    "import random\n",
    "import re\n",
    "import sys\n",
    "\n",
    "#\n",
    "# Complete the 'insertionSort2' function below.\n",
    "#\n",
    "# The function accepts following parameters:\n",
    "#  1. INTEGER n\n",
    "#  2. INTEGER_ARRAY arr\n",
    "#\n",
    "\n",
    "def insertionSort2(n, arr):\n",
    "    temp = 0\n",
    "    maximum = len(arr)\n",
    "\n",
    "    for i in range(0, maximum):\n",
    "        for j in range(i+1, len(arr)):\n",
    "            if (arr[i] > arr[j]):\n",
    "                temp = arr[i]\n",
    "                arr[i] = arr[j]\n",
    "                arr[j] = temp\n",
    "\n",
    "    for i in range(0, maximum):\n",
    "        print(arr[i], end=\" \")\n",
    "    \n",
    "    # temp = 0;\n",
    "    # i = 0\n",
    "    # while i < len(arr):\n",
    "    #     n = 1\n",
    "    #     while (n < len(arr)):\n",
    "    #     # for n in range(1, i):\n",
    "    #         if arr[n] < arr[i]:\n",
    "    #             temp = arr[i]\n",
    "    #             arr[i] = arr[n]\n",
    "    #             arr[n] = temp\n",
    "    #         n += 1\n",
    "    #     i += 1\n",
    "        \n",
    "\n",
    "if __name__ == '__main__':\n",
    "    n = int(input().strip())\n",
    "\n",
    "    arr = list(map(int, input().rstrip().split()))\n",
    "\n",
    "    insertionSort2(n, arr)\n"
   ]
  }
 ],
 "metadata": {
  "kernelspec": {
   "display_name": "Python 3 (ipykernel)",
   "language": "python",
   "name": "python3"
  },
  "language_info": {
   "codemirror_mode": {
    "name": "ipython",
    "version": 3
   },
   "file_extension": ".py",
   "mimetype": "text/x-python",
   "name": "python",
   "nbconvert_exporter": "python",
   "pygments_lexer": "ipython3",
   "version": "3.10.5"
  }
 },
 "nbformat": 4,
 "nbformat_minor": 5
}

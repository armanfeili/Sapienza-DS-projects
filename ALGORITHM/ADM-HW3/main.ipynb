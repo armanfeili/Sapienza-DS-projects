{
 "cells": [
  {
   "cell_type": "code",
   "execution_count": 1,
   "metadata": {
    "ExecuteTime": {
     "end_time": "2023-11-24T15:43:59.069654Z",
     "start_time": "2023-11-24T15:43:55.130218Z"
    },
    "collapsed": false,
    "jupyter": {
     "outputs_hidden": false
    }
   },
   "outputs": [],
   "source": [
    "# Libraries\n",
    "import numpy as np\n",
    "import pandas as pd\n",
    "import csv\n",
    "from bs4 import BeautifulSoup\n",
    "import requests\n",
    "import re\n",
    "import os\n",
    "from urllib.request import urlopen\n",
    "import time\n",
    "from concurrent.futures import ThreadPoolExecutor\n",
    "\n",
    "import nltk\n",
    "import string\n",
    "from nltk.corpus import stopwords\n",
    "from nltk.stem import PorterStemmer\n",
    "import matplotlib.pyplot as plt\n",
    "from collections import Counter\n",
    "from functools import reduce\n",
    "import json\n",
    "import heapq\n",
    "\n",
    "from geopy.geocoders import Nominatim\n",
    "geolocator = Nominatim(user_agent=\"my_geocoder\")\n",
    "import plotly.express as px\n",
    "import plotly.graph_objects as go"
   ]
  },
  {
   "cell_type": "markdown",
   "metadata": {
    "collapsed": false,
    "jupyter": {
     "outputs_hidden": false
    }
   },
   "source": [
    "# 1. Data collection\n",
    "\n",
    "## 1.1. Get the list of master's degree courses\n",
    "We created a file named 'urls.txt' that contains all the urls associated with the url of each master page.\n",
    "for reaching such purpose, we iterate over all 400 pages and took the link for every 15 urls of each page.\n",
    "we stored all urls in 'urls.txt' file."
   ]
  },
  {
   "cell_type": "code",
   "execution_count": 2,
   "metadata": {
    "ExecuteTime": {
     "end_time": "2023-11-18T16:31:44.436742Z",
     "start_time": "2023-11-18T16:29:57.119032Z"
    }
   },
   "outputs": [
    {
     "name": "stdout",
     "output_type": "stream",
     "text": [
      "The \"urls.txt\" file already exists.\n"
     ]
    }
   ],
   "source": [
    "file_path = \"/Users/armanfeili/Arman/Sapienza Courses/ADM/Homeworks/HW3/phase-6/ADM-HW3/urls.txt\"\n",
    "\n",
    "if not os.path.exists(file_path):\n",
    "    with open(file_path, \"w\") as f:\n",
    "        for i in range(1, 401):\n",
    "            url = f\"https://www.findamasters.com/masters-degrees/msc-degrees/?PG={i}\"\n",
    "            result = requests.get(url)\n",
    "            soup = BeautifulSoup(result.text, 'html.parser')\n",
    "\n",
    "            for link in soup.find_all(class_=re.compile('courseLink')):\n",
    "                c = link.get(\"href\")\n",
    "                f.write(\"https://www.findamasters.com/\" + c)\n",
    "                f.write(\"\\n\")\n",
    "    print('The \"urls.txt\" file is generated!')\n",
    "else:\n",
    "    print('The \"urls.txt\" file already exists.')"
   ]
  },
  {
   "cell_type": "markdown",
   "metadata": {},
   "source": [
    "### 1.2. Crawl master's degree pages\n",
    "\n",
    "We wrote a function named 'download_url'.\n",
    "Since the FindMaster website blocks us for 70 seconds for every (20 to 22) requests we send, we use 'time.sleep(70)' to wait and then resend the http get request. \n",
    "we also omit to download the http files that their directory are already existed.\n",
    "\n",
    "for sending http get requests asynchronously, we can use async and await methods and take the advantage of using \"aiohttp\" library. the other way is to use ThreadPoolExecutor function executer. \n",
    "It means that we store the executer command in a variable named 'future_to_url' that we are able to call in the future.\n",
    "The ThreadPoolExecutor is a built-in Python module that provides managing a pool of worker threads. It allows us to submit tasks to the pool, which are then executed by one of the worker threads in the pool."
   ]
  },
  {
   "cell_type": "code",
   "execution_count": 4,
   "metadata": {},
   "outputs": [
    {
     "name": "stdout",
     "output_type": "stream",
     "text": [
      "All HTML files are stored in the HTML_folders directory.\n"
     ]
    }
   ],
   "source": [
    "from concurrent.futures import ThreadPoolExecutor\n",
    "    \n",
    "# Function to download and save HTML for a given URL\n",
    "def download_url(url, folder_path, page_number):\n",
    "    # Create a folder for each page if it doesn't exist\n",
    "    page_folder = os.path.join(folder_path, f\"page_{page_number}\")\n",
    "    if os.path.exists(page_folder):\n",
    "        # uncomment the below code to see which pages are skiped, cause they have already been downloaded.\n",
    "        # print(f\"Skipping Page: {page_number} - Folder already exists.\")\n",
    "        return\n",
    "\n",
    "    try:\n",
    "        response = requests.get(url) # Send a GET request to the URL\n",
    "        response.raise_for_status()  # Raise an exception for bad responses \n",
    "\n",
    "        # Create a folder for each page if it doesn't exist\n",
    "        os.makedirs(page_folder, exist_ok=True)\n",
    "\n",
    "        # Save the HTML content to a file\n",
    "        file_path = os.path.join(page_folder, f\"html_{page_number}.html\")\n",
    "        if not os.path.exists(file_path):\n",
    "            with open(file_path, 'w', encoding='utf-8') as file:\n",
    "                file.write(response.text)\n",
    "            print(f\"Downloaded page {page_number}: {url}\")\n",
    "    except requests.exceptions.RequestException as e:\n",
    "        print(f\"Failed to download page {page_number}: {url}\")\n",
    "        print(f\"Error: {e}\")\n",
    "        print(\"Retrying in 70 seconds...\")\n",
    "        time.sleep(70)  # Wait for 10 seconds before retrying\n",
    "        download_url(url, folder_path, page_number)  # Retry the download\n",
    "\n",
    "# Read all URLs one by one\n",
    "with open('urls.txt', 'r') as urls_file:\n",
    "    urls = urls_file.read().splitlines()\n",
    "\n",
    "output_folder = 'HTML_folders' # Store all HTML files into this directory.\n",
    "\n",
    "# We can use ThreadPoolExecutor for sending http requests asynchronously. \n",
    "# However, Since the FindMaster website blocks us for 70 seconds for every (20 to 22) requests we send, \n",
    "# the max_workers in below code assigned to number 1. So it sends requests synchronously.\n",
    "with ThreadPoolExecutor(max_workers=1) as executor:\n",
    "    # Enumerate through each URL and submit download tasks to the executor\n",
    "    future_to_url = {executor.submit(download_url, url, output_folder, page_number): url for page_number, url in enumerate(urls, start=1)}\n",
    "\n",
    "print(\"All HTML files are stored in the HTML_folders directory.\")"
   ]
  },
  {
   "cell_type": "markdown",
   "metadata": {},
   "source": [
    "### 1.3 Parse downloaded pages\n",
    "Here we create a '.tsv' file including the following columns for each of the HTML files.\n",
    "\n",
    "1. Course Name (to save as ```courseName```): string;\n",
    "2. University (to save as ```universityName```): string;\n",
    "3. Faculty (to save as ```facultyName```): string\n",
    "4. Full or Part Time (to save as ```isItFullTime```): string;\n",
    "5. Short Description (to save as ```description```): string;\n",
    "6. Start Date (to save as ```startDate```): string;\n",
    "7. Fees (to save as ```fees```): string;\n",
    "8. Modality (to save as ```modality```):string;\n",
    "9. Duration (to save as ```duration```):string;\n",
    "10. City (to save as ```city```): string;\n",
    "11. Country (to save as ```country```): string;\n",
    "12. Presence or online modality (to save as ```administration```): string;\n",
    "13. Link to the page (to save as ```url```): string.\n",
    "\n",
    "Then, we merge all those files together to generate our final dataset."
   ]
  },
  {
   "cell_type": "code",
   "execution_count": 6,
   "metadata": {},
   "outputs": [
    {
     "name": "stdout",
     "output_type": "stream",
     "text": [
      "All HTML files have been read and all .tsv files have been generated.\n"
     ]
    }
   ],
   "source": [
    "current_path = os.getcwd()\n",
    "# '/Users/armanfeili/Arman/Sapienza Courses/ADM/Homeworks/HW3/phase-2/ADM-HW3/HTML_folders'\n",
    "\n",
    "for i in range(1,6001):\n",
    "    # os.chdir(r'C:\\Users\\susan\\Documents\\DS\\ADM\\HW3\\ADM-HW3\\HTML_folders\\page_'+str(i)) #change directories\n",
    "    os.chdir(r'/Users/armanfeili/Arman/Sapienza Courses/ADM/Homeworks/HW3/phase-3/ADM-HW3/HTML_folders/page_'+str(i)) #change directories\n",
    "    \n",
    "    for filename in os.listdir(os.getcwd()): # get all the files in a folder\n",
    "        if filename.endswith(\".tsv\"): continue # tsv file is already generated.\n",
    "        elif filename.endswith(\".html\"): # if file extension is .html\n",
    "            with open(os.path.join(os.getcwd(), filename), 'r',encoding='utf-8') as f: # open each file into a folder\n",
    "                soup = BeautifulSoup(f,'html.parser') # get the html file by each file \n",
    "                out=[] # initialize a list where we append all the informations parsed from each html file\n",
    "\n",
    "                # 1  Course Name\n",
    "                courseName = soup.find_all(class_=re.compile(\"course-header__course-title\"))\n",
    "                out.append(courseName[0].text.strip() if courseName else \"\") #text.strip to eliminate strange simbols for the space\n",
    "                # 2  University\n",
    "                universityName = soup.find_all(class_=re.compile(\"course-header__institution\"))\n",
    "                out.append(universityName[0].text if universityName else \"\")\n",
    "                # 3  Faculty\n",
    "                facultyName = soup.find_all(class_=re.compile(\"course-header__department\"))\n",
    "                out.append(facultyName[0].text if facultyName else \"\")\n",
    "                # 4  Full or Part Time\n",
    "                isItFullTime = soup.find_all(class_=re.compile(\"concealLink\"))\n",
    "                out.append(isItFullTime[0].text if isItFullTime else \"\")\n",
    "                # 5  Short Description\n",
    "                description = soup.find_all(class_=re.compile(\"course-sections__content\"))\n",
    "                out.append(description[0].text.replace('\\n', '') if description else \"\")\n",
    "                # 6  Start Date\n",
    "                startDate = soup.find_all(class_=re.compile(\"key-info__start-date\"))\n",
    "                out.append(startDate[0].text if startDate else \"\")\n",
    "                # 7  Fees \n",
    "                fees_elements = soup.find_all(class_=re.compile(\"course-sections__fees\")) # taking the fee\n",
    "                fees_text = fees_elements[0].text.replace('\\n', '') if fees_elements else \"\" \n",
    "                cleaned_fees = re.sub(r'Fees', '', fees_text)  # To not \"Fees\" at the beginning \n",
    "                out.append(cleaned_fees.strip() if cleaned_fees else \"\")\n",
    "                # 8  Modality\n",
    "                modality = soup.find_all(class_=re.compile(\"key-info__qualification\"))\n",
    "                out.append(modality[0].text if modality else \"\")\n",
    "                # 9  Duration\n",
    "                duration = soup.find_all(class_=re.compile(\"key-info__duration\"))\n",
    "                out.append(duration[0].text if duration else \"\")\n",
    "                # 10  City\n",
    "                city = soup.find_all(class_=re.compile(\"course-data__city\"))\n",
    "                out.append(city[0].text if city else \"\")\n",
    "                # 11  Country\n",
    "                country = soup.find_all(class_=re.compile(\"course-data__country\"))\n",
    "                out.append(country[0].text if country else \"\")\n",
    "                # 12  Presence or online modality\n",
    "                # We have seen that some courses has both online or oncampus modality, one of them is \"Master of Business Administration\"\n",
    "                on_campus_elements = soup.find_all(class_=re.compile(\"course-data__on-campus\"))\n",
    "                online_elements = soup.find_all(class_=re.compile(\"course-data__online\"))\n",
    "                if on_campus_elements and online_elements:\n",
    "                    out.append(\"both\")\n",
    "                else:\n",
    "                    out.append(on_campus_elements[0].text if on_campus_elements else online_elements[0].text if online_elements else \"Nan\")\n",
    "                # 13  Link to the page\n",
    "                out.append(soup.find('link', {'rel': 'canonical'}).get('href') if soup.find('link', {'rel': 'canonical'}) else \"Nan\")\n",
    "                f.close()\n",
    "                \n",
    "                # Creating file .tsv\n",
    "                l = ['courseName','universityName','facultyName','isItFullTime','description','startDate','fees','modality','duration',\n",
    "                    'city','country','administration','url']\n",
    "                with open(filename+'.tsv','w',encoding='utf-8') as tsv:\n",
    "                    tsv_output = csv.writer(tsv, delimiter='\\t')\n",
    "                    tsv_output.writerow(l)\n",
    "                    tsv_output.writerow(out)\n",
    "    os.chdir('..')  \n",
    "\n",
    "print(\"All HTML files have been read and all .tsv files have been generated.\")"
   ]
  },
  {
   "cell_type": "code",
   "execution_count": 8,
   "metadata": {},
   "outputs": [
    {
     "name": "stdout",
     "output_type": "stream",
     "text": [
      "dataset.tsv file has been generated as the main dataset.\n"
     ]
    }
   ],
   "source": [
    "data=[]\n",
    "# to merge all the .tsv files\n",
    "for i in range(1,6001):\n",
    "    # os.chdir(r'./HTML_folders/page_'+str(i)) #change directories\n",
    "    os.chdir(r'/Users/armanfeili/Arman/Sapienza Courses/ADM/Homeworks/HW3/phase-3/ADM-HW3/HTML_folders/page_'+str(i)) #change directories\n",
    "    for filename in os.listdir(os.getcwd()):\n",
    "        if filename.endswith(\".tsv\"):\n",
    "            a = pd.read_csv(filename,sep='\\t')\n",
    "            data.append(a)\n",
    "    os.chdir('..')\n",
    "data=pd.concat(data,ignore_index=True)   \n",
    "data.to_csv('../dataset.tsv',sep='\\t',index=False) # Saving the big one\n",
    "print(\"dataset.tsv file has been generated as the main dataset.\")"
   ]
  },
  {
   "cell_type": "markdown",
   "metadata": {},
   "source": [
    "## 2. Search Engine"
   ]
  },
  {
   "cell_type": "markdown",
   "metadata": {},
   "source": [
    "For the search engine, we loaded the dataset obtained in step 1 and then started preprocessing. \\\n",
    "We decided to clean only the description column because we did not think it would be useful to clean for example also the mastrer degree name because with the removal of the stop words and stemming it would no longer be possible to figure out the real name of the degree."
   ]
  },
  {
   "cell_type": "code",
   "execution_count": 2,
   "metadata": {
    "ExecuteTime": {
     "end_time": "2023-11-24T15:44:09.120066Z",
     "start_time": "2023-11-24T15:44:09.006803Z"
    },
    "collapsed": false,
    "jupyter": {
     "outputs_hidden": false
    }
   },
   "outputs": [
    {
     "data": {
      "text/html": [
       "<div>\n",
       "<style scoped>\n",
       "    .dataframe tbody tr th:only-of-type {\n",
       "        vertical-align: middle;\n",
       "    }\n",
       "\n",
       "    .dataframe tbody tr th {\n",
       "        vertical-align: top;\n",
       "    }\n",
       "\n",
       "    .dataframe thead th {\n",
       "        text-align: right;\n",
       "    }\n",
       "</style>\n",
       "<table border=\"1\" class=\"dataframe\">\n",
       "  <thead>\n",
       "    <tr style=\"text-align: right;\">\n",
       "      <th></th>\n",
       "      <th>courseName</th>\n",
       "      <th>universityName</th>\n",
       "      <th>facultyName</th>\n",
       "      <th>isItFullTime</th>\n",
       "      <th>description</th>\n",
       "      <th>startDate</th>\n",
       "      <th>fees</th>\n",
       "      <th>modality</th>\n",
       "      <th>duration</th>\n",
       "      <th>city</th>\n",
       "      <th>country</th>\n",
       "      <th>administration</th>\n",
       "      <th>url</th>\n",
       "    </tr>\n",
       "  </thead>\n",
       "  <tbody>\n",
       "    <tr>\n",
       "      <th>0</th>\n",
       "      <td>3D Design for Virtual Environments - MSc</td>\n",
       "      <td>Glasgow Caledonian University</td>\n",
       "      <td>School of Engineering and Built Environment</td>\n",
       "      <td>Full time</td>\n",
       "      <td>3D visualisation and animation play a role in ...</td>\n",
       "      <td>September</td>\n",
       "      <td>Please see the university website for further ...</td>\n",
       "      <td>MSc</td>\n",
       "      <td>1 year full-time</td>\n",
       "      <td>Glasgow</td>\n",
       "      <td>United Kingdom</td>\n",
       "      <td>On Campus</td>\n",
       "      <td>https://www.findamasters.com/masters-degrees/c...</td>\n",
       "    </tr>\n",
       "    <tr>\n",
       "      <th>1</th>\n",
       "      <td>Accounting and Finance - MSc</td>\n",
       "      <td>University of Leeds</td>\n",
       "      <td>Leeds University Business School</td>\n",
       "      <td>Full time</td>\n",
       "      <td>Businesses and governments rely on sound finan...</td>\n",
       "      <td>September</td>\n",
       "      <td>UK: £18,000 (Total) International: £34,750 (To...</td>\n",
       "      <td>MSc</td>\n",
       "      <td>1 year full time</td>\n",
       "      <td>Leeds</td>\n",
       "      <td>United Kingdom</td>\n",
       "      <td>On Campus</td>\n",
       "      <td>https://www.findamasters.com/masters-degrees/c...</td>\n",
       "    </tr>\n",
       "    <tr>\n",
       "      <th>2</th>\n",
       "      <td>Accounting, Accountability &amp; Financial Managem...</td>\n",
       "      <td>King’s College London</td>\n",
       "      <td>King’s Business School</td>\n",
       "      <td>Full time</td>\n",
       "      <td>Our Accounting, Accountability &amp; Financial Man...</td>\n",
       "      <td>September</td>\n",
       "      <td>Please see the university website for further ...</td>\n",
       "      <td>MSc</td>\n",
       "      <td>1 year FT</td>\n",
       "      <td>London</td>\n",
       "      <td>United Kingdom</td>\n",
       "      <td>On Campus</td>\n",
       "      <td>https://www.findamasters.com/masters-degrees/c...</td>\n",
       "    </tr>\n",
       "    <tr>\n",
       "      <th>3</th>\n",
       "      <td>Accounting, Financial Management and Digital B...</td>\n",
       "      <td>University of Reading</td>\n",
       "      <td>Henley Business School</td>\n",
       "      <td>Full time</td>\n",
       "      <td>Embark on a professional accounting career wit...</td>\n",
       "      <td>September</td>\n",
       "      <td>Please see the university website for further ...</td>\n",
       "      <td>MSc</td>\n",
       "      <td>1 year full time</td>\n",
       "      <td>Reading</td>\n",
       "      <td>United Kingdom</td>\n",
       "      <td>On Campus</td>\n",
       "      <td>https://www.findamasters.com/masters-degrees/c...</td>\n",
       "    </tr>\n",
       "    <tr>\n",
       "      <th>4</th>\n",
       "      <td>Addictions MSc</td>\n",
       "      <td>King’s College London</td>\n",
       "      <td>Institute of Psychiatry, Psychology and Neuros...</td>\n",
       "      <td>Full time</td>\n",
       "      <td>Join us for an online session for prospective ...</td>\n",
       "      <td>September</td>\n",
       "      <td>Please see the university website for further ...</td>\n",
       "      <td>MSc</td>\n",
       "      <td>One year FT</td>\n",
       "      <td>London</td>\n",
       "      <td>United Kingdom</td>\n",
       "      <td>On Campus</td>\n",
       "      <td>https://www.findamasters.com/masters-degrees/c...</td>\n",
       "    </tr>\n",
       "    <tr>\n",
       "      <th>...</th>\n",
       "      <td>...</td>\n",
       "      <td>...</td>\n",
       "      <td>...</td>\n",
       "      <td>...</td>\n",
       "      <td>...</td>\n",
       "      <td>...</td>\n",
       "      <td>...</td>\n",
       "      <td>...</td>\n",
       "      <td>...</td>\n",
       "      <td>...</td>\n",
       "      <td>...</td>\n",
       "      <td>...</td>\n",
       "      <td>...</td>\n",
       "    </tr>\n",
       "    <tr>\n",
       "      <th>5995</th>\n",
       "      <td>Materials and Molecular Modelling MSc</td>\n",
       "      <td>University College London</td>\n",
       "      <td>Department of Chemistry</td>\n",
       "      <td>Full time</td>\n",
       "      <td>Register your interest in graduate study at UC...</td>\n",
       "      <td>September</td>\n",
       "      <td>Full time - £14,100</td>\n",
       "      <td>MSc</td>\n",
       "      <td>1 year full time</td>\n",
       "      <td>London</td>\n",
       "      <td>United Kingdom</td>\n",
       "      <td>On Campus</td>\n",
       "      <td>https://www.findamasters.com/masters-degrees/c...</td>\n",
       "    </tr>\n",
       "    <tr>\n",
       "      <th>5996</th>\n",
       "      <td>Materials Chemistry - MSc</td>\n",
       "      <td>University of Bradford</td>\n",
       "      <td>Faculty of Life Sciences</td>\n",
       "      <td>Full time</td>\n",
       "      <td>We provide a unique Master’s education in Mate...</td>\n",
       "      <td>September</td>\n",
       "      <td>Please see the university website for further ...</td>\n",
       "      <td>MSc</td>\n",
       "      <td>1 year full time</td>\n",
       "      <td>Bradford</td>\n",
       "      <td>United Kingdom</td>\n",
       "      <td>On Campus</td>\n",
       "      <td>https://www.findamasters.com/masters-degrees/c...</td>\n",
       "    </tr>\n",
       "    <tr>\n",
       "      <th>5997</th>\n",
       "      <td>Materials Chemistry MSc</td>\n",
       "      <td>University of Edinburgh</td>\n",
       "      <td>School of Chemistry</td>\n",
       "      <td>Full time</td>\n",
       "      <td>Programme descriptionMaterials Chemistry has e...</td>\n",
       "      <td>September</td>\n",
       "      <td>Tuition fees vary between degree programmes. F...</td>\n",
       "      <td>MSc</td>\n",
       "      <td>1 year full-time</td>\n",
       "      <td>Edinburgh</td>\n",
       "      <td>United Kingdom</td>\n",
       "      <td>On Campus</td>\n",
       "      <td>https://www.findamasters.com/masters-degrees/c...</td>\n",
       "    </tr>\n",
       "    <tr>\n",
       "      <th>5998</th>\n",
       "      <td>Materials Engineering</td>\n",
       "      <td>University of Padua</td>\n",
       "      <td>School of Engineering</td>\n",
       "      <td>Full time</td>\n",
       "      <td>The Master's degree Materials Engineering is a...</td>\n",
       "      <td>October</td>\n",
       "      <td>Our tuition fees will not exceed 2700 euros pe...</td>\n",
       "      <td>MSc</td>\n",
       "      <td>2 years</td>\n",
       "      <td>Padua</td>\n",
       "      <td>Italy</td>\n",
       "      <td>On Campus</td>\n",
       "      <td>https://www.findamasters.com/masters-degrees/c...</td>\n",
       "    </tr>\n",
       "    <tr>\n",
       "      <th>5999</th>\n",
       "      <td>Materials Engineering MSc</td>\n",
       "      <td>Swansea University</td>\n",
       "      <td>School of Engineering and Applied Sciences</td>\n",
       "      <td>Full time</td>\n",
       "      <td>The MSc in Materials Engineering provides you ...</td>\n",
       "      <td>September</td>\n",
       "      <td>Please visit our website for the Materials Eng...</td>\n",
       "      <td>MSc</td>\n",
       "      <td>1 year full-time; 2 years part-time; 3 years p...</td>\n",
       "      <td>Swansea</td>\n",
       "      <td>United Kingdom</td>\n",
       "      <td>On Campus</td>\n",
       "      <td>https://www.findamasters.com/masters-degrees/c...</td>\n",
       "    </tr>\n",
       "  </tbody>\n",
       "</table>\n",
       "<p>5854 rows × 13 columns</p>\n",
       "</div>"
      ],
      "text/plain": [
       "                                             courseName  \\\n",
       "0              3D Design for Virtual Environments - MSc   \n",
       "1                          Accounting and Finance - MSc   \n",
       "2     Accounting, Accountability & Financial Managem...   \n",
       "3     Accounting, Financial Management and Digital B...   \n",
       "4                                        Addictions MSc   \n",
       "...                                                 ...   \n",
       "5995              Materials and Molecular Modelling MSc   \n",
       "5996                          Materials Chemistry - MSc   \n",
       "5997                            Materials Chemistry MSc   \n",
       "5998                              Materials Engineering   \n",
       "5999                          Materials Engineering MSc   \n",
       "\n",
       "                     universityName  \\\n",
       "0     Glasgow Caledonian University   \n",
       "1               University of Leeds   \n",
       "2             King’s College London   \n",
       "3             University of Reading   \n",
       "4             King’s College London   \n",
       "...                             ...   \n",
       "5995      University College London   \n",
       "5996         University of Bradford   \n",
       "5997        University of Edinburgh   \n",
       "5998            University of Padua   \n",
       "5999             Swansea University   \n",
       "\n",
       "                                            facultyName isItFullTime  \\\n",
       "0           School of Engineering and Built Environment    Full time   \n",
       "1                      Leeds University Business School    Full time   \n",
       "2                                King’s Business School    Full time   \n",
       "3                                Henley Business School    Full time   \n",
       "4     Institute of Psychiatry, Psychology and Neuros...    Full time   \n",
       "...                                                 ...          ...   \n",
       "5995                            Department of Chemistry    Full time   \n",
       "5996                           Faculty of Life Sciences    Full time   \n",
       "5997                                School of Chemistry    Full time   \n",
       "5998                              School of Engineering    Full time   \n",
       "5999         School of Engineering and Applied Sciences    Full time   \n",
       "\n",
       "                                            description  startDate  \\\n",
       "0     3D visualisation and animation play a role in ...  September   \n",
       "1     Businesses and governments rely on sound finan...  September   \n",
       "2     Our Accounting, Accountability & Financial Man...  September   \n",
       "3     Embark on a professional accounting career wit...  September   \n",
       "4     Join us for an online session for prospective ...  September   \n",
       "...                                                 ...        ...   \n",
       "5995  Register your interest in graduate study at UC...  September   \n",
       "5996  We provide a unique Master’s education in Mate...  September   \n",
       "5997  Programme descriptionMaterials Chemistry has e...  September   \n",
       "5998  The Master's degree Materials Engineering is a...    October   \n",
       "5999  The MSc in Materials Engineering provides you ...  September   \n",
       "\n",
       "                                                   fees modality  \\\n",
       "0     Please see the university website for further ...      MSc   \n",
       "1     UK: £18,000 (Total) International: £34,750 (To...      MSc   \n",
       "2     Please see the university website for further ...      MSc   \n",
       "3     Please see the university website for further ...      MSc   \n",
       "4     Please see the university website for further ...      MSc   \n",
       "...                                                 ...      ...   \n",
       "5995                                Full time - £14,100      MSc   \n",
       "5996  Please see the university website for further ...      MSc   \n",
       "5997  Tuition fees vary between degree programmes. F...      MSc   \n",
       "5998  Our tuition fees will not exceed 2700 euros pe...      MSc   \n",
       "5999  Please visit our website for the Materials Eng...      MSc   \n",
       "\n",
       "                                               duration       city  \\\n",
       "0                                      1 year full-time    Glasgow   \n",
       "1                                      1 year full time      Leeds   \n",
       "2                                             1 year FT     London   \n",
       "3                                      1 year full time    Reading   \n",
       "4                                           One year FT     London   \n",
       "...                                                 ...        ...   \n",
       "5995                                   1 year full time     London   \n",
       "5996                                   1 year full time   Bradford   \n",
       "5997                                   1 year full-time  Edinburgh   \n",
       "5998                                            2 years      Padua   \n",
       "5999  1 year full-time; 2 years part-time; 3 years p...    Swansea   \n",
       "\n",
       "             country administration  \\\n",
       "0     United Kingdom      On Campus   \n",
       "1     United Kingdom      On Campus   \n",
       "2     United Kingdom      On Campus   \n",
       "3     United Kingdom      On Campus   \n",
       "4     United Kingdom      On Campus   \n",
       "...              ...            ...   \n",
       "5995  United Kingdom      On Campus   \n",
       "5996  United Kingdom      On Campus   \n",
       "5997  United Kingdom      On Campus   \n",
       "5998           Italy      On Campus   \n",
       "5999  United Kingdom      On Campus   \n",
       "\n",
       "                                                    url  \n",
       "0     https://www.findamasters.com/masters-degrees/c...  \n",
       "1     https://www.findamasters.com/masters-degrees/c...  \n",
       "2     https://www.findamasters.com/masters-degrees/c...  \n",
       "3     https://www.findamasters.com/masters-degrees/c...  \n",
       "4     https://www.findamasters.com/masters-degrees/c...  \n",
       "...                                                 ...  \n",
       "5995  https://www.findamasters.com/masters-degrees/c...  \n",
       "5996  https://www.findamasters.com/masters-degrees/c...  \n",
       "5997  https://www.findamasters.com/masters-degrees/c...  \n",
       "5998  https://www.findamasters.com/masters-degrees/c...  \n",
       "5999  https://www.findamasters.com/masters-degrees/c...  \n",
       "\n",
       "[5854 rows x 13 columns]"
      ]
     },
     "execution_count": 2,
     "metadata": {},
     "output_type": "execute_result"
    }
   ],
   "source": [
    "# Load the dataset we are going to work with\n",
    "data = pd.read_table(r\"dataset.tsv\")\n",
    "# Drop NAs\n",
    "data = data.dropna()\n",
    "data"
   ]
  },
  {
   "cell_type": "markdown",
   "metadata": {
    "collapsed": false,
    "jupyter": {
     "outputs_hidden": false
    }
   },
   "source": [
    "## 2.0 Preprocessing\n",
    "\n",
    "### 2.0.0) Preprocessing the text\n"
   ]
  },
  {
   "cell_type": "code",
   "execution_count": 3,
   "metadata": {
    "ExecuteTime": {
     "end_time": "2023-11-24T15:44:13.802774Z",
     "start_time": "2023-11-24T15:44:13.787572Z"
    },
    "collapsed": false,
    "jupyter": {
     "outputs_hidden": false
    }
   },
   "outputs": [],
   "source": [
    "# This function takes a text, removes special cases, punctuations and stop-words then\n",
    "# it applies stemming and finally returns the preprocessed words separated by commas.\n",
    "\n",
    "def preprocess_description(description_text):\n",
    "\n",
    "    # Handle the cases of float type (there are 24)\n",
    "    if type(description_text) != str:\n",
    "        return \"\"\n",
    "\n",
    "    # Remove all special chars and punctuations\n",
    "    description_text = re.sub(\"[^a-z A-Z ]+\",\"\", description_text)\n",
    "\n",
    "    # Convert everything in lowercase\n",
    "    description_text = description_text.lower()\n",
    "\n",
    "    # Remove stopwords using nltk package\n",
    "    stop_words = set(stopwords.words('english'))\n",
    "    words = nltk.word_tokenize(description_text)\n",
    "    words = [word for word in words if word not in stop_words]\n",
    "\n",
    "    # Apply stemming using ntlk package\n",
    "    stemmer = PorterStemmer()\n",
    "    words = [stemmer.stem(word) for word in words]\n",
    "\n",
    "    # Separate words with commas\n",
    "    words = ','.join(words)\n",
    "\n",
    "    return words"
   ]
  },
  {
   "cell_type": "code",
   "execution_count": 4,
   "metadata": {
    "ExecuteTime": {
     "end_time": "2023-11-24T15:44:25.305552Z",
     "start_time": "2023-11-24T15:44:15.890537Z"
    },
    "collapsed": false,
    "jupyter": {
     "outputs_hidden": false
    }
   },
   "outputs": [],
   "source": [
    "# Create and fill new column where the preprocessed descriptions wil be stored:\n",
    "data[\"clean_description\"] = data[\"description\"].apply(preprocess_description)"
   ]
  },
  {
   "cell_type": "code",
   "execution_count": 5,
   "metadata": {
    "ExecuteTime": {
     "end_time": "2023-11-24T15:44:25.321186Z",
     "start_time": "2023-11-24T15:44:25.290302Z"
    },
    "collapsed": false,
    "jupyter": {
     "outputs_hidden": false
    }
   },
   "outputs": [
    {
     "data": {
      "text/html": [
       "<div>\n",
       "<style scoped>\n",
       "    .dataframe tbody tr th:only-of-type {\n",
       "        vertical-align: middle;\n",
       "    }\n",
       "\n",
       "    .dataframe tbody tr th {\n",
       "        vertical-align: top;\n",
       "    }\n",
       "\n",
       "    .dataframe thead th {\n",
       "        text-align: right;\n",
       "    }\n",
       "</style>\n",
       "<table border=\"1\" class=\"dataframe\">\n",
       "  <thead>\n",
       "    <tr style=\"text-align: right;\">\n",
       "      <th></th>\n",
       "      <th>description</th>\n",
       "      <th>clean_description</th>\n",
       "    </tr>\n",
       "  </thead>\n",
       "  <tbody>\n",
       "    <tr>\n",
       "      <th>0</th>\n",
       "      <td>3D visualisation and animation play a role in ...</td>\n",
       "      <td>visualis,anim,play,role,mani,area,popular,medi...</td>\n",
       "    </tr>\n",
       "    <tr>\n",
       "      <th>1</th>\n",
       "      <td>Businesses and governments rely on sound finan...</td>\n",
       "      <td>busi,govern,reli,sound,financi,knowledg,underp...</td>\n",
       "    </tr>\n",
       "    <tr>\n",
       "      <th>2</th>\n",
       "      <td>Our Accounting, Accountability &amp; Financial Man...</td>\n",
       "      <td>account,account,financi,manag,msc,cours,provid...</td>\n",
       "    </tr>\n",
       "    <tr>\n",
       "      <th>3</th>\n",
       "      <td>Embark on a professional accounting career wit...</td>\n",
       "      <td>embark,profession,account,career,academ,ground...</td>\n",
       "    </tr>\n",
       "    <tr>\n",
       "      <th>4</th>\n",
       "      <td>Join us for an online session for prospective ...</td>\n",
       "      <td>join,us,onlin,session,prospect,student,find,ms...</td>\n",
       "    </tr>\n",
       "    <tr>\n",
       "      <th>5</th>\n",
       "      <td>The Advanced Chemical Engineering MSc at Leeds...</td>\n",
       "      <td>advanc,chemic,engin,msc,leed,build,core,founda...</td>\n",
       "    </tr>\n",
       "    <tr>\n",
       "      <th>6</th>\n",
       "      <td>Programme overviewThe Advanced Master in Finan...</td>\n",
       "      <td>programm,overviewth,advanc,master,financi,mark...</td>\n",
       "    </tr>\n",
       "    <tr>\n",
       "      <th>7</th>\n",
       "      <td>Programme overviewThe Advanced Master in Innov...</td>\n",
       "      <td>programm,overviewth,advanc,master,innov,strate...</td>\n",
       "    </tr>\n",
       "    <tr>\n",
       "      <th>8</th>\n",
       "      <td>Progress your career as a physiotherapist with...</td>\n",
       "      <td>progress,career,physiotherapist,within,nh,priv...</td>\n",
       "    </tr>\n",
       "    <tr>\n",
       "      <th>9</th>\n",
       "      <td>Goal of the pro­grammeWould you like to be inv...</td>\n",
       "      <td>goal,programmewould,like,involv,find,solut,fut...</td>\n",
       "    </tr>\n",
       "  </tbody>\n",
       "</table>\n",
       "</div>"
      ],
      "text/plain": [
       "                                         description  \\\n",
       "0  3D visualisation and animation play a role in ...   \n",
       "1  Businesses and governments rely on sound finan...   \n",
       "2  Our Accounting, Accountability & Financial Man...   \n",
       "3  Embark on a professional accounting career wit...   \n",
       "4  Join us for an online session for prospective ...   \n",
       "5  The Advanced Chemical Engineering MSc at Leeds...   \n",
       "6  Programme overviewThe Advanced Master in Finan...   \n",
       "7  Programme overviewThe Advanced Master in Innov...   \n",
       "8  Progress your career as a physiotherapist with...   \n",
       "9  Goal of the pro­grammeWould you like to be inv...   \n",
       "\n",
       "                                   clean_description  \n",
       "0  visualis,anim,play,role,mani,area,popular,medi...  \n",
       "1  busi,govern,reli,sound,financi,knowledg,underp...  \n",
       "2  account,account,financi,manag,msc,cours,provid...  \n",
       "3  embark,profession,account,career,academ,ground...  \n",
       "4  join,us,onlin,session,prospect,student,find,ms...  \n",
       "5  advanc,chemic,engin,msc,leed,build,core,founda...  \n",
       "6  programm,overviewth,advanc,master,financi,mark...  \n",
       "7  programm,overviewth,advanc,master,innov,strate...  \n",
       "8  progress,career,physiotherapist,within,nh,priv...  \n",
       "9  goal,programmewould,like,involv,find,solut,fut...  "
      ]
     },
     "execution_count": 5,
     "metadata": {},
     "output_type": "execute_result"
    }
   ],
   "source": [
    "# Show different fields\n",
    "data[[\"description\", \"clean_description\"]].head(10)"
   ]
  },
  {
   "cell_type": "markdown",
   "metadata": {},
   "source": [
    "### 2.0.1) Preprocessing the fees column"
   ]
  },
  {
   "cell_type": "markdown",
   "metadata": {},
   "source": [
    "When it comes to preprocessing the tax column, we obtained the exchange rates thanks to a function asked of ChatGPT.  \\\n",
    " In the _preprocess_fees_ function we searched with regexes all the various costs of the universities and then turned them all into dollar USD prices by dividing the cost we found by the exchange rates."
   ]
  },
  {
   "cell_type": "code",
   "execution_count": 6,
   "metadata": {},
   "outputs": [],
   "source": [
    "# This function was provided by ChatGPT.\n",
    "# It downloads the latest exchange rates (wrt United States Dollars) from openexchangerates.org.\n",
    "# It returns a dictionary of the form {exchange_code : exchange_rate}\n",
    "def get_latest_exchange_rates(app_id):\n",
    "\n",
    "    base_url = \"https://openexchangerates.org/api/latest.json\"\n",
    "    params = {\"app_id\": app_id}\n",
    "    response = requests.get(base_url, params=params)\n",
    "\n",
    "    if response.status_code == 200:\n",
    "        return response.json().get(\"rates\")\n",
    "    else:\n",
    "        print(f\"Failed to fetch exchange rates. Status code: {response.status_code}\")\n",
    "        return None"
   ]
  },
  {
   "cell_type": "code",
   "execution_count": 7,
   "metadata": {
    "ExecuteTime": {
     "end_time": "2023-11-24T15:44:25.880217Z",
     "start_time": "2023-11-24T15:44:25.338830Z"
    },
    "collapsed": false,
    "jupyter": {
     "outputs_hidden": false
    }
   },
   "outputs": [
    {
     "name": "stdout",
     "output_type": "stream",
     "text": [
      "{\n",
      "AED: 3.672625\n",
      "AFN: 69.193188\n",
      "ALL: 93.466047\n",
      "AMD: 401.077237\n",
      "ANG: 1.796265\n",
      "}\n"
     ]
    }
   ],
   "source": [
    "# Load latest exchange rates\n",
    "my_app_id = \"1457fcd3d536441baad3ce7918b5025b\"\n",
    "exchange_rates_dict = get_latest_exchange_rates(my_app_id)\n",
    "\n",
    "# Show exchange_rates_dict\n",
    "count = 0\n",
    "print(\"{\")\n",
    "for key, value in exchange_rates_dict.items():\n",
    "    if count < 5:\n",
    "        print(f'{key}: {value}')\n",
    "        count += 1\n",
    "    else:\n",
    "        break\n",
    "print(\"}\")"
   ]
  },
  {
   "cell_type": "code",
   "execution_count": 8,
   "metadata": {
    "ExecuteTime": {
     "end_time": "2023-11-24T15:44:25.368742Z",
     "start_time": "2023-11-24T15:44:25.321186Z"
    },
    "collapsed": false,
    "jupyter": {
     "outputs_hidden": false
    }
   },
   "outputs": [
    {
     "name": "stderr",
     "output_type": "stream",
     "text": [
      "<>:29: SyntaxWarning: invalid escape sequence '\\$'\n",
      "<>:29: SyntaxWarning: invalid escape sequence '\\$'\n",
      "/var/folders/d6/sz5pbmks2gs12gkp2yzr1gl00000gn/T/ipykernel_52759/1548670465.py:29: SyntaxWarning: invalid escape sequence '\\$'\n",
      "  symbols = \"GBP|USD|ISK|£|\\$|₹|¥|₪|₽|₩|₦|₴|﷼|€|Euro\"\n"
     ]
    }
   ],
   "source": [
    "# Dictionary provided by ChatGPT, I changed some symbols that were not present.\n",
    "# It will be used to convert a currency symbol into currency code.\n",
    "\n",
    "currency_symbol_to_code = {\n",
    "    '$': 'USD',  # United States Dollar\n",
    "    '€': 'EUR',  # Euro\n",
    "    \"EURO\": \"EUR\", # Euro\n",
    "    '¥': 'JPY',  # Japanese Yen\n",
    "    '£': 'GBP',  # British Pound Sterling\n",
    "    'A$': 'AUD',  # Australian Dollar\n",
    "    'C$': 'CAD',  # Canadian Dollar\n",
    "    'CHF': 'CHF',  # Swiss Franc\n",
    "    'KR': 'SEK',  # Swedish Krona\n",
    "    'NZ$': 'NZD',  # New Zealand Dollar\n",
    "    # Add more symbols and codes as needed\n",
    "}\n",
    "\n",
    "# This function handles the preprocessing of the \"fees\" field\n",
    "def preprocess_fees(fees_text):\n",
    "\n",
    "    # Handles the case of \"nan\"\n",
    "    if type(fees_text) != str:\n",
    "        return None\n",
    "\n",
    "    # Preallocate all the fees found in text\n",
    "    total_fees = []\n",
    "\n",
    "    # Symbols we are looking for\n",
    "    symbols = \"GBP|USD|ISK|£|\\$|₹|¥|₪|₽|₩|₦|₴|﷼|€|Euro\"\n",
    "\n",
    "    # Match the (symbol, number) case\n",
    "    left_symbol_matches = re.findall(fr'(?:{symbols})+\\s*[0-9]+[,.]?[0-9]*', fees_text, flags=re.IGNORECASE)\n",
    "\n",
    "    # Match the (number,  symbol) case\n",
    "    right_symbol_matches = re.findall(fr'[0-9]+[,.]?[0-9]*\\s*(?:{symbols})+', fees_text, flags=re.IGNORECASE)\n",
    "\n",
    "    # Merge them\n",
    "    matches = left_symbol_matches + right_symbol_matches\n",
    "\n",
    "    # If we got no matches returns None\n",
    "    if len(matches) == 0 :\n",
    "        return None\n",
    "\n",
    "    for match in matches:\n",
    "        # Remove \",\" or \".\" and change to the right type\n",
    "        number = re.findall('([0-9]+)[.,]*([0-9]*)', match)[0]\n",
    "        number = float(number[0] + number[1])\n",
    "\n",
    "        # Isolate symbol and upper case it (to match exchange_rates_dict codes)\n",
    "        symbol = re.findall(fr'(?i)({symbols})', match)[0].upper()\n",
    "\n",
    "        # Transform symbol into code (if not already a code)\n",
    "        if symbol in currency_symbol_to_code.keys():\n",
    "            symbol = currency_symbol_to_code[symbol]\n",
    "\n",
    "        # Change into USD using the exchange_rates dictionary and append to fees\n",
    "        total_fees.append(number / exchange_rates_dict[symbol])\n",
    "\n",
    "    # Take the max fee and return it\n",
    "    max_fee = round(max(total_fees))\n",
    "    return max_fee\n"
   ]
  },
  {
   "cell_type": "code",
   "execution_count": 9,
   "metadata": {
    "ExecuteTime": {
     "end_time": "2023-11-24T16:19:16.127362Z",
     "start_time": "2023-11-24T16:19:16.006402Z"
    },
    "collapsed": false,
    "jupyter": {
     "outputs_hidden": false
    }
   },
   "outputs": [
    {
     "data": {
      "text/html": [
       "<div>\n",
       "<style scoped>\n",
       "    .dataframe tbody tr th:only-of-type {\n",
       "        vertical-align: middle;\n",
       "    }\n",
       "\n",
       "    .dataframe tbody tr th {\n",
       "        vertical-align: top;\n",
       "    }\n",
       "\n",
       "    .dataframe thead th {\n",
       "        text-align: right;\n",
       "    }\n",
       "</style>\n",
       "<table border=\"1\" class=\"dataframe\">\n",
       "  <thead>\n",
       "    <tr style=\"text-align: right;\">\n",
       "      <th></th>\n",
       "      <th>fees</th>\n",
       "      <th>fees_USD</th>\n",
       "    </tr>\n",
       "  </thead>\n",
       "  <tbody>\n",
       "    <tr>\n",
       "      <th>0</th>\n",
       "      <td>Please see the university website for further ...</td>\n",
       "      <td>NaN</td>\n",
       "    </tr>\n",
       "    <tr>\n",
       "      <th>1</th>\n",
       "      <td>UK: £18,000 (Total) International: £34,750 (To...</td>\n",
       "      <td>43788.0</td>\n",
       "    </tr>\n",
       "    <tr>\n",
       "      <th>2</th>\n",
       "      <td>Please see the university website for further ...</td>\n",
       "      <td>NaN</td>\n",
       "    </tr>\n",
       "    <tr>\n",
       "      <th>3</th>\n",
       "      <td>Please see the university website for further ...</td>\n",
       "      <td>NaN</td>\n",
       "    </tr>\n",
       "    <tr>\n",
       "      <th>4</th>\n",
       "      <td>Please see the university website for further ...</td>\n",
       "      <td>NaN</td>\n",
       "    </tr>\n",
       "    <tr>\n",
       "      <th>5</th>\n",
       "      <td>UK: £13,750 (Total) International: £31,000 (To...</td>\n",
       "      <td>39063.0</td>\n",
       "    </tr>\n",
       "    <tr>\n",
       "      <th>6</th>\n",
       "      <td>18.000 €</td>\n",
       "      <td>19703.0</td>\n",
       "    </tr>\n",
       "    <tr>\n",
       "      <th>7</th>\n",
       "      <td>18.000 €</td>\n",
       "      <td>19703.0</td>\n",
       "    </tr>\n",
       "    <tr>\n",
       "      <th>8</th>\n",
       "      <td>Please see the university website for further ...</td>\n",
       "      <td>NaN</td>\n",
       "    </tr>\n",
       "    <tr>\n",
       "      <th>9</th>\n",
       "      <td>Tuition fee per year (non-EU/EEA students): 15...</td>\n",
       "      <td>16419.0</td>\n",
       "    </tr>\n",
       "  </tbody>\n",
       "</table>\n",
       "</div>"
      ],
      "text/plain": [
       "                                                fees  fees_USD\n",
       "0  Please see the university website for further ...       NaN\n",
       "1  UK: £18,000 (Total) International: £34,750 (To...   43788.0\n",
       "2  Please see the university website for further ...       NaN\n",
       "3  Please see the university website for further ...       NaN\n",
       "4  Please see the university website for further ...       NaN\n",
       "5  UK: £13,750 (Total) International: £31,000 (To...   39063.0\n",
       "6                                           18.000 €   19703.0\n",
       "7                                           18.000 €   19703.0\n",
       "8  Please see the university website for further ...       NaN\n",
       "9  Tuition fee per year (non-EU/EEA students): 15...   16419.0"
      ]
     },
     "execution_count": 9,
     "metadata": {},
     "output_type": "execute_result"
    }
   ],
   "source": [
    "# Save preprocessed fees into a new column, and show them\n",
    "data[\"fees_USD\"] = data[\"fees\"].apply(preprocess_fees)\n",
    "data[[\"fees\", \"fees_USD\"]].head(10)"
   ]
  },
  {
   "cell_type": "markdown",
   "metadata": {},
   "source": [
    "## 2.1. Conjunctive query\n",
    "\n",
    "### 2.1.1) Create your index!\n",
    "\n",
    "For the conjunctive query we followed the commands received and then first constructed a _terms_id_dict_ dictionary where each term is associated with a unique id, we then created the inverted index and showed its structure for the first 5 rows. \\\n",
    "With the _naive_search_engine_ function, we obtained the results by selecting the document ids that contain all the words in the query."
   ]
  },
  {
   "cell_type": "code",
   "execution_count": 10,
   "metadata": {
    "ExecuteTime": {
     "end_time": "2023-11-24T15:44:27.654346Z",
     "start_time": "2023-11-24T15:44:27.638654Z"
    },
    "collapsed": false,
    "jupyter": {
     "outputs_hidden": false
    }
   },
   "outputs": [],
   "source": [
    "# Store all terms contained in the \"clean_description\" as a set\n",
    "terms_set = set(','.join(data[\"clean_description\"]).split(\",\"))\n",
    "\n",
    "# Create a dict that associate each term to a unique id\n",
    "terms_id_dict = {key: value for value, key in enumerate(terms_set)}"
   ]
  },
  {
   "cell_type": "code",
   "execution_count": 11,
   "metadata": {
    "ExecuteTime": {
     "end_time": "2023-11-24T15:44:29.166007Z",
     "start_time": "2023-11-24T15:44:29.094643Z"
    }
   },
   "outputs": [],
   "source": [
    "# Here we create the inverted index dictionary.\n",
    "\n",
    "# Preallocate a dictionary with the form: {term_id : []}\n",
    "inverted_index = {i : [] for i in range(len(terms_id_dict))}\n",
    "\n",
    "# Iterating over all terms and texts in the \"clean_description\" field\n",
    "for i,text in enumerate(data[\"clean_description\"]):\n",
    "\n",
    "    text_set = set(text.split(\",\"))\n",
    "\n",
    "    for term in text_set:\n",
    "        # Get term id\n",
    "        term_id = terms_id_dict[term]\n",
    "\n",
    "        # Add document id \"i\" to the term_id list\n",
    "        inverted_index[term_id].append(i)"
   ]
  },
  {
   "cell_type": "code",
   "execution_count": 12,
   "metadata": {
    "ExecuteTime": {
     "end_time": "2023-11-24T15:44:30.973340Z",
     "start_time": "2023-11-24T15:44:30.962715Z"
    },
    "collapsed": false,
    "jupyter": {
     "outputs_hidden": false
    }
   },
   "outputs": [
    {
     "name": "stdout",
     "output_type": "stream",
     "text": [
      "{\n",
      "0: [95, 151, 394, 400, 417, 476, 659, 660, 683, 882, 904, 1036, 1064, 1065, 1143, 1154, 1159, 1183, 1189, 1423, 1496, 1779, 1784, 1853, 1903, 2117, 2161, 2302, 2456, 2485, 2499, 2558, 2953, 3131, 3138, 3139, 3140, 3141, 3142, 3143, 3190, 3371, 3419, 3437, 3710, 3736, 3827, 3964, 4047, 4086, 4208, 4320, 4330, 4636, 4723, 4733, 4981, 5082, 5388, 5579, 5640, 5794, 5814]\n",
      "1: [1859]\n",
      "2: [1876]\n",
      "3: [700, 3710, 4733, 5388]\n",
      "4: [5320]\n",
      "}\n"
     ]
    }
   ],
   "source": [
    "# Show inverted_index_dict structure for top 5\n",
    "print(\"{\")\n",
    "count = 0\n",
    "for key, value in inverted_index.items():\n",
    "    if count < 5:\n",
    "        print(f'{key}: {value}')\n",
    "        count += 1\n",
    "    else:\n",
    "        break\n",
    "print(\"}\")"
   ]
  },
  {
   "cell_type": "markdown",
   "metadata": {},
   "source": [
    "### 2.1.2) Execute the query"
   ]
  },
  {
   "cell_type": "code",
   "execution_count": 13,
   "metadata": {
    "ExecuteTime": {
     "end_time": "2023-11-24T15:44:42.240002Z",
     "start_time": "2023-11-24T15:44:42.227569Z"
    },
    "collapsed": false,
    "jupyter": {
     "outputs_hidden": false
    }
   },
   "outputs": [],
   "source": [
    "# This function takes a query as a input and returns the most affine docs:\n",
    "\n",
    "def naive_search_engine(query):\n",
    "    # Apply same preprocessing done for descriptions and split wrt \",\"\n",
    "    query = preprocess_description(query).split(\",\")\n",
    "\n",
    "    # For each term in query get all the docs ids that contain it as a set\n",
    "    query_docs = [set(inverted_index[terms_id_dict[term]]) for term in query]\n",
    "\n",
    "    # Select the docs ids that contain all the query term, and sort them\n",
    "    query_docs = set.intersection(*query_docs)\n",
    "    query_docs = list(sorted(query_docs))\n",
    "\n",
    "    # Return selected columns of those docs\n",
    "    result  = data.iloc[query_docs, [0,1,4,12]]\n",
    "\n",
    "    return result"
   ]
  },
  {
   "cell_type": "code",
   "execution_count": 14,
   "metadata": {
    "ExecuteTime": {
     "end_time": "2023-11-24T16:21:05.971170Z",
     "start_time": "2023-11-24T16:21:05.955052Z"
    },
    "collapsed": false,
    "jupyter": {
     "outputs_hidden": false
    }
   },
   "outputs": [
    {
     "data": {
      "text/html": [
       "<div>\n",
       "<style scoped>\n",
       "    .dataframe tbody tr th:only-of-type {\n",
       "        vertical-align: middle;\n",
       "    }\n",
       "\n",
       "    .dataframe tbody tr th {\n",
       "        vertical-align: top;\n",
       "    }\n",
       "\n",
       "    .dataframe thead th {\n",
       "        text-align: right;\n",
       "    }\n",
       "</style>\n",
       "<table border=\"1\" class=\"dataframe\">\n",
       "  <thead>\n",
       "    <tr style=\"text-align: right;\">\n",
       "      <th></th>\n",
       "      <th>courseName</th>\n",
       "      <th>universityName</th>\n",
       "      <th>description</th>\n",
       "      <th>url</th>\n",
       "    </tr>\n",
       "  </thead>\n",
       "  <tbody>\n",
       "    <tr>\n",
       "      <th>1</th>\n",
       "      <td>Accounting and Finance - MSc</td>\n",
       "      <td>University of Leeds</td>\n",
       "      <td>Businesses and governments rely on sound finan...</td>\n",
       "      <td>https://www.findamasters.com/masters-degrees/c...</td>\n",
       "    </tr>\n",
       "    <tr>\n",
       "      <th>4</th>\n",
       "      <td>Addictions MSc</td>\n",
       "      <td>King’s College London</td>\n",
       "      <td>Join us for an online session for prospective ...</td>\n",
       "      <td>https://www.findamasters.com/masters-degrees/c...</td>\n",
       "    </tr>\n",
       "    <tr>\n",
       "      <th>12</th>\n",
       "      <td>Analytical Toxicology MSc</td>\n",
       "      <td>King’s College London</td>\n",
       "      <td>The Analytical Toxicology MSc is a unique stud...</td>\n",
       "      <td>https://www.findamasters.com/masters-degrees/c...</td>\n",
       "    </tr>\n",
       "    <tr>\n",
       "      <th>48</th>\n",
       "      <td>Civil Engineering MSc</td>\n",
       "      <td>University of Greenwich</td>\n",
       "      <td>Meet the future demands of the construction in...</td>\n",
       "      <td>https://www.findamasters.com/masters-degrees/c...</td>\n",
       "    </tr>\n",
       "    <tr>\n",
       "      <th>86</th>\n",
       "      <td>Economics - MSc</td>\n",
       "      <td>University of Leeds</td>\n",
       "      <td>Our MSc Economics allows you to apply economic...</td>\n",
       "      <td>https://www.findamasters.com/masters-degrees/c...</td>\n",
       "    </tr>\n",
       "    <tr>\n",
       "      <th>...</th>\n",
       "      <td>...</td>\n",
       "      <td>...</td>\n",
       "      <td>...</td>\n",
       "      <td>...</td>\n",
       "    </tr>\n",
       "    <tr>\n",
       "      <th>5909</th>\n",
       "      <td>Master of Science/Postgraduate Diploma in Envi...</td>\n",
       "      <td>The Hong Kong University of Science and Techno...</td>\n",
       "      <td>The program is meant to meet the needs of prac...</td>\n",
       "      <td>https://www.findamasters.com/masters-degrees/c...</td>\n",
       "    </tr>\n",
       "    <tr>\n",
       "      <th>5937</th>\n",
       "      <td>Master Sociology – Social and Economic Psychology</td>\n",
       "      <td>University of Cologne</td>\n",
       "      <td>This programme provides you with:a solid found...</td>\n",
       "      <td>https://www.findamasters.com/masters-degrees/c...</td>\n",
       "    </tr>\n",
       "    <tr>\n",
       "      <th>5957</th>\n",
       "      <td>Masters in Economics</td>\n",
       "      <td>University of Lisbon</td>\n",
       "      <td>OBJECTIVESThe MSc in Economics aims to provide...</td>\n",
       "      <td>https://www.findamasters.com/masters-degrees/c...</td>\n",
       "    </tr>\n",
       "    <tr>\n",
       "      <th>5963</th>\n",
       "      <td>Master's in Global and European Politics</td>\n",
       "      <td>European School of Political and Social Scienc...</td>\n",
       "      <td>Europe and the EU in a changing worldOur inter...</td>\n",
       "      <td>https://www.findamasters.com/masters-degrees/c...</td>\n",
       "    </tr>\n",
       "    <tr>\n",
       "      <th>5965</th>\n",
       "      <td>Masters in Hospitality Management</td>\n",
       "      <td>Ecole hotelière de Lausanne</td>\n",
       "      <td>With our Master in Hospitality Management, you...</td>\n",
       "      <td>https://www.findamasters.com/masters-degrees/c...</td>\n",
       "    </tr>\n",
       "  </tbody>\n",
       "</table>\n",
       "<p>455 rows × 4 columns</p>\n",
       "</div>"
      ],
      "text/plain": [
       "                                             courseName  \\\n",
       "1                          Accounting and Finance - MSc   \n",
       "4                                        Addictions MSc   \n",
       "12                            Analytical Toxicology MSc   \n",
       "48                                Civil Engineering MSc   \n",
       "86                                      Economics - MSc   \n",
       "...                                                 ...   \n",
       "5909  Master of Science/Postgraduate Diploma in Envi...   \n",
       "5937  Master Sociology – Social and Economic Psychology   \n",
       "5957                               Masters in Economics   \n",
       "5963           Master's in Global and European Politics   \n",
       "5965                  Masters in Hospitality Management   \n",
       "\n",
       "                                         universityName  \\\n",
       "1                                   University of Leeds   \n",
       "4                                 King’s College London   \n",
       "12                                King’s College London   \n",
       "48                              University of Greenwich   \n",
       "86                                  University of Leeds   \n",
       "...                                                 ...   \n",
       "5909  The Hong Kong University of Science and Techno...   \n",
       "5937                              University of Cologne   \n",
       "5957                               University of Lisbon   \n",
       "5963  European School of Political and Social Scienc...   \n",
       "5965                        Ecole hotelière de Lausanne   \n",
       "\n",
       "                                            description  \\\n",
       "1     Businesses and governments rely on sound finan...   \n",
       "4     Join us for an online session for prospective ...   \n",
       "12    The Analytical Toxicology MSc is a unique stud...   \n",
       "48    Meet the future demands of the construction in...   \n",
       "86    Our MSc Economics allows you to apply economic...   \n",
       "...                                                 ...   \n",
       "5909  The program is meant to meet the needs of prac...   \n",
       "5937  This programme provides you with:a solid found...   \n",
       "5957  OBJECTIVESThe MSc in Economics aims to provide...   \n",
       "5963  Europe and the EU in a changing worldOur inter...   \n",
       "5965  With our Master in Hospitality Management, you...   \n",
       "\n",
       "                                                    url  \n",
       "1     https://www.findamasters.com/masters-degrees/c...  \n",
       "4     https://www.findamasters.com/masters-degrees/c...  \n",
       "12    https://www.findamasters.com/masters-degrees/c...  \n",
       "48    https://www.findamasters.com/masters-degrees/c...  \n",
       "86    https://www.findamasters.com/masters-degrees/c...  \n",
       "...                                                 ...  \n",
       "5909  https://www.findamasters.com/masters-degrees/c...  \n",
       "5937  https://www.findamasters.com/masters-degrees/c...  \n",
       "5957  https://www.findamasters.com/masters-degrees/c...  \n",
       "5963  https://www.findamasters.com/masters-degrees/c...  \n",
       "5965  https://www.findamasters.com/masters-degrees/c...  \n",
       "\n",
       "[455 rows x 4 columns]"
      ]
     },
     "execution_count": 14,
     "metadata": {},
     "output_type": "execute_result"
    }
   ],
   "source": [
    "naive_search_engine(\"advanced knowledge\")"
   ]
  },
  {
   "cell_type": "markdown",
   "metadata": {
    "collapsed": false,
    "jupyter": {
     "outputs_hidden": false
    }
   },
   "source": [
    "## 2.2) Conjunctive query & Ranking score\n",
    "\n",
    "### 2.2.1) Inverted index\n"
   ]
  },
  {
   "cell_type": "code",
   "execution_count": 15,
   "metadata": {
    "ExecuteTime": {
     "end_time": "2023-11-24T15:44:50.839116Z",
     "start_time": "2023-11-24T15:44:49.529475Z"
    },
    "collapsed": false,
    "jupyter": {
     "outputs_hidden": false
    }
   },
   "outputs": [],
   "source": [
    "# Here we create the second inverted index dictionary.\n",
    "\n",
    "# Preallocate a dictionary with the form: {term_id : [(doc_id, tfidf_score)]}\n",
    "new_inverted_index = {i : [] for i in range(len(terms_id_dict))}\n",
    "\n",
    "# Iterating over all terms and texts in the \"clean_description\" field\n",
    "for i, text in enumerate(data[\"clean_description\"]):\n",
    "\n",
    "    text_list = text.split(\",\")\n",
    "\n",
    "    # \"set\" here has the purpose of selecting unique terms only.\n",
    "    for term in set(text_list):\n",
    "\n",
    "        # Get term id\n",
    "        term_id = terms_id_dict[term]\n",
    "\n",
    "        # Get idf score: log( total number of documents / number of documents term is in )\n",
    "        term_idf = np.log(len(data[\"clean_description\"]) / len(inverted_index[term_id]))\n",
    "\n",
    "        # Get tf score: number of times term appears in text / total number of terms in text\n",
    "        term_tf =  text_list.count(term) / len(text_list)\n",
    "\n",
    "        # Compute tfidf score\n",
    "        term_tfidf = term_tf * term_idf\n",
    "\n",
    "        # Update new_inverted_index list with a tuple\n",
    "        new_inverted_index[term_id].append((i , term_tfidf))"
   ]
  },
  {
   "cell_type": "markdown",
   "metadata": {
    "collapsed": false,
    "jupyter": {
     "outputs_hidden": false
    }
   },
   "source": [
    "In the execution of queries  we will use the inverted index dictionary defined below, which transforms the list of tuples contained in new_inverted_index into a dictionary.\n",
    "With this structure **tfidf(term_id, doc_id) = new_inverted_index_as_dict[term_id][doc_id]**"
   ]
  },
  {
   "cell_type": "code",
   "execution_count": 16,
   "metadata": {
    "ExecuteTime": {
     "end_time": "2023-11-24T15:45:04.119408Z",
     "start_time": "2023-11-24T15:45:04.043463Z"
    },
    "collapsed": false,
    "jupyter": {
     "outputs_hidden": false
    }
   },
   "outputs": [],
   "source": [
    "# Convert new_inverted_index values to dictionaries\n",
    "new_inverted_index_as_dict = {key : dict(new_inverted_index[key]) for key in new_inverted_index.keys()}"
   ]
  },
  {
   "cell_type": "markdown",
   "metadata": {
    "collapsed": false,
    "jupyter": {
     "outputs_hidden": false
    }
   },
   "source": [
    "## 2.2.2) Execute the query\n",
    "\n",
    "We define our second search engine below"
   ]
  },
  {
   "cell_type": "code",
   "execution_count": 17,
   "metadata": {
    "ExecuteTime": {
     "end_time": "2023-11-24T15:45:09.584794Z",
     "start_time": "2023-11-24T15:45:09.550292Z"
    },
    "collapsed": false,
    "jupyter": {
     "outputs_hidden": false
    }
   },
   "outputs": [],
   "source": [
    "# This function computes from scratch cosine similarity\n",
    "def cosine_similarity(vec1, vec2):\n",
    "\n",
    "    dot_product = np.dot(vec1, vec2)\n",
    "    norm_vec1 = np.linalg.norm(vec1)\n",
    "    norm_vec2 = np.linalg.norm(vec2)\n",
    "\n",
    "    # Handle division by zero\n",
    "    if norm_vec1 == 0 or norm_vec2 == 0:\n",
    "        return 0\n",
    "\n",
    "    similarity = dot_product / (norm_vec1 * norm_vec2)\n",
    "    return similarity\n",
    "\n",
    "def  top_k_search_engine(query, k):\n",
    "\n",
    "    # Apply same preprocessing done for descriptions and split wrt \",\"\n",
    "    query = preprocess_description(query).split(\",\")\n",
    "\n",
    "    # Get query terms ids\n",
    "    query_terms_ids = [terms_id_dict[term] for term in set(query)]\n",
    "\n",
    "    # Calculate for each term in query its tfidf score\n",
    "    query_terms_idf = np.array([np.log(len(data[\"clean_description\"]) / len(inverted_index[term_id])) for term_id in query_terms_ids])\n",
    "    query_terms_tf =  np.array([query.count(term) / len(query) for term in set(query)])\n",
    "    query_terms_tfidf = query_terms_idf * query_terms_tf\n",
    "\n",
    "    # Create the tfidf representation of the query\n",
    "    query_tfidf = np.zeros(len(terms_set))\n",
    "    query_tfidf[query_terms_ids] = query_terms_tfidf\n",
    "\n",
    "    # Get the indexes of docs that contain all terms in query using the first inverted index dict\n",
    "    docs_ids = [set(inverted_index[term_id]) for term_id in query_terms_ids]\n",
    "    appropriate_docs_ids = list(set.intersection(*docs_ids))\n",
    "\n",
    "    # docs_tfidf will contain for each doc its tfidf vectorial representation.\n",
    "    docs_tfidf = {i : [] for i in appropriate_docs_ids}\n",
    "\n",
    "    # Iterate over docs containing all the words in query\n",
    "    for doc_id in appropriate_docs_ids:\n",
    "\n",
    "        # Initialize tdidf vectorial representation of doc\n",
    "        doc_tfidf = np.zeros(len(terms_set))\n",
    "\n",
    "        # Get doc as a list of preprocessed words\n",
    "        doc = data[\"clean_description\"].iloc[doc_id].split(\",\")\n",
    "\n",
    "        # For each term\n",
    "        for term in set(doc):\n",
    "            # Get term_id\n",
    "            term_id = terms_id_dict[term]\n",
    "\n",
    "            # Store tfidf(term_id, doc_id) in doc vectorial representation\n",
    "            doc_tfidf[term_id] = new_inverted_index_as_dict[term_id][doc_id]\n",
    "\n",
    "        # Store doc vectorial representation\n",
    "        docs_tfidf[doc_id] = doc_tfidf\n",
    "\n",
    "\n",
    "    # Compute cosine similarities between query_tfidf and each doc_tfidf\n",
    "    cos_sims = [cosine_similarity(query_tfidf, docs_tfidf[key]) for key in appropriate_docs_ids]\n",
    "\n",
    "\n",
    "    # Select all appropriate_docs_ids from data and specified columns\n",
    "    result  = data.iloc[appropriate_docs_ids, [0,1,4,12]]\n",
    "\n",
    "    # Add the cosine similarity score and sort the dataframe\n",
    "    result[\"cos_sim\"] = cos_sims\n",
    "    result = result.sort_values(by='cos_sim', ascending=False)\n",
    "\n",
    "    # Get, if possible, just the top k\n",
    "    if k < result.shape[0]:\n",
    "        result = result[:k]\n",
    "\n",
    "    return result"
   ]
  },
  {
   "cell_type": "code",
   "execution_count": 26,
   "metadata": {
    "ExecuteTime": {
     "end_time": "2023-11-24T15:45:16.617308Z",
     "start_time": "2023-11-24T15:45:16.276888Z"
    },
    "collapsed": false,
    "jupyter": {
     "outputs_hidden": false
    }
   },
   "outputs": [
    {
     "data": {
      "text/html": [
       "<div>\n",
       "<style scoped>\n",
       "    .dataframe tbody tr th:only-of-type {\n",
       "        vertical-align: middle;\n",
       "    }\n",
       "\n",
       "    .dataframe tbody tr th {\n",
       "        vertical-align: top;\n",
       "    }\n",
       "\n",
       "    .dataframe thead th {\n",
       "        text-align: right;\n",
       "    }\n",
       "</style>\n",
       "<table border=\"1\" class=\"dataframe\">\n",
       "  <thead>\n",
       "    <tr style=\"text-align: right;\">\n",
       "      <th></th>\n",
       "      <th>courseName</th>\n",
       "      <th>universityName</th>\n",
       "      <th>description</th>\n",
       "      <th>url</th>\n",
       "      <th>cos_sim</th>\n",
       "    </tr>\n",
       "  </thead>\n",
       "  <tbody>\n",
       "    <tr>\n",
       "      <th>756</th>\n",
       "      <td>Advanced Computing MSc</td>\n",
       "      <td>King’s College London</td>\n",
       "      <td>Our Advanced Computing MSc provides knowledge ...</td>\n",
       "      <td>https://www.findamasters.com/masters-degrees/c...</td>\n",
       "      <td>0.361235</td>\n",
       "    </tr>\n",
       "    <tr>\n",
       "      <th>701</th>\n",
       "      <td>Advanced Clinical Practice MSc</td>\n",
       "      <td>University of Greenwich</td>\n",
       "      <td>Learn essential strategies and prepare for lea...</td>\n",
       "      <td>https://www.findamasters.com/masters-degrees/c...</td>\n",
       "      <td>0.333983</td>\n",
       "    </tr>\n",
       "    <tr>\n",
       "      <th>931</th>\n",
       "      <td>Advancing Practice - MSc</td>\n",
       "      <td>University of Northampton</td>\n",
       "      <td>Our MSc Advancing Practice awards support the ...</td>\n",
       "      <td>https://www.findamasters.com/masters-degrees/c...</td>\n",
       "      <td>0.325750</td>\n",
       "    </tr>\n",
       "    <tr>\n",
       "      <th>654</th>\n",
       "      <td>Advanced Clinical Practice - MSc</td>\n",
       "      <td>Canterbury Christ Church University</td>\n",
       "      <td>Gain the knowledge and skills needed to become...</td>\n",
       "      <td>https://www.findamasters.com/masters-degrees/c...</td>\n",
       "      <td>0.283256</td>\n",
       "    </tr>\n",
       "    <tr>\n",
       "      <th>830</th>\n",
       "      <td>Advanced Mechanical Engineering - MSc (Eng)</td>\n",
       "      <td>University of Leeds</td>\n",
       "      <td>This course offers a broad range of advanced s...</td>\n",
       "      <td>https://www.findamasters.com/masters-degrees/c...</td>\n",
       "      <td>0.279986</td>\n",
       "    </tr>\n",
       "    <tr>\n",
       "      <th>897</th>\n",
       "      <td>Advanced Professional Practice (MSc)</td>\n",
       "      <td>University of Gloucestershire</td>\n",
       "      <td>Our lecturers are research active experts who ...</td>\n",
       "      <td>https://www.findamasters.com/masters-degrees/c...</td>\n",
       "      <td>0.270317</td>\n",
       "    </tr>\n",
       "    <tr>\n",
       "      <th>653</th>\n",
       "      <td>Advanced Clinical Practice - MSc</td>\n",
       "      <td>University of Northampton</td>\n",
       "      <td>Our MSc Advanced Clinical Practice course aims...</td>\n",
       "      <td>https://www.findamasters.com/masters-degrees/c...</td>\n",
       "      <td>0.270123</td>\n",
       "    </tr>\n",
       "    <tr>\n",
       "      <th>786</th>\n",
       "      <td>Advanced Healthcare Practice - MSc</td>\n",
       "      <td>Cardiff University</td>\n",
       "      <td>Why study this courseOur MSc Advanced Healthca...</td>\n",
       "      <td>https://www.findamasters.com/masters-degrees/c...</td>\n",
       "      <td>0.267574</td>\n",
       "    </tr>\n",
       "    <tr>\n",
       "      <th>712</th>\n",
       "      <td>Advanced Clinical Practitioner - MSc</td>\n",
       "      <td>University of Sunderland</td>\n",
       "      <td>The MSc Advanced Clinical Practitioner is a hi...</td>\n",
       "      <td>https://www.findamasters.com/masters-degrees/c...</td>\n",
       "      <td>0.251893</td>\n",
       "    </tr>\n",
       "    <tr>\n",
       "      <th>892</th>\n",
       "      <td>Advanced Practice in Healthcare MSc</td>\n",
       "      <td>University of Liverpool</td>\n",
       "      <td>Explore specialist areas of practice in-depth ...</td>\n",
       "      <td>https://www.findamasters.com/masters-degrees/c...</td>\n",
       "      <td>0.250338</td>\n",
       "    </tr>\n",
       "  </tbody>\n",
       "</table>\n",
       "</div>"
      ],
      "text/plain": [
       "                                      courseName  \\\n",
       "756                       Advanced Computing MSc   \n",
       "701               Advanced Clinical Practice MSc   \n",
       "931                     Advancing Practice - MSc   \n",
       "654             Advanced Clinical Practice - MSc   \n",
       "830  Advanced Mechanical Engineering - MSc (Eng)   \n",
       "897         Advanced Professional Practice (MSc)   \n",
       "653             Advanced Clinical Practice - MSc   \n",
       "786           Advanced Healthcare Practice - MSc   \n",
       "712         Advanced Clinical Practitioner - MSc   \n",
       "892          Advanced Practice in Healthcare MSc   \n",
       "\n",
       "                          universityName  \\\n",
       "756                King’s College London   \n",
       "701              University of Greenwich   \n",
       "931            University of Northampton   \n",
       "654  Canterbury Christ Church University   \n",
       "830                  University of Leeds   \n",
       "897        University of Gloucestershire   \n",
       "653            University of Northampton   \n",
       "786                   Cardiff University   \n",
       "712             University of Sunderland   \n",
       "892              University of Liverpool   \n",
       "\n",
       "                                           description  \\\n",
       "756  Our Advanced Computing MSc provides knowledge ...   \n",
       "701  Learn essential strategies and prepare for lea...   \n",
       "931  Our MSc Advancing Practice awards support the ...   \n",
       "654  Gain the knowledge and skills needed to become...   \n",
       "830  This course offers a broad range of advanced s...   \n",
       "897  Our lecturers are research active experts who ...   \n",
       "653  Our MSc Advanced Clinical Practice course aims...   \n",
       "786  Why study this courseOur MSc Advanced Healthca...   \n",
       "712  The MSc Advanced Clinical Practitioner is a hi...   \n",
       "892  Explore specialist areas of practice in-depth ...   \n",
       "\n",
       "                                                   url   cos_sim  \n",
       "756  https://www.findamasters.com/masters-degrees/c...  0.361235  \n",
       "701  https://www.findamasters.com/masters-degrees/c...  0.333983  \n",
       "931  https://www.findamasters.com/masters-degrees/c...  0.325750  \n",
       "654  https://www.findamasters.com/masters-degrees/c...  0.283256  \n",
       "830  https://www.findamasters.com/masters-degrees/c...  0.279986  \n",
       "897  https://www.findamasters.com/masters-degrees/c...  0.270317  \n",
       "653  https://www.findamasters.com/masters-degrees/c...  0.270123  \n",
       "786  https://www.findamasters.com/masters-degrees/c...  0.267574  \n",
       "712  https://www.findamasters.com/masters-degrees/c...  0.251893  \n",
       "892  https://www.findamasters.com/masters-degrees/c...  0.250338  "
      ]
     },
     "execution_count": 26,
     "metadata": {},
     "output_type": "execute_result"
    }
   ],
   "source": [
    "top_k_search_engine(\"advanced knowledge\", k = 10)"
   ]
  },
  {
   "cell_type": "markdown",
   "metadata": {
    "collapsed": false,
    "jupyter": {
     "outputs_hidden": false
    }
   },
   "source": [
    "## 3. Define a new score!\n",
    "Now it's your turn: build a new metric to rank MSc degrees."
   ]
  },
  {
   "cell_type": "markdown",
   "metadata": {
    "collapsed": false,
    "jupyter": {
     "outputs_hidden": false
    }
   },
   "source": [
    "### Answer\n",
    "\n",
    "To develop our customized search engine, we opted to gather supplementary information for each university.\n",
    "Recognizing that the selection of the \"ideal\" university is influenced by the city in which one resides, we chose to extract scores reflecting the quality of life in each city.\n",
    "\n",
    "The following function used the [Teleport](https://teleport.org/) API to retrieve, for each city in our Data, three scores:\n",
    "- Education score;\n",
    "- Safety score;\n",
    "- Cost of living score.\n",
    "\n",
    "All of them are normalized in $[0,10]$.\n",
    "When a city was not integrated into the teleport API, our solution was to obtain the scores associated with the capital of the country in which the city is located. In order to do so we will use the country field of our data in union with the \"country_capital_dict\", which maps each country to its capital."
   ]
  },
  {
   "cell_type": "code",
   "execution_count": 28,
   "metadata": {
    "ExecuteTime": {
     "end_time": "2023-11-24T16:18:03.134968Z",
     "start_time": "2023-11-24T16:18:03.111199Z"
    },
    "collapsed": false,
    "jupyter": {
     "outputs_hidden": false
    }
   },
   "outputs": [],
   "source": [
    "# Load country_capital_dict\n",
    "with open(\"country_capital_dict.json\", 'r') as json_file:\n",
    "    country_capital_dict = json.load(json_file)\n",
    "\n",
    "# This function returns life quality scores for each city\n",
    "def get_scores_out_of_ten(city):\n",
    "    # Handle different data types\n",
    "    city = str(city)\n",
    "\n",
    "    try:\n",
    "        # Try to get URL of the initial city\n",
    "        base_url = f\"https://api.teleport.org/api/urban_areas/slug:{city.lower()}/scores/\"\n",
    "        response = requests.get(base_url)\n",
    "\n",
    "        # If city not found, retrieve URL of capital city\n",
    "        if response.status_code == 404:\n",
    "\n",
    "            # Retrieve the country of the city\n",
    "            country = data[data[\"city\"] == city][\"country\"].iloc[0]\n",
    "\n",
    "            # Retrieve capital city from  the country\n",
    "            capital_city = country_capital_dict[country]\n",
    "\n",
    "            # Try to get URL of the capital city\n",
    "            base_url = f\"https://api.teleport.org/api/urban_areas/slug:{capital_city.lower()}/scores/\"\n",
    "            response = requests.get(base_url)\n",
    "\n",
    "            # If capital city not found, return error\n",
    "            if response.status_code == 404:\n",
    "                return (\"City not found\", \"City not found\", \"City not found\")\n",
    "\n",
    "        # Retrieve scores from URL\n",
    "        datas = response.json()\n",
    "\n",
    "        # Retrieve all categories scores\n",
    "        categories = datas['categories']\n",
    "        scores = {category[\"name\"] : float(category[\"score_out_of_10\"]) for  category in categories}\n",
    "\n",
    "        # Return Cost of Living, Education and Safety\n",
    "        return (scores[\"Cost of Living\"],\n",
    "                scores[\"Education\"],\n",
    "                scores[\"Safety\"])\n",
    "\n",
    "\n",
    "    except requests.exceptions.RequestException as e:\n",
    "        return {'error': f'Request to Teleport API failed: {e}'}"
   ]
  },
  {
   "cell_type": "code",
   "execution_count": null,
   "metadata": {
    "ExecuteTime": {
     "end_time": "2023-11-24T15:59:06.529557Z",
     "start_time": "2023-11-24T15:45:47.011287Z"
    },
    "collapsed": false,
    "jupyter": {
     "outputs_hidden": false
    }
   },
   "outputs": [],
   "source": [
    "# Create three new columns for our new scores (around 10m to run)\n",
    "data[['Cost_of_Living', 'Education', 'Safety']] = data.city.apply(lambda x: pd.Series(get_scores_out_of_ten(x)))"
   ]
  },
  {
   "cell_type": "code",
   "execution_count": 30,
   "metadata": {
    "ExecuteTime": {
     "end_time": "2023-11-24T16:11:15.133181Z",
     "start_time": "2023-11-24T16:11:15.083756Z"
    },
    "collapsed": false,
    "jupyter": {
     "outputs_hidden": false
    }
   },
   "outputs": [
    {
     "data": {
      "text/html": [
       "<div>\n",
       "<style scoped>\n",
       "    .dataframe tbody tr th:only-of-type {\n",
       "        vertical-align: middle;\n",
       "    }\n",
       "\n",
       "    .dataframe tbody tr th {\n",
       "        vertical-align: top;\n",
       "    }\n",
       "\n",
       "    .dataframe thead th {\n",
       "        text-align: right;\n",
       "    }\n",
       "</style>\n",
       "<table border=\"1\" class=\"dataframe\">\n",
       "  <thead>\n",
       "    <tr style=\"text-align: right;\">\n",
       "      <th></th>\n",
       "      <th>city</th>\n",
       "      <th>Cost_of_Living</th>\n",
       "      <th>Education</th>\n",
       "      <th>Safety</th>\n",
       "    </tr>\n",
       "  </thead>\n",
       "  <tbody>\n",
       "    <tr>\n",
       "      <th>0</th>\n",
       "      <td>Glasgow</td>\n",
       "      <td>5.623</td>\n",
       "      <td>5.3065</td>\n",
       "      <td>7.4960</td>\n",
       "    </tr>\n",
       "    <tr>\n",
       "      <th>1</th>\n",
       "      <td>Leeds</td>\n",
       "      <td>5.363</td>\n",
       "      <td>4.9825</td>\n",
       "      <td>7.7310</td>\n",
       "    </tr>\n",
       "    <tr>\n",
       "      <th>2</th>\n",
       "      <td>London</td>\n",
       "      <td>3.940</td>\n",
       "      <td>9.0270</td>\n",
       "      <td>7.2435</td>\n",
       "    </tr>\n",
       "    <tr>\n",
       "      <th>3</th>\n",
       "      <td>Reading</td>\n",
       "      <td>3.940</td>\n",
       "      <td>9.0270</td>\n",
       "      <td>7.2435</td>\n",
       "    </tr>\n",
       "    <tr>\n",
       "      <th>4</th>\n",
       "      <td>London</td>\n",
       "      <td>3.940</td>\n",
       "      <td>9.0270</td>\n",
       "      <td>7.2435</td>\n",
       "    </tr>\n",
       "    <tr>\n",
       "      <th>5</th>\n",
       "      <td>Leeds</td>\n",
       "      <td>5.363</td>\n",
       "      <td>4.9825</td>\n",
       "      <td>7.7310</td>\n",
       "    </tr>\n",
       "    <tr>\n",
       "      <th>6</th>\n",
       "      <td>Brussels</td>\n",
       "      <td>4.477</td>\n",
       "      <td>6.6530</td>\n",
       "      <td>6.7030</td>\n",
       "    </tr>\n",
       "    <tr>\n",
       "      <th>7</th>\n",
       "      <td>Brussels</td>\n",
       "      <td>4.477</td>\n",
       "      <td>6.6530</td>\n",
       "      <td>6.7030</td>\n",
       "    </tr>\n",
       "    <tr>\n",
       "      <th>8</th>\n",
       "      <td>Glasgow</td>\n",
       "      <td>5.623</td>\n",
       "      <td>5.3065</td>\n",
       "      <td>7.4960</td>\n",
       "    </tr>\n",
       "    <tr>\n",
       "      <th>9</th>\n",
       "      <td>Helsinki</td>\n",
       "      <td>4.121</td>\n",
       "      <td>5.4545</td>\n",
       "      <td>8.6740</td>\n",
       "    </tr>\n",
       "  </tbody>\n",
       "</table>\n",
       "</div>"
      ],
      "text/plain": [
       "       city  Cost_of_Living  Education  Safety\n",
       "0   Glasgow           5.623     5.3065  7.4960\n",
       "1     Leeds           5.363     4.9825  7.7310\n",
       "2    London           3.940     9.0270  7.2435\n",
       "3   Reading           3.940     9.0270  7.2435\n",
       "4    London           3.940     9.0270  7.2435\n",
       "5     Leeds           5.363     4.9825  7.7310\n",
       "6  Brussels           4.477     6.6530  6.7030\n",
       "7  Brussels           4.477     6.6530  6.7030\n",
       "8   Glasgow           5.623     5.3065  7.4960\n",
       "9  Helsinki           4.121     5.4545  8.6740"
      ]
     },
     "execution_count": 30,
     "metadata": {},
     "output_type": "execute_result"
    }
   ],
   "source": [
    "# Show the new columns\n",
    "data[['city','Cost_of_Living', 'Education', 'Safety']].head(10)"
   ]
  },
  {
   "cell_type": "markdown",
   "metadata": {
    "collapsed": false,
    "jupyter": {
     "outputs_hidden": false
    }
   },
   "source": [
    "Those scores will affect the importance our custom search engine gives to each university.\n",
    "As an initial and naive approach we decided to keep thinks linear and just compute the new score as shown below:\n",
    "\n",
    "\\begin{equation}\n",
    "NewScore = \\frac{CosSimilarity \\cdot Education \\cdot Safety }{LivingCost}\n",
    "\\end{equation}\n",
    "\n",
    "\n",
    "The following function follows the one already shown previously but orders the result with respect to the new score we just defined."
   ]
  },
  {
   "cell_type": "code",
   "execution_count": 207,
   "metadata": {},
   "outputs": [],
   "source": [
    "data = pd.read_table(\"new_dataset.tsv\")"
   ]
  },
  {
   "cell_type": "code",
   "execution_count": 208,
   "metadata": {},
   "outputs": [],
   "source": [
    "def  custom_search_engine(query, k):\n",
    "\n",
    "    # Apply same preprocessing done for descriptions and split wrt \",\"\n",
    "    query = preprocess_description(query).split(\",\")\n",
    "\n",
    "    # Get query terms ids\n",
    "    query_terms_ids = [terms_id_dict[term] for term in set(query)]\n",
    "\n",
    "    # Calculate for each term in query its tfidf score\n",
    "    query_terms_idf = np.array([np.log(len(data[\"clean_description\"]) / len(inverted_index[term_id])) for term_id in query_terms_ids])\n",
    "    query_terms_tf =  np.array([query.count(term) / len(query) for term in set(query)])\n",
    "    query_terms_tfidf = query_terms_idf * query_terms_tf\n",
    "\n",
    "    # Create the tfidf representation of the query\n",
    "    query_tfidf = np.zeros(len(terms_set))\n",
    "    query_tfidf[query_terms_ids] = query_terms_tfidf\n",
    "\n",
    "    # Get the indexes of docs that contain all terms in query using the first inverted index dict\n",
    "    docs_ids = [set(inverted_index[term_id]) for term_id in query_terms_ids]\n",
    "    appropriate_docs_ids = list(set.intersection(*docs_ids))\n",
    "\n",
    "    # docs_tfidf will contain for each doc its tfidf vectorial representation.\n",
    "    docs_tfidf = {i : [] for i in appropriate_docs_ids}\n",
    "\n",
    "    # Iterate over docs containing all the words in query\n",
    "    for doc_id in appropriate_docs_ids:\n",
    "\n",
    "        # Initialize tdidf vectorial representation of doc\n",
    "        doc_tfidf = np.zeros(len(terms_set))\n",
    "\n",
    "        # Get doc as a list of preprocessed words\n",
    "        doc = data[\"clean_description\"].iloc[doc_id].split(\",\")\n",
    "\n",
    "        # For each term\n",
    "        for term in set(doc):\n",
    "            # Get term_id\n",
    "            term_id = terms_id_dict[term]\n",
    "\n",
    "            # Store tfidf(term_id, doc_id) in doc vectorial representation\n",
    "            doc_tfidf[term_id] = new_inverted_index_as_dict[term_id][doc_id]\n",
    "\n",
    "        # Store doc vectorial representation\n",
    "        docs_tfidf[doc_id] = doc_tfidf\n",
    "\n",
    "\n",
    "    # Compute cosine similarities between query_tfidf and each doc_tfidf\n",
    "    cos_sims = [cosine_similarity(query_tfidf, docs_tfidf[key]) for key in appropriate_docs_ids]\n",
    "\n",
    "\n",
    "    # Select all appropriate_docs_ids from data and specified columns\n",
    "    result  = data.iloc[appropriate_docs_ids, [0,1,4,12, -3, -2, -1]]\n",
    "\n",
    "    # Add the cosine similarity score\n",
    "    result[\"Cos_sim\"] = cos_sims\n",
    "\n",
    "    # Compute our custom score\n",
    "    our_score = result[\"Cos_sim\"] * result[\"Education\"] * result[\"Safety\"] / result[\"Cost_of_Living\"]\n",
    "\n",
    "    # Add the cosine similarity score \n",
    "    result[\"Score\"] = our_score\n",
    "\n",
    "    # Convert the DataFrame to a dictionary\n",
    "    diz = result.to_dict()\n",
    "\n",
    "    # Mantaining the top k-university into an heap\n",
    "    l_heap = []\n",
    "    # Iterate over the keys (indices) and values (scores) \n",
    "    for i,j in zip(diz[\"courseName\"].keys(),diz[\"Score\"].values()):\n",
    "        l_1=[]\n",
    "        l_1.append(j) # Append the score\n",
    "        l_1.append(i) # Append the index (university ID)\n",
    "        heapq.heappush(l_heap,l_1) # Push the pair (score, index) onto the heap\n",
    "\n",
    "    doc=[] # List to store the indices of the top K univerisities\n",
    "    score=[] # List to store the corresponding scores of the top K universities\n",
    "\n",
    "    # Retrieve the top K elements from the heap\n",
    "    for i in heapq.nlargest(k,l_heap):\n",
    "        doc.append(i[1])\n",
    "        score.append(i[0])\n",
    "\n",
    "    # Select rows from the result datafram corresponding to the top K universities\n",
    "    df_heap = result.loc[doc]\n",
    "\n",
    "    # Return the DataFrame containing information about the top K universities\n",
    "    return df_heap"
   ]
  },
  {
   "cell_type": "code",
   "execution_count": 209,
   "metadata": {},
   "outputs": [
    {
     "data": {
      "text/html": [
       "<div>\n",
       "<style scoped>\n",
       "    .dataframe tbody tr th:only-of-type {\n",
       "        vertical-align: middle;\n",
       "    }\n",
       "\n",
       "    .dataframe tbody tr th {\n",
       "        vertical-align: top;\n",
       "    }\n",
       "\n",
       "    .dataframe thead th {\n",
       "        text-align: right;\n",
       "    }\n",
       "</style>\n",
       "<table border=\"1\" class=\"dataframe\">\n",
       "  <thead>\n",
       "    <tr style=\"text-align: right;\">\n",
       "      <th></th>\n",
       "      <th>courseName</th>\n",
       "      <th>universityName</th>\n",
       "      <th>description</th>\n",
       "      <th>url</th>\n",
       "      <th>Cost_of_Living</th>\n",
       "      <th>Education</th>\n",
       "      <th>Safety</th>\n",
       "      <th>Cos_sim</th>\n",
       "      <th>Score</th>\n",
       "    </tr>\n",
       "  </thead>\n",
       "  <tbody>\n",
       "    <tr>\n",
       "      <th>5820</th>\n",
       "      <td>Masters in Hospitality Management</td>\n",
       "      <td>Ecole hotelière de Lausanne</td>\n",
       "      <td>With our Master in Hospitality Management, you...</td>\n",
       "      <td>https://www.findamasters.com/masters-degrees/c...</td>\n",
       "      <td>1.00</td>\n",
       "      <td>6.622</td>\n",
       "      <td>8.0325</td>\n",
       "      <td>0.113095</td>\n",
       "      <td>6.015666</td>\n",
       "    </tr>\n",
       "    <tr>\n",
       "      <th>738</th>\n",
       "      <td>Advanced Computing MSc</td>\n",
       "      <td>King’s College London</td>\n",
       "      <td>Our Advanced Computing MSc provides knowledge ...</td>\n",
       "      <td>https://www.findamasters.com/masters-degrees/c...</td>\n",
       "      <td>3.94</td>\n",
       "      <td>9.027</td>\n",
       "      <td>7.2435</td>\n",
       "      <td>0.361235</td>\n",
       "      <td>5.994941</td>\n",
       "    </tr>\n",
       "    <tr>\n",
       "      <th>685</th>\n",
       "      <td>Advanced Clinical Practice MSc</td>\n",
       "      <td>University of Greenwich</td>\n",
       "      <td>Learn essential strategies and prepare for lea...</td>\n",
       "      <td>https://www.findamasters.com/masters-degrees/c...</td>\n",
       "      <td>3.94</td>\n",
       "      <td>9.027</td>\n",
       "      <td>7.2435</td>\n",
       "      <td>0.333983</td>\n",
       "      <td>5.542688</td>\n",
       "    </tr>\n",
       "    <tr>\n",
       "      <th>906</th>\n",
       "      <td>Advancing Practice - MSc</td>\n",
       "      <td>University of Northampton</td>\n",
       "      <td>Our MSc Advancing Practice awards support the ...</td>\n",
       "      <td>https://www.findamasters.com/masters-degrees/c...</td>\n",
       "      <td>3.94</td>\n",
       "      <td>9.027</td>\n",
       "      <td>7.2435</td>\n",
       "      <td>0.325750</td>\n",
       "      <td>5.406058</td>\n",
       "    </tr>\n",
       "    <tr>\n",
       "      <th>639</th>\n",
       "      <td>Advanced Clinical Practice - MSc</td>\n",
       "      <td>Canterbury Christ Church University</td>\n",
       "      <td>Gain the knowledge and skills needed to become...</td>\n",
       "      <td>https://www.findamasters.com/masters-degrees/c...</td>\n",
       "      <td>3.94</td>\n",
       "      <td>9.027</td>\n",
       "      <td>7.2435</td>\n",
       "      <td>0.283256</td>\n",
       "      <td>4.700829</td>\n",
       "    </tr>\n",
       "    <tr>\n",
       "      <th>875</th>\n",
       "      <td>Advanced Professional Practice (MSc)</td>\n",
       "      <td>University of Gloucestershire</td>\n",
       "      <td>Our lecturers are research active experts who ...</td>\n",
       "      <td>https://www.findamasters.com/masters-degrees/c...</td>\n",
       "      <td>3.94</td>\n",
       "      <td>9.027</td>\n",
       "      <td>7.2435</td>\n",
       "      <td>0.270317</td>\n",
       "      <td>4.486097</td>\n",
       "    </tr>\n",
       "    <tr>\n",
       "      <th>638</th>\n",
       "      <td>Advanced Clinical Practice - MSc</td>\n",
       "      <td>University of Northampton</td>\n",
       "      <td>Our MSc Advanced Clinical Practice course aims...</td>\n",
       "      <td>https://www.findamasters.com/masters-degrees/c...</td>\n",
       "      <td>3.94</td>\n",
       "      <td>9.027</td>\n",
       "      <td>7.2435</td>\n",
       "      <td>0.270123</td>\n",
       "      <td>4.482883</td>\n",
       "    </tr>\n",
       "    <tr>\n",
       "      <th>696</th>\n",
       "      <td>Advanced Clinical Practitioner - MSc</td>\n",
       "      <td>University of Sunderland</td>\n",
       "      <td>The MSc Advanced Clinical Practitioner is a hi...</td>\n",
       "      <td>https://www.findamasters.com/masters-degrees/c...</td>\n",
       "      <td>3.94</td>\n",
       "      <td>9.027</td>\n",
       "      <td>7.2435</td>\n",
       "      <td>0.251893</td>\n",
       "      <td>4.180335</td>\n",
       "    </tr>\n",
       "    <tr>\n",
       "      <th>607</th>\n",
       "      <td>Advanced Biomedical Engineering - MSc</td>\n",
       "      <td>University of Bradford</td>\n",
       "      <td>Biomedical engineering is a fast evolving inte...</td>\n",
       "      <td>https://www.findamasters.com/masters-degrees/c...</td>\n",
       "      <td>3.94</td>\n",
       "      <td>9.027</td>\n",
       "      <td>7.2435</td>\n",
       "      <td>0.243003</td>\n",
       "      <td>4.032800</td>\n",
       "    </tr>\n",
       "    <tr>\n",
       "      <th>655</th>\n",
       "      <td>Advanced Clinical Practice (AHP) - MSc/PGDip/P...</td>\n",
       "      <td>Bangor University</td>\n",
       "      <td>The programme has been developed to enhance pr...</td>\n",
       "      <td>https://www.findamasters.com/masters-degrees/c...</td>\n",
       "      <td>3.94</td>\n",
       "      <td>9.027</td>\n",
       "      <td>7.2435</td>\n",
       "      <td>0.230842</td>\n",
       "      <td>3.830989</td>\n",
       "    </tr>\n",
       "  </tbody>\n",
       "</table>\n",
       "</div>"
      ],
      "text/plain": [
       "                                             courseName  \\\n",
       "5820                  Masters in Hospitality Management   \n",
       "738                              Advanced Computing MSc   \n",
       "685                      Advanced Clinical Practice MSc   \n",
       "906                            Advancing Practice - MSc   \n",
       "639                    Advanced Clinical Practice - MSc   \n",
       "875                Advanced Professional Practice (MSc)   \n",
       "638                    Advanced Clinical Practice - MSc   \n",
       "696                Advanced Clinical Practitioner - MSc   \n",
       "607               Advanced Biomedical Engineering - MSc   \n",
       "655   Advanced Clinical Practice (AHP) - MSc/PGDip/P...   \n",
       "\n",
       "                           universityName  \\\n",
       "5820          Ecole hotelière de Lausanne   \n",
       "738                 King’s College London   \n",
       "685               University of Greenwich   \n",
       "906             University of Northampton   \n",
       "639   Canterbury Christ Church University   \n",
       "875         University of Gloucestershire   \n",
       "638             University of Northampton   \n",
       "696              University of Sunderland   \n",
       "607                University of Bradford   \n",
       "655                     Bangor University   \n",
       "\n",
       "                                            description  \\\n",
       "5820  With our Master in Hospitality Management, you...   \n",
       "738   Our Advanced Computing MSc provides knowledge ...   \n",
       "685   Learn essential strategies and prepare for lea...   \n",
       "906   Our MSc Advancing Practice awards support the ...   \n",
       "639   Gain the knowledge and skills needed to become...   \n",
       "875   Our lecturers are research active experts who ...   \n",
       "638   Our MSc Advanced Clinical Practice course aims...   \n",
       "696   The MSc Advanced Clinical Practitioner is a hi...   \n",
       "607   Biomedical engineering is a fast evolving inte...   \n",
       "655   The programme has been developed to enhance pr...   \n",
       "\n",
       "                                                    url  Cost_of_Living  \\\n",
       "5820  https://www.findamasters.com/masters-degrees/c...            1.00   \n",
       "738   https://www.findamasters.com/masters-degrees/c...            3.94   \n",
       "685   https://www.findamasters.com/masters-degrees/c...            3.94   \n",
       "906   https://www.findamasters.com/masters-degrees/c...            3.94   \n",
       "639   https://www.findamasters.com/masters-degrees/c...            3.94   \n",
       "875   https://www.findamasters.com/masters-degrees/c...            3.94   \n",
       "638   https://www.findamasters.com/masters-degrees/c...            3.94   \n",
       "696   https://www.findamasters.com/masters-degrees/c...            3.94   \n",
       "607   https://www.findamasters.com/masters-degrees/c...            3.94   \n",
       "655   https://www.findamasters.com/masters-degrees/c...            3.94   \n",
       "\n",
       "      Education  Safety   Cos_sim     Score  \n",
       "5820      6.622  8.0325  0.113095  6.015666  \n",
       "738       9.027  7.2435  0.361235  5.994941  \n",
       "685       9.027  7.2435  0.333983  5.542688  \n",
       "906       9.027  7.2435  0.325750  5.406058  \n",
       "639       9.027  7.2435  0.283256  4.700829  \n",
       "875       9.027  7.2435  0.270317  4.486097  \n",
       "638       9.027  7.2435  0.270123  4.482883  \n",
       "696       9.027  7.2435  0.251893  4.180335  \n",
       "607       9.027  7.2435  0.243003  4.032800  \n",
       "655       9.027  7.2435  0.230842  3.830989  "
      ]
     },
     "execution_count": 209,
     "metadata": {},
     "output_type": "execute_result"
    }
   ],
   "source": [
    "custom_search_engine(\"advanced knowledge\", k = 10)"
   ]
  },
  {
   "cell_type": "markdown",
   "metadata": {},
   "source": [
    "## 4. Visualizing the most relevant MSc degrees"
   ]
  },
  {
   "cell_type": "markdown",
   "metadata": {},
   "source": [
    "Given the results of step 3 we selected the city and country of the results, thanks to the _geopy_ library we derive the longitude and latitude of the cities of the master's degree programs. \\\n",
    "Then with the _plotly_ library we constructed an interactive map in which the dots are the different courses of study given by the query result. In the map we showed the course name, faculty, university name, fees and the three new indices derived in step 3 which are safety, education and cost of living.  \\\n",
    "The result points are also colored according to fees with a scale from yellow (high), fuchsia (medium) to blue (low)."
   ]
  },
  {
   "cell_type": "code",
   "execution_count": 210,
   "metadata": {},
   "outputs": [],
   "source": [
    "# Select only the data from the search engine above\n",
    "todisplay = custom_search_engine(\"advanced knowledge\", k = 40)"
   ]
  },
  {
   "cell_type": "code",
   "execution_count": 211,
   "metadata": {},
   "outputs": [],
   "source": [
    "# First we create a variable where we store the cities and their corresponding country\n",
    "our_places = set(zip(data[\"city\"],data[\"country\"]))\n",
    "\n",
    "# Retrieve the coordinates\n",
    "coordinates = []\n",
    "\n",
    "for city, country in our_places:\n",
    "    location = geolocator.geocode(f\"{city}, {country}\")\n",
    "    if location is not None:\n",
    "        coordinates.append((city, country, location.latitude, location.longitude))\n",
    "\n",
    "# Initialize the columns to None\n",
    "data[\"latitude\"] = None\n",
    "data[\"longitude\"] = None\n",
    "\n",
    "# Let's put them into our original dataframe\n",
    "for city, country, latitude, longitude in coordinates:\n",
    "    mask = (data[\"city\"] == city) & (data[\"country\"] == country)\n",
    "    data.loc[mask, \"latitude\"] = latitude\n",
    "    data.loc[mask, \"longitude\"] = longitude\n",
    "\n",
    "# Selecting the right indexes\n",
    "places = data.iloc[list(todisplay.index),:]"
   ]
  },
  {
   "cell_type": "code",
   "execution_count": 222,
   "metadata": {},
   "outputs": [
    {
     "data": {
      "application/vnd.plotly.v1+json": {
       "config": {
        "plotlyServerURL": "https://plot.ly"
       },
       "data": [
        {
         "customdata": [
          [
           null,
           8.032499999999999,
           6.622,
           1,
           "Masters in Hospitality Management",
           "Ecole hotelière de Lausanne",
           "Master Programmes"
          ],
          [
           null,
           7.243500000000001,
           9.027,
           3.94,
           "Advanced Computing MSc",
           "King’s College London",
           "Faculty of Natural and Mathematical Sciences"
          ],
          [
           null,
           7.243500000000001,
           9.027,
           3.94,
           "Advanced Clinical Practice MSc",
           "University of Greenwich",
           "School of Health Sciences"
          ],
          [
           null,
           7.243500000000001,
           9.027,
           3.94,
           "Advancing Practice - MSc",
           "University of Northampton",
           "Faculty of Health, Education and Society"
          ],
          [
           2025,
           7.243500000000001,
           9.027,
           3.94,
           "Advanced Clinical Practice - MSc",
           "Canterbury Christ Church University",
           "Faculty of Medicine, Health and Social Care"
          ],
          [
           null,
           7.243500000000001,
           9.027,
           3.94,
           "Advanced Professional Practice (MSc)",
           "University of Gloucestershire",
           "School of Health & Social Care"
          ],
          [
           null,
           7.243500000000001,
           9.027,
           3.94,
           "Advanced Clinical Practice - MSc",
           "University of Northampton",
           "Faculty of Health, Education and Society"
          ],
          [
           null,
           7.243500000000001,
           9.027,
           3.94,
           "Advanced Clinical Practitioner - MSc",
           "University of Sunderland",
           "Faculty of Health Sciences and Wellbeing"
          ],
          [
           null,
           7.243500000000001,
           9.027,
           3.94,
           "Advanced Biomedical Engineering - MSc",
           "University of Bradford",
           "Faculty of Engineering & Digital Technologies"
          ],
          [
           null,
           7.243500000000001,
           9.027,
           3.94,
           "Advanced Clinical Practice (AHP) - MSc/PGDip/PGCert",
           "Bangor University",
           "College of Human Sciences"
          ],
          [
           null,
           7.243500000000001,
           9.027,
           3.94,
           "Advanced Computing (MSc/MRes)",
           "Birkbeck, University of London",
           "School of Computing and Mathematical Sciences"
          ],
          [
           null,
           7.243500000000001,
           9.027,
           3.94,
           "Advanced Clinical Practitioner MSc",
           "Buckinghamshire New University",
           "Postgraduate Programmes"
          ],
          [
           null,
           7.243500000000001,
           9.027,
           3.94,
           "Advanced Clinical Practice (Primary Care) MSc / PGDip",
           "Swansea University",
           "School of Health and Social Care"
          ],
          [
           null,
           7.243500000000001,
           9.027,
           3.94,
           "Aerospace Engineering MSc",
           "Teesside University",
           "School of Computing, Engineering & Design Technologies"
          ],
          [
           null,
           7.243500000000001,
           9.027,
           3.94,
           "Aerospace Engineering (with Advanced Practice) MSc",
           "Teesside University",
           "School of Computing, Engineering & Design Technologies"
          ],
          [
           null,
           7.243500000000001,
           9.027,
           3.94,
           "Advanced Clinical Practice MSc, PGDip, PGCert",
           "King’s College London",
           "Florence Nightingale Faculty of Nursing, Midwifery & Palliative Care"
          ],
          [
           null,
           7.243500000000001,
           9.027,
           3.94,
           "Health Studies MSc",
           "University of Huddersfield",
           "School of Human & Health Sciences"
          ],
          [
           null,
           7.243500000000001,
           9.027,
           3.94,
           "Advanced Clinical Practice MSc",
           "Keele University",
           "School of Nursing and Midwifery"
          ],
          [
           2082,
           7.243500000000001,
           9.027,
           3.94,
           "Advanced Clinical Practice (MSc)",
           "Sheffield Hallam University",
           "Postgraduate Courses"
          ],
          [
           null,
           7.243500000000001,
           9.027,
           3.94,
           "Advanced Nurse Practitioner/Professional Practice MSc",
           "University of the Highlands and Islands",
           "Science, Health and Engineering"
          ],
          [
           null,
           7.243500000000001,
           9.027,
           3.94,
           "Computer Science MSc",
           "University of East London",
           "School of Architecture, Computing and Engineering"
          ],
          [
           null,
           7.243500000000001,
           9.027,
           3.94,
           "Computing",
           "University of East London",
           "School of Architecture, Computing and Engineering"
          ],
          [
           null,
           7.243500000000001,
           9.027,
           3.94,
           "Advanced Paramedic Practice - MSc",
           "University of Hertfordshire",
           "School of Health and Social Work"
          ],
          [
           null,
           7.243500000000001,
           9.027,
           3.94,
           "Advanced Structural Engineering MSc (Campus)",
           "Aberdeen University",
           "School of Engineering"
          ],
          [
           null,
           7.243500000000001,
           9.027,
           3.94,
           "Forensic Psychology (MSc)",
           "University of Derby",
           "College of Health, Psychology and Social Care"
          ],
          [
           null,
           7.243500000000001,
           9.027,
           3.94,
           "Advanced Clinical Practice MSc",
           "University of Worcester",
           "School of Allied Health and Community"
          ],
          [
           null,
           7.243500000000001,
           9.027,
           3.94,
           "Advanced Mechanical Engineering MSc",
           "Brunel University London",
           "Mechanical and Automotive Engineering"
          ],
          [
           null,
           7.243500000000001,
           9.027,
           3.94,
           "Advanced Computer Science MSc",
           "Keele University",
           "School of Computing and Mathematics"
          ],
          [
           null,
           7.243500000000001,
           9.027,
           3.94,
           "Advanced Chemical Engineering, MSc",
           "University of Greenwich",
           "School of Engineering"
          ],
          [
           null,
           7.243500000000001,
           9.027,
           3.94,
           "Electrical Power Engineering MSc",
           "University of Greenwich",
           "School of Engineering"
          ],
          [
           null,
           7.243500000000001,
           9.027,
           3.94,
           "Advanced Engineering Design MSc",
           "Brunel University London",
           "Mechanical and Automotive Engineering"
          ],
          [
           null,
           7.243500000000001,
           9.027,
           3.94,
           "Forensic Science MSc / MRes",
           "King’s College London",
           "Faculty of Life Sciences & Medicine"
          ],
          [
           null,
           7.243500000000001,
           9.027,
           3.94,
           "Advanced Manufacturing MSc",
           "University of Portsmouth",
           "School of Mechanical and Design Engineering"
          ],
          [
           null,
           7.243500000000001,
           9.027,
           3.94,
           "Intelligent Transport Planning and Engineering MSc",
           "University of East London",
           "School of Architecture, Computing and Engineering"
          ],
          [
           192500,
           9.3505,
           9.711,
           4.967,
           "Master of Science in IC Design Engineering",
           "The Hong Kong University of Science and Technology",
           "School of Engineering - Taught Postgraduate Programs"
          ],
          [
           101876,
           7.243500000000001,
           9.027,
           3.94,
           "Advanced Radiotherapy and Oncology Practice - MSc",
           "University of Hertfordshire",
           "School of Health and Social Work"
          ],
          [
           null,
           7.243500000000001,
           9.027,
           3.94,
           "Civil Engineering MSc",
           "University of Greenwich",
           "School of Engineering"
          ],
          [
           null,
           7.243500000000001,
           9.027,
           3.94,
           "Advanced Veterinary Nursing (Anaesthesia)",
           "Harper Adams University",
           "Postgraduate study at Harper Adams"
          ],
          [
           null,
           7.243500000000001,
           9.027,
           3.94,
           "Advanced Clinical Practitioner MSc (Degree Apprenticeship)",
           "University of Greenwich",
           "School of Health Sciences"
          ],
          [
           null,
           7.243500000000001,
           9.027,
           3.94,
           "Criminal Justice and Criminology (MSc)",
           "University of Derby",
           "College of Business, Law and Social Sciences"
          ]
         ],
         "hovertemplate": "<b>%{hovertext}</b><br><br>latitude=%{lat}<br>longitude=%{lon}<br>fees_USD=%{marker.color}<br>Safety=%{customdata[1]}<br>Education=%{customdata[2]}<br>Cost_of_Living=%{customdata[3]}<br>courseName=%{customdata[4]}<br>universityName=%{customdata[5]}<br>facultyName=%{customdata[6]}<extra></extra>",
         "hovertext": [
          "Masters in Hospitality Management",
          "Advanced Computing MSc",
          "Advanced Clinical Practice MSc",
          "Advancing Practice - MSc",
          "Advanced Clinical Practice - MSc",
          "Advanced Professional Practice (MSc)",
          "Advanced Clinical Practice - MSc",
          "Advanced Clinical Practitioner - MSc",
          "Advanced Biomedical Engineering - MSc",
          "Advanced Clinical Practice (AHP) - MSc/PGDip/PGCert",
          "Advanced Computing (MSc/MRes)",
          "Advanced Clinical Practitioner MSc",
          "Advanced Clinical Practice (Primary Care) MSc / PGDip",
          "Aerospace Engineering MSc",
          "Aerospace Engineering (with Advanced Practice) MSc",
          "Advanced Clinical Practice MSc, PGDip, PGCert",
          "Health Studies MSc",
          "Advanced Clinical Practice MSc",
          "Advanced Clinical Practice (MSc)",
          "Advanced Nurse Practitioner/Professional Practice MSc",
          "Computer Science MSc",
          "Computing",
          "Advanced Paramedic Practice - MSc",
          "Advanced Structural Engineering MSc (Campus)",
          "Forensic Psychology (MSc)",
          "Advanced Clinical Practice MSc",
          "Advanced Mechanical Engineering MSc",
          "Advanced Computer Science MSc",
          "Advanced Chemical Engineering, MSc",
          "Electrical Power Engineering MSc",
          "Advanced Engineering Design MSc",
          "Forensic Science MSc / MRes",
          "Advanced Manufacturing MSc",
          "Intelligent Transport Planning and Engineering MSc",
          "Master of Science in IC Design Engineering",
          "Advanced Radiotherapy and Oncology Practice - MSc",
          "Civil Engineering MSc",
          "Advanced Veterinary Nursing (Anaesthesia)",
          "Advanced Clinical Practitioner MSc (Degree Apprenticeship)",
          "Criminal Justice and Criminology (MSc)"
         ],
         "lat": [
          46.5218269,
          51.5074456,
          51.5074456,
          52.2378853,
          51.2800275,
          51.8653705,
          52.2378853,
          54.9058512,
          53.7944229,
          53.2277163,
          51.5074456,
          51.6317449,
          51.6195955,
          54.5760419,
          54.5760419,
          51.5074456,
          53.6466645,
          53.0162014,
          53.3806626,
          57.4790124,
          51.5074456,
          51.5074456,
          51.7634675,
          57.1482429,
          52.9142235,
          52.1911849,
          51.5074456,
          53.0162014,
          51.5074456,
          51.5074456,
          51.5074456,
          51.5074456,
          50.800031,
          51.5074456,
          22.28467135,
          51.7634675,
          51.5074456,
          51.5882332,
          51.5074456,
          52.9142235
         ],
         "legendgroup": "",
         "lon": [
          6.6327025,
          -0.1277653,
          -0.1277653,
          -0.8963639,
          1.0802533,
          -2.2458192,
          -0.8963639,
          -1.3828727,
          -1.7519186,
          -4.1268822,
          -0.1277653,
          -0.75596,
          -3.9459248,
          -1.2344047,
          -1.2344047,
          -0.1277653,
          -1.7822482,
          -2.1812607,
          -1.4702278,
          -4.225739,
          -0.1277653,
          -0.1277653,
          -0.2258741,
          -2.0928095,
          -1.4719885461266053,
          -2.2206585,
          -0.1277653,
          -2.1812607,
          -0.1277653,
          -0.1277653,
          -0.1277653,
          -0.1277653,
          -1.0906023,
          -0.1277653,
          114.29622979760862,
          -0.2258741,
          -0.1277653,
          -2.9974967,
          -0.1277653,
          -1.4719885461266053
         ],
         "marker": {
          "color": [
           null,
           null,
           null,
           null,
           2025,
           null,
           null,
           null,
           null,
           null,
           null,
           null,
           null,
           null,
           null,
           null,
           null,
           null,
           2082,
           null,
           null,
           null,
           null,
           null,
           null,
           null,
           null,
           null,
           null,
           null,
           null,
           null,
           null,
           null,
           192500,
           101876,
           null,
           null,
           null,
           null
          ],
          "coloraxis": "coloraxis"
         },
         "mode": "markers",
         "name": "",
         "showlegend": false,
         "subplot": "mapbox",
         "type": "scattermapbox"
        }
       ],
       "layout": {
        "coloraxis": {
         "colorbar": {
          "title": {
           "text": "fees_USD"
          }
         },
         "colorscale": [
          [
           0,
           "#0d0887"
          ],
          [
           0.1111111111111111,
           "#46039f"
          ],
          [
           0.2222222222222222,
           "#7201a8"
          ],
          [
           0.3333333333333333,
           "#9c179e"
          ],
          [
           0.4444444444444444,
           "#bd3786"
          ],
          [
           0.5555555555555556,
           "#d8576b"
          ],
          [
           0.6666666666666666,
           "#ed7953"
          ],
          [
           0.7777777777777778,
           "#fb9f3a"
          ],
          [
           0.8888888888888888,
           "#fdca26"
          ],
          [
           1,
           "#f0f921"
          ]
         ]
        },
        "height": 600,
        "legend": {
         "tracegroupgap": 0
        },
        "mapbox": {
         "accesstoken": "pk.eyJ1Ijoic3VzYW5uYWJyYXZpIiwiYSI6ImNscGQ3bXR5eTEwamoya3FyaTBjbWt2N2wifQ.h95oGTEioKMBjxmsSAF3yw",
         "center": {
          "lat": 51.58712840375,
          "lon": 1.9527882001338852
         },
         "domain": {
          "x": [
           0,
           1
          ],
          "y": [
           0,
           1
          ]
         },
         "style": "open-street-map",
         "zoom": 5
        },
        "margin": {
         "t": 60
        },
        "template": {
         "data": {
          "bar": [
           {
            "error_x": {
             "color": "#2a3f5f"
            },
            "error_y": {
             "color": "#2a3f5f"
            },
            "marker": {
             "line": {
              "color": "#E5ECF6",
              "width": 0.5
             },
             "pattern": {
              "fillmode": "overlay",
              "size": 10,
              "solidity": 0.2
             }
            },
            "type": "bar"
           }
          ],
          "barpolar": [
           {
            "marker": {
             "line": {
              "color": "#E5ECF6",
              "width": 0.5
             },
             "pattern": {
              "fillmode": "overlay",
              "size": 10,
              "solidity": 0.2
             }
            },
            "type": "barpolar"
           }
          ],
          "carpet": [
           {
            "aaxis": {
             "endlinecolor": "#2a3f5f",
             "gridcolor": "white",
             "linecolor": "white",
             "minorgridcolor": "white",
             "startlinecolor": "#2a3f5f"
            },
            "baxis": {
             "endlinecolor": "#2a3f5f",
             "gridcolor": "white",
             "linecolor": "white",
             "minorgridcolor": "white",
             "startlinecolor": "#2a3f5f"
            },
            "type": "carpet"
           }
          ],
          "choropleth": [
           {
            "colorbar": {
             "outlinewidth": 0,
             "ticks": ""
            },
            "type": "choropleth"
           }
          ],
          "contour": [
           {
            "colorbar": {
             "outlinewidth": 0,
             "ticks": ""
            },
            "colorscale": [
             [
              0,
              "#0d0887"
             ],
             [
              0.1111111111111111,
              "#46039f"
             ],
             [
              0.2222222222222222,
              "#7201a8"
             ],
             [
              0.3333333333333333,
              "#9c179e"
             ],
             [
              0.4444444444444444,
              "#bd3786"
             ],
             [
              0.5555555555555556,
              "#d8576b"
             ],
             [
              0.6666666666666666,
              "#ed7953"
             ],
             [
              0.7777777777777778,
              "#fb9f3a"
             ],
             [
              0.8888888888888888,
              "#fdca26"
             ],
             [
              1,
              "#f0f921"
             ]
            ],
            "type": "contour"
           }
          ],
          "contourcarpet": [
           {
            "colorbar": {
             "outlinewidth": 0,
             "ticks": ""
            },
            "type": "contourcarpet"
           }
          ],
          "heatmap": [
           {
            "colorbar": {
             "outlinewidth": 0,
             "ticks": ""
            },
            "colorscale": [
             [
              0,
              "#0d0887"
             ],
             [
              0.1111111111111111,
              "#46039f"
             ],
             [
              0.2222222222222222,
              "#7201a8"
             ],
             [
              0.3333333333333333,
              "#9c179e"
             ],
             [
              0.4444444444444444,
              "#bd3786"
             ],
             [
              0.5555555555555556,
              "#d8576b"
             ],
             [
              0.6666666666666666,
              "#ed7953"
             ],
             [
              0.7777777777777778,
              "#fb9f3a"
             ],
             [
              0.8888888888888888,
              "#fdca26"
             ],
             [
              1,
              "#f0f921"
             ]
            ],
            "type": "heatmap"
           }
          ],
          "heatmapgl": [
           {
            "colorbar": {
             "outlinewidth": 0,
             "ticks": ""
            },
            "colorscale": [
             [
              0,
              "#0d0887"
             ],
             [
              0.1111111111111111,
              "#46039f"
             ],
             [
              0.2222222222222222,
              "#7201a8"
             ],
             [
              0.3333333333333333,
              "#9c179e"
             ],
             [
              0.4444444444444444,
              "#bd3786"
             ],
             [
              0.5555555555555556,
              "#d8576b"
             ],
             [
              0.6666666666666666,
              "#ed7953"
             ],
             [
              0.7777777777777778,
              "#fb9f3a"
             ],
             [
              0.8888888888888888,
              "#fdca26"
             ],
             [
              1,
              "#f0f921"
             ]
            ],
            "type": "heatmapgl"
           }
          ],
          "histogram": [
           {
            "marker": {
             "pattern": {
              "fillmode": "overlay",
              "size": 10,
              "solidity": 0.2
             }
            },
            "type": "histogram"
           }
          ],
          "histogram2d": [
           {
            "colorbar": {
             "outlinewidth": 0,
             "ticks": ""
            },
            "colorscale": [
             [
              0,
              "#0d0887"
             ],
             [
              0.1111111111111111,
              "#46039f"
             ],
             [
              0.2222222222222222,
              "#7201a8"
             ],
             [
              0.3333333333333333,
              "#9c179e"
             ],
             [
              0.4444444444444444,
              "#bd3786"
             ],
             [
              0.5555555555555556,
              "#d8576b"
             ],
             [
              0.6666666666666666,
              "#ed7953"
             ],
             [
              0.7777777777777778,
              "#fb9f3a"
             ],
             [
              0.8888888888888888,
              "#fdca26"
             ],
             [
              1,
              "#f0f921"
             ]
            ],
            "type": "histogram2d"
           }
          ],
          "histogram2dcontour": [
           {
            "colorbar": {
             "outlinewidth": 0,
             "ticks": ""
            },
            "colorscale": [
             [
              0,
              "#0d0887"
             ],
             [
              0.1111111111111111,
              "#46039f"
             ],
             [
              0.2222222222222222,
              "#7201a8"
             ],
             [
              0.3333333333333333,
              "#9c179e"
             ],
             [
              0.4444444444444444,
              "#bd3786"
             ],
             [
              0.5555555555555556,
              "#d8576b"
             ],
             [
              0.6666666666666666,
              "#ed7953"
             ],
             [
              0.7777777777777778,
              "#fb9f3a"
             ],
             [
              0.8888888888888888,
              "#fdca26"
             ],
             [
              1,
              "#f0f921"
             ]
            ],
            "type": "histogram2dcontour"
           }
          ],
          "mesh3d": [
           {
            "colorbar": {
             "outlinewidth": 0,
             "ticks": ""
            },
            "type": "mesh3d"
           }
          ],
          "parcoords": [
           {
            "line": {
             "colorbar": {
              "outlinewidth": 0,
              "ticks": ""
             }
            },
            "type": "parcoords"
           }
          ],
          "pie": [
           {
            "automargin": true,
            "type": "pie"
           }
          ],
          "scatter": [
           {
            "fillpattern": {
             "fillmode": "overlay",
             "size": 10,
             "solidity": 0.2
            },
            "type": "scatter"
           }
          ],
          "scatter3d": [
           {
            "line": {
             "colorbar": {
              "outlinewidth": 0,
              "ticks": ""
             }
            },
            "marker": {
             "colorbar": {
              "outlinewidth": 0,
              "ticks": ""
             }
            },
            "type": "scatter3d"
           }
          ],
          "scattercarpet": [
           {
            "marker": {
             "colorbar": {
              "outlinewidth": 0,
              "ticks": ""
             }
            },
            "type": "scattercarpet"
           }
          ],
          "scattergeo": [
           {
            "marker": {
             "colorbar": {
              "outlinewidth": 0,
              "ticks": ""
             }
            },
            "type": "scattergeo"
           }
          ],
          "scattergl": [
           {
            "marker": {
             "colorbar": {
              "outlinewidth": 0,
              "ticks": ""
             }
            },
            "type": "scattergl"
           }
          ],
          "scattermapbox": [
           {
            "marker": {
             "colorbar": {
              "outlinewidth": 0,
              "ticks": ""
             }
            },
            "type": "scattermapbox"
           }
          ],
          "scatterpolar": [
           {
            "marker": {
             "colorbar": {
              "outlinewidth": 0,
              "ticks": ""
             }
            },
            "type": "scatterpolar"
           }
          ],
          "scatterpolargl": [
           {
            "marker": {
             "colorbar": {
              "outlinewidth": 0,
              "ticks": ""
             }
            },
            "type": "scatterpolargl"
           }
          ],
          "scatterternary": [
           {
            "marker": {
             "colorbar": {
              "outlinewidth": 0,
              "ticks": ""
             }
            },
            "type": "scatterternary"
           }
          ],
          "surface": [
           {
            "colorbar": {
             "outlinewidth": 0,
             "ticks": ""
            },
            "colorscale": [
             [
              0,
              "#0d0887"
             ],
             [
              0.1111111111111111,
              "#46039f"
             ],
             [
              0.2222222222222222,
              "#7201a8"
             ],
             [
              0.3333333333333333,
              "#9c179e"
             ],
             [
              0.4444444444444444,
              "#bd3786"
             ],
             [
              0.5555555555555556,
              "#d8576b"
             ],
             [
              0.6666666666666666,
              "#ed7953"
             ],
             [
              0.7777777777777778,
              "#fb9f3a"
             ],
             [
              0.8888888888888888,
              "#fdca26"
             ],
             [
              1,
              "#f0f921"
             ]
            ],
            "type": "surface"
           }
          ],
          "table": [
           {
            "cells": {
             "fill": {
              "color": "#EBF0F8"
             },
             "line": {
              "color": "white"
             }
            },
            "header": {
             "fill": {
              "color": "#C8D4E3"
             },
             "line": {
              "color": "white"
             }
            },
            "type": "table"
           }
          ]
         },
         "layout": {
          "annotationdefaults": {
           "arrowcolor": "#2a3f5f",
           "arrowhead": 0,
           "arrowwidth": 1
          },
          "autotypenumbers": "strict",
          "coloraxis": {
           "colorbar": {
            "outlinewidth": 0,
            "ticks": ""
           }
          },
          "colorscale": {
           "diverging": [
            [
             0,
             "#8e0152"
            ],
            [
             0.1,
             "#c51b7d"
            ],
            [
             0.2,
             "#de77ae"
            ],
            [
             0.3,
             "#f1b6da"
            ],
            [
             0.4,
             "#fde0ef"
            ],
            [
             0.5,
             "#f7f7f7"
            ],
            [
             0.6,
             "#e6f5d0"
            ],
            [
             0.7,
             "#b8e186"
            ],
            [
             0.8,
             "#7fbc41"
            ],
            [
             0.9,
             "#4d9221"
            ],
            [
             1,
             "#276419"
            ]
           ],
           "sequential": [
            [
             0,
             "#0d0887"
            ],
            [
             0.1111111111111111,
             "#46039f"
            ],
            [
             0.2222222222222222,
             "#7201a8"
            ],
            [
             0.3333333333333333,
             "#9c179e"
            ],
            [
             0.4444444444444444,
             "#bd3786"
            ],
            [
             0.5555555555555556,
             "#d8576b"
            ],
            [
             0.6666666666666666,
             "#ed7953"
            ],
            [
             0.7777777777777778,
             "#fb9f3a"
            ],
            [
             0.8888888888888888,
             "#fdca26"
            ],
            [
             1,
             "#f0f921"
            ]
           ],
           "sequentialminus": [
            [
             0,
             "#0d0887"
            ],
            [
             0.1111111111111111,
             "#46039f"
            ],
            [
             0.2222222222222222,
             "#7201a8"
            ],
            [
             0.3333333333333333,
             "#9c179e"
            ],
            [
             0.4444444444444444,
             "#bd3786"
            ],
            [
             0.5555555555555556,
             "#d8576b"
            ],
            [
             0.6666666666666666,
             "#ed7953"
            ],
            [
             0.7777777777777778,
             "#fb9f3a"
            ],
            [
             0.8888888888888888,
             "#fdca26"
            ],
            [
             1,
             "#f0f921"
            ]
           ]
          },
          "colorway": [
           "#636efa",
           "#EF553B",
           "#00cc96",
           "#ab63fa",
           "#FFA15A",
           "#19d3f3",
           "#FF6692",
           "#B6E880",
           "#FF97FF",
           "#FECB52"
          ],
          "font": {
           "color": "#2a3f5f"
          },
          "geo": {
           "bgcolor": "white",
           "lakecolor": "white",
           "landcolor": "#E5ECF6",
           "showlakes": true,
           "showland": true,
           "subunitcolor": "white"
          },
          "hoverlabel": {
           "align": "left"
          },
          "hovermode": "closest",
          "mapbox": {
           "style": "light"
          },
          "paper_bgcolor": "white",
          "plot_bgcolor": "#E5ECF6",
          "polar": {
           "angularaxis": {
            "gridcolor": "white",
            "linecolor": "white",
            "ticks": ""
           },
           "bgcolor": "#E5ECF6",
           "radialaxis": {
            "gridcolor": "white",
            "linecolor": "white",
            "ticks": ""
           }
          },
          "scene": {
           "xaxis": {
            "backgroundcolor": "#E5ECF6",
            "gridcolor": "white",
            "gridwidth": 2,
            "linecolor": "white",
            "showbackground": true,
            "ticks": "",
            "zerolinecolor": "white"
           },
           "yaxis": {
            "backgroundcolor": "#E5ECF6",
            "gridcolor": "white",
            "gridwidth": 2,
            "linecolor": "white",
            "showbackground": true,
            "ticks": "",
            "zerolinecolor": "white"
           },
           "zaxis": {
            "backgroundcolor": "#E5ECF6",
            "gridcolor": "white",
            "gridwidth": 2,
            "linecolor": "white",
            "showbackground": true,
            "ticks": "",
            "zerolinecolor": "white"
           }
          },
          "shapedefaults": {
           "line": {
            "color": "#2a3f5f"
           }
          },
          "ternary": {
           "aaxis": {
            "gridcolor": "white",
            "linecolor": "white",
            "ticks": ""
           },
           "baxis": {
            "gridcolor": "white",
            "linecolor": "white",
            "ticks": ""
           },
           "bgcolor": "#E5ECF6",
           "caxis": {
            "gridcolor": "white",
            "linecolor": "white",
            "ticks": ""
           }
          },
          "title": {
           "x": 0.05
          },
          "xaxis": {
           "automargin": true,
           "gridcolor": "white",
           "linecolor": "white",
           "ticks": "",
           "title": {
            "standoff": 15
           },
           "zerolinecolor": "white",
           "zerolinewidth": 2
          },
          "yaxis": {
           "automargin": true,
           "gridcolor": "white",
           "linecolor": "white",
           "ticks": "",
           "title": {
            "standoff": 15
           },
           "zerolinecolor": "white",
           "zerolinewidth": 2
          }
         }
        }
       }
      }
     },
     "metadata": {},
     "output_type": "display_data"
    }
   ],
   "source": [
    "# This is a key from mapbox.com necessary to use the style \"open-street-map\"\n",
    "px.set_mapbox_access_token(\"pk.eyJ1Ijoic3VzYW5uYWJyYXZpIiwiYSI6ImNscGQ3bXR5eTEwamoya3FyaTBjbWt2N2wifQ.h95oGTEioKMBjxmsSAF3yw\")\n",
    "\n",
    "# Plotting the results\n",
    "fig = px.scatter_mapbox(places, lat=\"latitude\", lon=\"longitude\", hover_name=\"courseName\", hover_data=[\"fees_USD\",\"Safety\",\"Education\",\"Cost_of_Living\",\"courseName\",\"universityName\",\"facultyName\"], color = \"fees_USD\",\n",
    "                         zoom=5, height=600, mapbox_style=\"open-street-map\")\n",
    "fig.show()"
   ]
  },
  {
   "cell_type": "markdown",
   "metadata": {},
   "source": [
    "We also add a screen of our map in case GitHub does not supports interactive maps\n",
    "![Immagine](./screen-shots/map.png)"
   ]
  },
  {
   "cell_type": "markdown",
   "metadata": {},
   "source": [
    "## 5. BONUS: More complex search engine"
   ]
  },
  {
   "cell_type": "markdown",
   "metadata": {},
   "source": [
    "The following pice of code, read the dataset, and then accepts queries from user in 2 ways.\n",
    "1. User can search dataset based on 'course_name, university_name, university_city, fee_min, fee_max, countries, started_only, online_only'. User can specify none, all or some of them to retrive the desired rows.\n",
    "2. User can Write a sentence as query that searches through course_name, university_name, university_city, and based on the most similarity, the data will be returned. For the other options, user should explicitly specify them as argument to the search_courses() function.\n",
    "\n",
    "In second approach, in order to find the similarity,\n",
    "- We first, tokenize the text values in course_name, university_name, university_city columns.\n",
    "- We put tokens in 'inverted_indexes' to find where these tokens occur in the dataset or documents.\n",
    "- Then we pass query, inverted_indexes, data as arguments to retrieve_similar_documents function. Here we tokenize the query, we finally need to returns a list of document IDs sorted by similarity scores. So, we Use the inverted indexes to find relevant documents by comparing tokens in the query with those in the indexed documents.\n",
    "- We then, calculate cosine similarity scores between the query and each relevant document.\n",
    "- In cosine_similarity function, we create two frequency vectors including 'query_vector' and 'doc_vector' to represent the occurrences of tokens in the query and document. It calculates the dot product between these vectors and the cosine similarity\n",
    "- Finnaly, we sort the documents by their similarity scores."
   ]
  },
  {
   "cell_type": "code",
   "execution_count": 54,
   "metadata": {},
   "outputs": [],
   "source": [
    "import pandas as pd\n",
    "from datetime import datetime\n",
    "\n",
    "# Load the dataset we are going to work with\n",
    "data = pd.read_table(r\"dataset.tsv\")  # Read the dataset from a tab-separated file\n",
    "\n",
    "from collections import defaultdict  # Import defaultdict from the collections module\n",
    "import math  # Import the math module for mathematical operations\n",
    "\n",
    "def tokenize(text):\n",
    "    if isinstance(text, str):\n",
    "        return text.lower().split()  # Convert text to lowercase and split into tokens\n",
    "    return []  # Return an empty list for non-string values\n",
    "\n",
    "# Function to calculate cosine similarity\n",
    "def cosine_similarity(query_tokens, doc_tokens):\n",
    "    query_vector = defaultdict(int)  # Create a dictionary to store query token frequencies\n",
    "    doc_vector = defaultdict(int)  # Create a dictionary to store document token frequencies\n",
    "\n",
    "    # Calculate term frequencies for query and document\n",
    "    for token in query_tokens:\n",
    "        query_vector[token] += 1  # Increment token frequency in the query vector\n",
    "    for token in doc_tokens:\n",
    "        doc_vector[token] += 1  # Increment token frequency in the document vector\n",
    "\n",
    "    # Compute dot product\n",
    "    dot_product = sum(query_vector[token] * doc_vector[token] for token in query_tokens if token in doc_tokens)\n",
    "\n",
    "    # Calculate magnitudes\n",
    "    query_magnitude = math.sqrt(sum(query_vector[token] ** 2 for token in query_tokens))\n",
    "    doc_magnitude = math.sqrt(sum(doc_vector[token] ** 2 for token in doc_tokens))\n",
    "\n",
    "    # Avoid division by zero\n",
    "    if query_magnitude != 0 and doc_magnitude != 0:\n",
    "        similarity = dot_product / (query_magnitude * doc_magnitude)  # Calculate cosine similarity\n",
    "        return similarity\n",
    "    else:\n",
    "        return 0.0  # Return 0 if either magnitude is zero\n",
    "\n",
    "# Function to retrieve documents based on similarity\n",
    "def retrieve_similar_documents(query, inverted_indexes, data):\n",
    "    query_tokens = tokenize(query)  # Tokenize the query\n",
    "\n",
    "    # Aggregate similarity scores for each document\n",
    "    similarity_scores = defaultdict(float)  # Create a dictionary for similarity scores\n",
    "    for token in query_tokens:\n",
    "        if token in inverted_indexes:\n",
    "            postings = inverted_indexes[token]\n",
    "            for doc_id, relevance in postings:\n",
    "                doc_tokens = tokenize(data.loc[doc_id, 'courseName'] + \" \" + \n",
    "                                      data.loc[doc_id, 'universityName'] + \" \" +\n",
    "                                      data.loc[doc_id, 'city'])\n",
    "                similarity = cosine_similarity(query_tokens, doc_tokens)\n",
    "                similarity_scores[doc_id] += similarity * relevance  # Weighted sum of similarities\n",
    "\n",
    "    # Sort documents by aggregated similarity\n",
    "    sorted_docs = sorted(similarity_scores.items(), key=lambda x: x[1], reverse=True)\n",
    "    return sorted_docs\n",
    "\n",
    "def parse_custom_date(date):\n",
    "    try:\n",
    "        return datetime.strptime(date, \"%B\")  # Add the correct date format for parsing\n",
    "    except ValueError:\n",
    "        return pd.NaT  # Return NaT (Not a Timestamp) for invalid dates\n",
    "\n",
    "def get_current_month_name():\n",
    "    month_names = ['January', 'February', 'March', 'April', 'May', 'June', 'July', 'August', 'September', 'October', 'November', 'December']\n",
    "    current_month_number = datetime.now().month\n",
    "    return month_names[current_month_number - 1]  # Adjust index to match the list\n",
    "\n",
    "def filter_started_courses(data):\n",
    "    current_month = datetime.now().month  # Get current month as a number\n",
    "    data = data.copy()  # Create a copy of the DataFrame to avoid chained assignment warnings\n",
    "    \n",
    "    # Omit rows where 'startDate' is NaT and create 'start_months' column\n",
    "    data = data.dropna(subset=['startDate'])\n",
    "    data.loc[:, 'start_months'] = data['startDate'].apply(lambda x: [month.strip() for month in x.split(',')])\n",
    "\n",
    "    def has_started(start_months):\n",
    "        for month in start_months:\n",
    "            try:\n",
    "                month_date = datetime.strptime(month, '%B').month\n",
    "                if month_date <= current_month:\n",
    "                    return True\n",
    "            except ValueError:\n",
    "                pass  # Ignore invalid month names\n",
    "        return False\n",
    "\n",
    "    # Create 'has_started' column\n",
    "    data.loc[:, 'has_started'] = data['start_months'].apply(has_started)\n",
    "\n",
    "    # Filter and drop columns if they exist\n",
    "    if 'start_months' in data.columns and 'has_started' in data.columns:\n",
    "        data = data[data['has_started']]\n",
    "        data.drop(columns=['start_months', 'has_started'], inplace=True)\n",
    "    else:\n",
    "        print(\"'start_months' or 'has_started' column not found.\")\n",
    "\n",
    "    return data\n",
    "\n",
    "\n",
    "def filter_online_modality(data):\n",
    "    data_copy = data.copy()  # Create a copy of the DataFrame to avoid chained assignment warnings\n",
    "    return data_copy[data_copy['administration'].str.contains('Online', case=False, na=False, regex=False)]\n",
    "\n",
    "def search_courses(data, query=None, course_name=None, university_name=None, university_city=None, fee_min=None, fee_max=None, countries=None, started_only=False, online_only=False):\n",
    "    if query:\n",
    "    \n",
    "        # Create a dictionary to hold inverted indexes\n",
    "        inverted_indexes = {}\n",
    "        for index, row in data.iterrows():\n",
    "            # Tokenize relevant fields\n",
    "            course_tokens = tokenize(row['courseName'])\n",
    "            university_tokens = tokenize(row['universityName'])\n",
    "            city_tokens = tokenize(row['city'])\n",
    "        \n",
    "            # Update inverted indexes for each token\n",
    "            for token in course_tokens + university_tokens + city_tokens:\n",
    "                if token not in inverted_indexes:\n",
    "                    inverted_indexes[token] = []\n",
    "                inverted_indexes[token].append((index, 1))  # Assuming relevance of 1 for simplicity\n",
    "    \n",
    "        similar_docs = retrieve_similar_documents(query, inverted_indexes, data)\n",
    "    \n",
    "        # Retrieve top N documents based on similarity\n",
    "        top_n = 50  # Number of top documents to retrieve\n",
    "        top_documents = [doc_id for doc_id, similarity in similar_docs[:top_n]]\n",
    "        relevant_results = data.loc[top_documents]\n",
    "        # data = data[data.index.isin(top_documents)]\n",
    "        data = relevant_results\n",
    "\n",
    "    # Handling special case for fees (preprocess_fees function needs to be defined)\n",
    "    data['fees'] = data['fees'].apply(lambda x: 0 if x == \"Please see the university website for further information on fees for this course.\" else x)\n",
    "    data[\"fees_USD\"] = data[\"fees\"].apply(preprocess_fees)  # Add preprocess_fees function\n",
    "\n",
    "    # Filtering based on optional queries\n",
    "    if course_name:\n",
    "        data = data[data['courseName'].str.contains(course_name, case=False, na=False, regex=False)]\n",
    "    if university_name:\n",
    "        data = data[data['universityName'].str.contains(university_name, case=False, na=False, regex=False)]\n",
    "    if university_city:\n",
    "        data = data[data['city'].str.contains(university_city, case=False, na=False, regex=False)]\n",
    "\n",
    "    # Filtering based on fee range\n",
    "    if fee_min is not None:\n",
    "        data = data[data['fees_USD'].astype(float).fillna(0) >= fee_min]\n",
    "    if fee_max is not None:\n",
    "        data = data[data['fees_USD'].astype(float).fillna(0) <= fee_max]\n",
    "\n",
    "    # Filtering based on countries array\n",
    "    if countries:\n",
    "        data = data[data['country'].isin(countries)]\n",
    "\n",
    "    # Filter for courses that have started\n",
    "    if started_only:\n",
    "        data = filter_started_courses(data)\n",
    "\n",
    "    # Filter for online modality\n",
    "    if online_only:\n",
    "        data = filter_online_modality(data)\n",
    "\n",
    "    return data"
   ]
  },
  {
   "cell_type": "markdown",
   "metadata": {},
   "source": [
    "### Example usage\n",
    "- Pass your optional queries to the search_courses function\n",
    "- Replace None with the desired search terms"
   ]
  },
  {
   "cell_type": "code",
   "execution_count": 55,
   "metadata": {},
   "outputs": [
    {
     "data": {
      "text/html": [
       "<div>\n",
       "<style scoped>\n",
       "    .dataframe tbody tr th:only-of-type {\n",
       "        vertical-align: middle;\n",
       "    }\n",
       "\n",
       "    .dataframe tbody tr th {\n",
       "        vertical-align: top;\n",
       "    }\n",
       "\n",
       "    .dataframe thead th {\n",
       "        text-align: right;\n",
       "    }\n",
       "</style>\n",
       "<table border=\"1\" class=\"dataframe\">\n",
       "  <thead>\n",
       "    <tr style=\"text-align: right;\">\n",
       "      <th></th>\n",
       "      <th>courseName</th>\n",
       "      <th>universityName</th>\n",
       "      <th>facultyName</th>\n",
       "      <th>isItFullTime</th>\n",
       "      <th>description</th>\n",
       "      <th>startDate</th>\n",
       "      <th>fees</th>\n",
       "      <th>modality</th>\n",
       "      <th>duration</th>\n",
       "      <th>city</th>\n",
       "      <th>country</th>\n",
       "      <th>administration</th>\n",
       "      <th>url</th>\n",
       "      <th>fees_USD</th>\n",
       "    </tr>\n",
       "  </thead>\n",
       "  <tbody>\n",
       "    <tr>\n",
       "      <th>60</th>\n",
       "      <td>Computer Science MSc (Online)</td>\n",
       "      <td>Northumbria University</td>\n",
       "      <td>Distance Learning</td>\n",
       "      <td>MSc</td>\n",
       "      <td>No matter what your background, drive digital ...</td>\n",
       "      <td>October, January</td>\n",
       "      <td>Full course fees for the academic year 2022/23...</td>\n",
       "      <td>MSc</td>\n",
       "      <td>See Programme Description</td>\n",
       "      <td>Newcastle</td>\n",
       "      <td>United Kingdom</td>\n",
       "      <td>Online</td>\n",
       "      <td>https://www.findamasters.com/masters-degrees/c...</td>\n",
       "      <td>11435.0</td>\n",
       "    </tr>\n",
       "  </tbody>\n",
       "</table>\n",
       "</div>"
      ],
      "text/plain": [
       "                       courseName          universityName        facultyName  \\\n",
       "60  Computer Science MSc (Online)  Northumbria University  Distance Learning   \n",
       "\n",
       "   isItFullTime                                        description  \\\n",
       "60          MSc  No matter what your background, drive digital ...   \n",
       "\n",
       "           startDate                                               fees  \\\n",
       "60  October, January  Full course fees for the academic year 2022/23...   \n",
       "\n",
       "   modality                   duration       city         country  \\\n",
       "60      MSc  See Programme Description  Newcastle  United Kingdom   \n",
       "\n",
       "   administration                                                url  fees_USD  \n",
       "60         Online  https://www.findamasters.com/masters-degrees/c...   11435.0  "
      ]
     },
     "execution_count": 55,
     "metadata": {},
     "output_type": "execute_result"
    }
   ],
   "source": [
    "# Example usage: \"Computer science courses in Newcastle\"\n",
    "filtered_data = search_courses(data,\n",
    "                                query=\"Computer science courses in Newcastle\",\n",
    "                                fee_min=5000,  # Replace with your minimum fee\n",
    "                                fee_max=15000,  # Replace with your maximum fee\n",
    "                                countries=[\"United Kingdom\"],  # List of desired countries\n",
    "                                started_only=True, # Filter for courses that have started in the current month\n",
    "                                online_only=True)  # Filter for online modality\n",
    "\n",
    "filtered_data  # Displaying the filtered dataset"
   ]
  },
  {
   "cell_type": "code",
   "execution_count": 56,
   "metadata": {},
   "outputs": [
    {
     "data": {
      "text/html": [
       "<div>\n",
       "<style scoped>\n",
       "    .dataframe tbody tr th:only-of-type {\n",
       "        vertical-align: middle;\n",
       "    }\n",
       "\n",
       "    .dataframe tbody tr th {\n",
       "        vertical-align: top;\n",
       "    }\n",
       "\n",
       "    .dataframe thead th {\n",
       "        text-align: right;\n",
       "    }\n",
       "</style>\n",
       "<table border=\"1\" class=\"dataframe\">\n",
       "  <thead>\n",
       "    <tr style=\"text-align: right;\">\n",
       "      <th></th>\n",
       "      <th>courseName</th>\n",
       "      <th>universityName</th>\n",
       "      <th>facultyName</th>\n",
       "      <th>isItFullTime</th>\n",
       "      <th>description</th>\n",
       "      <th>startDate</th>\n",
       "      <th>fees</th>\n",
       "      <th>modality</th>\n",
       "      <th>duration</th>\n",
       "      <th>city</th>\n",
       "      <th>country</th>\n",
       "      <th>administration</th>\n",
       "      <th>url</th>\n",
       "      <th>fees_USD</th>\n",
       "    </tr>\n",
       "  </thead>\n",
       "  <tbody>\n",
       "    <tr>\n",
       "      <th>5886</th>\n",
       "      <td>Master of Science in Sport and Performance Psy...</td>\n",
       "      <td>University of Western States</td>\n",
       "      <td>Masters Programs</td>\n",
       "      <td>Full time</td>\n",
       "      <td>The sport and performance psychology (SPP) pro...</td>\n",
       "      <td>October, April</td>\n",
       "      <td>$587 U.S. per credit hour - 54 credits total -...</td>\n",
       "      <td>MSc</td>\n",
       "      <td>1.5 to 2 years</td>\n",
       "      <td>Portland</td>\n",
       "      <td>USA</td>\n",
       "      <td>Online</td>\n",
       "      <td>https://www.findamasters.com/masters-degrees/c...</td>\n",
       "      <td>587</td>\n",
       "    </tr>\n",
       "    <tr>\n",
       "      <th>5835</th>\n",
       "      <td>Master of Science in Human Nutrition and Funct...</td>\n",
       "      <td>University of Western States</td>\n",
       "      <td>Masters Programs</td>\n",
       "      <td>Full time</td>\n",
       "      <td>The University of Western States Master of Sci...</td>\n",
       "      <td>October, April</td>\n",
       "      <td>$551 U.S. per credit hours - 56 credit hours -...</td>\n",
       "      <td>MSc</td>\n",
       "      <td>8 quarters</td>\n",
       "      <td>Portland</td>\n",
       "      <td>USA</td>\n",
       "      <td>Online</td>\n",
       "      <td>https://www.findamasters.com/masters-degrees/c...</td>\n",
       "      <td>551</td>\n",
       "    </tr>\n",
       "  </tbody>\n",
       "</table>\n",
       "</div>"
      ],
      "text/plain": [
       "                                             courseName  \\\n",
       "5886  Master of Science in Sport and Performance Psy...   \n",
       "5835  Master of Science in Human Nutrition and Funct...   \n",
       "\n",
       "                    universityName       facultyName isItFullTime  \\\n",
       "5886  University of Western States  Masters Programs    Full time   \n",
       "5835  University of Western States  Masters Programs    Full time   \n",
       "\n",
       "                                            description       startDate  \\\n",
       "5886  The sport and performance psychology (SPP) pro...  October, April   \n",
       "5835  The University of Western States Master of Sci...  October, April   \n",
       "\n",
       "                                                   fees modality  \\\n",
       "5886  $587 U.S. per credit hour - 54 credits total -...      MSc   \n",
       "5835  $551 U.S. per credit hours - 56 credit hours -...      MSc   \n",
       "\n",
       "            duration      city country administration  \\\n",
       "5886  1.5 to 2 years  Portland     USA         Online   \n",
       "5835      8 quarters  Portland     USA         Online   \n",
       "\n",
       "                                                    url  fees_USD  \n",
       "5886  https://www.findamasters.com/masters-degrees/c...       587  \n",
       "5835  https://www.findamasters.com/masters-degrees/c...       551  "
      ]
     },
     "execution_count": 56,
     "metadata": {},
     "output_type": "execute_result"
    }
   ],
   "source": [
    "# Example usage: \"Portland universities\"\n",
    "filtered_data = search_courses(data,\n",
    "                                query=\"Portland universities\",\n",
    "                                fee_min=None,  # Replace with your minimum fee\n",
    "                                fee_max=None,  # Replace with your maximum fee\n",
    "                                countries=[],  # List of desired countries\n",
    "                                started_only=False, # Filter for courses that have started in the current month\n",
    "                                online_only=False)  # Filter for online modality\n",
    "\n",
    "filtered_data  # Displaying the filtered dataset"
   ]
  },
  {
   "cell_type": "code",
   "execution_count": 57,
   "metadata": {},
   "outputs": [
    {
     "data": {
      "text/html": [
       "<div>\n",
       "<style scoped>\n",
       "    .dataframe tbody tr th:only-of-type {\n",
       "        vertical-align: middle;\n",
       "    }\n",
       "\n",
       "    .dataframe tbody tr th {\n",
       "        vertical-align: top;\n",
       "    }\n",
       "\n",
       "    .dataframe thead th {\n",
       "        text-align: right;\n",
       "    }\n",
       "</style>\n",
       "<table border=\"1\" class=\"dataframe\">\n",
       "  <thead>\n",
       "    <tr style=\"text-align: right;\">\n",
       "      <th></th>\n",
       "      <th>courseName</th>\n",
       "      <th>universityName</th>\n",
       "      <th>facultyName</th>\n",
       "      <th>isItFullTime</th>\n",
       "      <th>description</th>\n",
       "      <th>startDate</th>\n",
       "      <th>fees</th>\n",
       "      <th>modality</th>\n",
       "      <th>duration</th>\n",
       "      <th>city</th>\n",
       "      <th>country</th>\n",
       "      <th>administration</th>\n",
       "      <th>url</th>\n",
       "      <th>fees_USD</th>\n",
       "    </tr>\n",
       "  </thead>\n",
       "  <tbody>\n",
       "    <tr>\n",
       "      <th>0</th>\n",
       "      <td>3D Design for Virtual Environments - MSc</td>\n",
       "      <td>Glasgow Caledonian University</td>\n",
       "      <td>School of Engineering and Built Environment</td>\n",
       "      <td>Full time</td>\n",
       "      <td>3D visualisation and animation play a role in ...</td>\n",
       "      <td>September</td>\n",
       "      <td>0</td>\n",
       "      <td>MSc</td>\n",
       "      <td>1 year full-time</td>\n",
       "      <td>Glasgow</td>\n",
       "      <td>United Kingdom</td>\n",
       "      <td>On Campus</td>\n",
       "      <td>https://www.findamasters.com/masters-degrees/c...</td>\n",
       "      <td>NaN</td>\n",
       "    </tr>\n",
       "    <tr>\n",
       "      <th>1</th>\n",
       "      <td>Accounting and Finance - MSc</td>\n",
       "      <td>University of Leeds</td>\n",
       "      <td>Leeds University Business School</td>\n",
       "      <td>Full time</td>\n",
       "      <td>Businesses and governments rely on sound finan...</td>\n",
       "      <td>September</td>\n",
       "      <td>UK: £18,000 (Total) International: £34,750 (To...</td>\n",
       "      <td>MSc</td>\n",
       "      <td>1 year full time</td>\n",
       "      <td>Leeds</td>\n",
       "      <td>United Kingdom</td>\n",
       "      <td>On Campus</td>\n",
       "      <td>https://www.findamasters.com/masters-degrees/c...</td>\n",
       "      <td>43788.0</td>\n",
       "    </tr>\n",
       "    <tr>\n",
       "      <th>2</th>\n",
       "      <td>Accounting, Accountability &amp; Financial Managem...</td>\n",
       "      <td>King’s College London</td>\n",
       "      <td>King’s Business School</td>\n",
       "      <td>Full time</td>\n",
       "      <td>Our Accounting, Accountability &amp; Financial Man...</td>\n",
       "      <td>September</td>\n",
       "      <td>0</td>\n",
       "      <td>MSc</td>\n",
       "      <td>1 year FT</td>\n",
       "      <td>London</td>\n",
       "      <td>United Kingdom</td>\n",
       "      <td>On Campus</td>\n",
       "      <td>https://www.findamasters.com/masters-degrees/c...</td>\n",
       "      <td>NaN</td>\n",
       "    </tr>\n",
       "    <tr>\n",
       "      <th>3</th>\n",
       "      <td>Accounting, Financial Management and Digital B...</td>\n",
       "      <td>University of Reading</td>\n",
       "      <td>Henley Business School</td>\n",
       "      <td>Full time</td>\n",
       "      <td>Embark on a professional accounting career wit...</td>\n",
       "      <td>September</td>\n",
       "      <td>0</td>\n",
       "      <td>MSc</td>\n",
       "      <td>1 year full time</td>\n",
       "      <td>Reading</td>\n",
       "      <td>United Kingdom</td>\n",
       "      <td>On Campus</td>\n",
       "      <td>https://www.findamasters.com/masters-degrees/c...</td>\n",
       "      <td>NaN</td>\n",
       "    </tr>\n",
       "    <tr>\n",
       "      <th>4</th>\n",
       "      <td>Addictions MSc</td>\n",
       "      <td>King’s College London</td>\n",
       "      <td>Institute of Psychiatry, Psychology and Neuros...</td>\n",
       "      <td>Full time</td>\n",
       "      <td>Join us for an online session for prospective ...</td>\n",
       "      <td>September</td>\n",
       "      <td>0</td>\n",
       "      <td>MSc</td>\n",
       "      <td>One year FT</td>\n",
       "      <td>London</td>\n",
       "      <td>United Kingdom</td>\n",
       "      <td>On Campus</td>\n",
       "      <td>https://www.findamasters.com/masters-degrees/c...</td>\n",
       "      <td>NaN</td>\n",
       "    </tr>\n",
       "    <tr>\n",
       "      <th>...</th>\n",
       "      <td>...</td>\n",
       "      <td>...</td>\n",
       "      <td>...</td>\n",
       "      <td>...</td>\n",
       "      <td>...</td>\n",
       "      <td>...</td>\n",
       "      <td>...</td>\n",
       "      <td>...</td>\n",
       "      <td>...</td>\n",
       "      <td>...</td>\n",
       "      <td>...</td>\n",
       "      <td>...</td>\n",
       "      <td>...</td>\n",
       "      <td>...</td>\n",
       "    </tr>\n",
       "    <tr>\n",
       "      <th>5995</th>\n",
       "      <td>Materials and Molecular Modelling MSc</td>\n",
       "      <td>University College London</td>\n",
       "      <td>Department of Chemistry</td>\n",
       "      <td>Full time</td>\n",
       "      <td>Register your interest in graduate study at UC...</td>\n",
       "      <td>September</td>\n",
       "      <td>Full time - £14,100</td>\n",
       "      <td>MSc</td>\n",
       "      <td>1 year full time</td>\n",
       "      <td>London</td>\n",
       "      <td>United Kingdom</td>\n",
       "      <td>On Campus</td>\n",
       "      <td>https://www.findamasters.com/masters-degrees/c...</td>\n",
       "      <td>17767.0</td>\n",
       "    </tr>\n",
       "    <tr>\n",
       "      <th>5996</th>\n",
       "      <td>Materials Chemistry - MSc</td>\n",
       "      <td>University of Bradford</td>\n",
       "      <td>Faculty of Life Sciences</td>\n",
       "      <td>Full time</td>\n",
       "      <td>We provide a unique Master’s education in Mate...</td>\n",
       "      <td>September</td>\n",
       "      <td>0</td>\n",
       "      <td>MSc</td>\n",
       "      <td>1 year full time</td>\n",
       "      <td>Bradford</td>\n",
       "      <td>United Kingdom</td>\n",
       "      <td>On Campus</td>\n",
       "      <td>https://www.findamasters.com/masters-degrees/c...</td>\n",
       "      <td>NaN</td>\n",
       "    </tr>\n",
       "    <tr>\n",
       "      <th>5997</th>\n",
       "      <td>Materials Chemistry MSc</td>\n",
       "      <td>University of Edinburgh</td>\n",
       "      <td>School of Chemistry</td>\n",
       "      <td>Full time</td>\n",
       "      <td>Programme descriptionMaterials Chemistry has e...</td>\n",
       "      <td>September</td>\n",
       "      <td>Tuition fees vary between degree programmes. F...</td>\n",
       "      <td>MSc</td>\n",
       "      <td>1 year full-time</td>\n",
       "      <td>Edinburgh</td>\n",
       "      <td>United Kingdom</td>\n",
       "      <td>On Campus</td>\n",
       "      <td>https://www.findamasters.com/masters-degrees/c...</td>\n",
       "      <td>NaN</td>\n",
       "    </tr>\n",
       "    <tr>\n",
       "      <th>5998</th>\n",
       "      <td>Materials Engineering</td>\n",
       "      <td>University of Padua</td>\n",
       "      <td>School of Engineering</td>\n",
       "      <td>Full time</td>\n",
       "      <td>The Master's degree Materials Engineering is a...</td>\n",
       "      <td>October</td>\n",
       "      <td>Our tuition fees will not exceed 2700 euros pe...</td>\n",
       "      <td>MSc</td>\n",
       "      <td>2 years</td>\n",
       "      <td>Padua</td>\n",
       "      <td>Italy</td>\n",
       "      <td>On Campus</td>\n",
       "      <td>https://www.findamasters.com/masters-degrees/c...</td>\n",
       "      <td>2956.0</td>\n",
       "    </tr>\n",
       "    <tr>\n",
       "      <th>5999</th>\n",
       "      <td>Materials Engineering MSc</td>\n",
       "      <td>Swansea University</td>\n",
       "      <td>School of Engineering and Applied Sciences</td>\n",
       "      <td>Full time</td>\n",
       "      <td>The MSc in Materials Engineering provides you ...</td>\n",
       "      <td>September</td>\n",
       "      <td>Please visit our website for the Materials Eng...</td>\n",
       "      <td>MSc</td>\n",
       "      <td>1 year full-time; 2 years part-time; 3 years p...</td>\n",
       "      <td>Swansea</td>\n",
       "      <td>United Kingdom</td>\n",
       "      <td>On Campus</td>\n",
       "      <td>https://www.findamasters.com/masters-degrees/c...</td>\n",
       "      <td>NaN</td>\n",
       "    </tr>\n",
       "  </tbody>\n",
       "</table>\n",
       "<p>5169 rows × 14 columns</p>\n",
       "</div>"
      ],
      "text/plain": [
       "                                             courseName  \\\n",
       "0              3D Design for Virtual Environments - MSc   \n",
       "1                          Accounting and Finance - MSc   \n",
       "2     Accounting, Accountability & Financial Managem...   \n",
       "3     Accounting, Financial Management and Digital B...   \n",
       "4                                        Addictions MSc   \n",
       "...                                                 ...   \n",
       "5995              Materials and Molecular Modelling MSc   \n",
       "5996                          Materials Chemistry - MSc   \n",
       "5997                            Materials Chemistry MSc   \n",
       "5998                              Materials Engineering   \n",
       "5999                          Materials Engineering MSc   \n",
       "\n",
       "                     universityName  \\\n",
       "0     Glasgow Caledonian University   \n",
       "1               University of Leeds   \n",
       "2             King’s College London   \n",
       "3             University of Reading   \n",
       "4             King’s College London   \n",
       "...                             ...   \n",
       "5995      University College London   \n",
       "5996         University of Bradford   \n",
       "5997        University of Edinburgh   \n",
       "5998            University of Padua   \n",
       "5999             Swansea University   \n",
       "\n",
       "                                            facultyName isItFullTime  \\\n",
       "0           School of Engineering and Built Environment    Full time   \n",
       "1                      Leeds University Business School    Full time   \n",
       "2                                King’s Business School    Full time   \n",
       "3                                Henley Business School    Full time   \n",
       "4     Institute of Psychiatry, Psychology and Neuros...    Full time   \n",
       "...                                                 ...          ...   \n",
       "5995                            Department of Chemistry    Full time   \n",
       "5996                           Faculty of Life Sciences    Full time   \n",
       "5997                                School of Chemistry    Full time   \n",
       "5998                              School of Engineering    Full time   \n",
       "5999         School of Engineering and Applied Sciences    Full time   \n",
       "\n",
       "                                            description  startDate  \\\n",
       "0     3D visualisation and animation play a role in ...  September   \n",
       "1     Businesses and governments rely on sound finan...  September   \n",
       "2     Our Accounting, Accountability & Financial Man...  September   \n",
       "3     Embark on a professional accounting career wit...  September   \n",
       "4     Join us for an online session for prospective ...  September   \n",
       "...                                                 ...        ...   \n",
       "5995  Register your interest in graduate study at UC...  September   \n",
       "5996  We provide a unique Master’s education in Mate...  September   \n",
       "5997  Programme descriptionMaterials Chemistry has e...  September   \n",
       "5998  The Master's degree Materials Engineering is a...    October   \n",
       "5999  The MSc in Materials Engineering provides you ...  September   \n",
       "\n",
       "                                                   fees modality  \\\n",
       "0                                                     0      MSc   \n",
       "1     UK: £18,000 (Total) International: £34,750 (To...      MSc   \n",
       "2                                                     0      MSc   \n",
       "3                                                     0      MSc   \n",
       "4                                                     0      MSc   \n",
       "...                                                 ...      ...   \n",
       "5995                                Full time - £14,100      MSc   \n",
       "5996                                                  0      MSc   \n",
       "5997  Tuition fees vary between degree programmes. F...      MSc   \n",
       "5998  Our tuition fees will not exceed 2700 euros pe...      MSc   \n",
       "5999  Please visit our website for the Materials Eng...      MSc   \n",
       "\n",
       "                                               duration       city  \\\n",
       "0                                      1 year full-time    Glasgow   \n",
       "1                                      1 year full time      Leeds   \n",
       "2                                             1 year FT     London   \n",
       "3                                      1 year full time    Reading   \n",
       "4                                           One year FT     London   \n",
       "...                                                 ...        ...   \n",
       "5995                                   1 year full time     London   \n",
       "5996                                   1 year full time   Bradford   \n",
       "5997                                   1 year full-time  Edinburgh   \n",
       "5998                                            2 years      Padua   \n",
       "5999  1 year full-time; 2 years part-time; 3 years p...    Swansea   \n",
       "\n",
       "             country administration  \\\n",
       "0     United Kingdom      On Campus   \n",
       "1     United Kingdom      On Campus   \n",
       "2     United Kingdom      On Campus   \n",
       "3     United Kingdom      On Campus   \n",
       "4     United Kingdom      On Campus   \n",
       "...              ...            ...   \n",
       "5995  United Kingdom      On Campus   \n",
       "5996  United Kingdom      On Campus   \n",
       "5997  United Kingdom      On Campus   \n",
       "5998           Italy      On Campus   \n",
       "5999  United Kingdom      On Campus   \n",
       "\n",
       "                                                    url  fees_USD  \n",
       "0     https://www.findamasters.com/masters-degrees/c...       NaN  \n",
       "1     https://www.findamasters.com/masters-degrees/c...   43788.0  \n",
       "2     https://www.findamasters.com/masters-degrees/c...       NaN  \n",
       "3     https://www.findamasters.com/masters-degrees/c...       NaN  \n",
       "4     https://www.findamasters.com/masters-degrees/c...       NaN  \n",
       "...                                                 ...       ...  \n",
       "5995  https://www.findamasters.com/masters-degrees/c...   17767.0  \n",
       "5996  https://www.findamasters.com/masters-degrees/c...       NaN  \n",
       "5997  https://www.findamasters.com/masters-degrees/c...       NaN  \n",
       "5998  https://www.findamasters.com/masters-degrees/c...    2956.0  \n",
       "5999  https://www.findamasters.com/masters-degrees/c...       NaN  \n",
       "\n",
       "[5169 rows x 14 columns]"
      ]
     },
     "execution_count": 57,
     "metadata": {},
     "output_type": "execute_result"
    }
   ],
   "source": [
    "# Example usage: courses that have started in the current month\n",
    "search_results = search_courses(data,\n",
    "                                course_name=None,\n",
    "                                university_name=None,\n",
    "                                university_city=None,\n",
    "                                fee_min=None,  # Replace with your minimum fee\n",
    "                                fee_max=None,  # Replace with your maximum fee\n",
    "                                countries=[],  # List of desired countries\n",
    "                                started_only=True, # Filter for courses that have started in the current month\n",
    "                                online_only=False)  # Filter for online modality\n",
    "\n",
    "# search_results[['courseName', 'universityName', 'url']]\n",
    "search_results"
   ]
  },
  {
   "cell_type": "markdown",
   "metadata": {},
   "source": [
    "## 6. CommandLine.sh"
   ]
  },
  {
   "cell_type": "markdown",
   "metadata": {},
   "source": [
    "## Presentation of data:"
   ]
  },
  {
   "cell_type": "code",
   "execution_count": 58,
   "metadata": {},
   "outputs": [
    {
     "data": {
      "text/html": [
       "<div>\n",
       "<style scoped>\n",
       "    .dataframe tbody tr th:only-of-type {\n",
       "        vertical-align: middle;\n",
       "    }\n",
       "\n",
       "    .dataframe tbody tr th {\n",
       "        vertical-align: top;\n",
       "    }\n",
       "\n",
       "    .dataframe thead th {\n",
       "        text-align: right;\n",
       "    }\n",
       "</style>\n",
       "<table border=\"1\" class=\"dataframe\">\n",
       "  <thead>\n",
       "    <tr style=\"text-align: right;\">\n",
       "      <th></th>\n",
       "      <th>courseName</th>\n",
       "      <th>universityName</th>\n",
       "      <th>facultyName</th>\n",
       "      <th>isItFullTime</th>\n",
       "      <th>description</th>\n",
       "      <th>startDate</th>\n",
       "      <th>fees</th>\n",
       "      <th>modality</th>\n",
       "      <th>duration</th>\n",
       "      <th>city</th>\n",
       "      <th>country</th>\n",
       "      <th>administration</th>\n",
       "      <th>url</th>\n",
       "    </tr>\n",
       "  </thead>\n",
       "  <tbody>\n",
       "    <tr>\n",
       "      <th>0</th>\n",
       "      <td>3D Design for Virtual Environments - MSc</td>\n",
       "      <td>Glasgow Caledonian University</td>\n",
       "      <td>School of Engineering and Built Environment</td>\n",
       "      <td>Full time</td>\n",
       "      <td>3D visualisation and animation play a role in ...</td>\n",
       "      <td>September</td>\n",
       "      <td>Please see the university website for further ...</td>\n",
       "      <td>MSc</td>\n",
       "      <td>1 year full-time</td>\n",
       "      <td>Glasgow</td>\n",
       "      <td>United Kingdom</td>\n",
       "      <td>On Campus</td>\n",
       "      <td>https://www.findamasters.com/masters-degrees/c...</td>\n",
       "    </tr>\n",
       "    <tr>\n",
       "      <th>1</th>\n",
       "      <td>Accounting and Finance - MSc</td>\n",
       "      <td>University of Leeds</td>\n",
       "      <td>Leeds University Business School</td>\n",
       "      <td>Full time</td>\n",
       "      <td>Businesses and governments rely on sound finan...</td>\n",
       "      <td>September</td>\n",
       "      <td>UK: £18,000 (Total) International: £34,750 (To...</td>\n",
       "      <td>MSc</td>\n",
       "      <td>1 year full time</td>\n",
       "      <td>Leeds</td>\n",
       "      <td>United Kingdom</td>\n",
       "      <td>On Campus</td>\n",
       "      <td>https://www.findamasters.com/masters-degrees/c...</td>\n",
       "    </tr>\n",
       "    <tr>\n",
       "      <th>2</th>\n",
       "      <td>Accounting, Accountability &amp; Financial Managem...</td>\n",
       "      <td>King’s College London</td>\n",
       "      <td>King’s Business School</td>\n",
       "      <td>Full time</td>\n",
       "      <td>Our Accounting, Accountability &amp; Financial Man...</td>\n",
       "      <td>September</td>\n",
       "      <td>Please see the university website for further ...</td>\n",
       "      <td>MSc</td>\n",
       "      <td>1 year FT</td>\n",
       "      <td>London</td>\n",
       "      <td>United Kingdom</td>\n",
       "      <td>On Campus</td>\n",
       "      <td>https://www.findamasters.com/masters-degrees/c...</td>\n",
       "    </tr>\n",
       "    <tr>\n",
       "      <th>3</th>\n",
       "      <td>Accounting, Financial Management and Digital B...</td>\n",
       "      <td>University of Reading</td>\n",
       "      <td>Henley Business School</td>\n",
       "      <td>Full time</td>\n",
       "      <td>Embark on a professional accounting career wit...</td>\n",
       "      <td>September</td>\n",
       "      <td>Please see the university website for further ...</td>\n",
       "      <td>MSc</td>\n",
       "      <td>1 year full time</td>\n",
       "      <td>Reading</td>\n",
       "      <td>United Kingdom</td>\n",
       "      <td>On Campus</td>\n",
       "      <td>https://www.findamasters.com/masters-degrees/c...</td>\n",
       "    </tr>\n",
       "    <tr>\n",
       "      <th>4</th>\n",
       "      <td>Addictions MSc</td>\n",
       "      <td>King’s College London</td>\n",
       "      <td>Institute of Psychiatry, Psychology and Neuros...</td>\n",
       "      <td>Full time</td>\n",
       "      <td>Join us for an online session for prospective ...</td>\n",
       "      <td>September</td>\n",
       "      <td>Please see the university website for further ...</td>\n",
       "      <td>MSc</td>\n",
       "      <td>One year FT</td>\n",
       "      <td>London</td>\n",
       "      <td>United Kingdom</td>\n",
       "      <td>On Campus</td>\n",
       "      <td>https://www.findamasters.com/masters-degrees/c...</td>\n",
       "    </tr>\n",
       "    <tr>\n",
       "      <th>...</th>\n",
       "      <td>...</td>\n",
       "      <td>...</td>\n",
       "      <td>...</td>\n",
       "      <td>...</td>\n",
       "      <td>...</td>\n",
       "      <td>...</td>\n",
       "      <td>...</td>\n",
       "      <td>...</td>\n",
       "      <td>...</td>\n",
       "      <td>...</td>\n",
       "      <td>...</td>\n",
       "      <td>...</td>\n",
       "      <td>...</td>\n",
       "    </tr>\n",
       "    <tr>\n",
       "      <th>5995</th>\n",
       "      <td>Materials and Molecular Modelling MSc</td>\n",
       "      <td>University College London</td>\n",
       "      <td>Department of Chemistry</td>\n",
       "      <td>Full time</td>\n",
       "      <td>Register your interest in graduate study at UC...</td>\n",
       "      <td>September</td>\n",
       "      <td>Full time - £14,100</td>\n",
       "      <td>MSc</td>\n",
       "      <td>1 year full time</td>\n",
       "      <td>London</td>\n",
       "      <td>United Kingdom</td>\n",
       "      <td>On Campus</td>\n",
       "      <td>https://www.findamasters.com/masters-degrees/c...</td>\n",
       "    </tr>\n",
       "    <tr>\n",
       "      <th>5996</th>\n",
       "      <td>Materials Chemistry - MSc</td>\n",
       "      <td>University of Bradford</td>\n",
       "      <td>Faculty of Life Sciences</td>\n",
       "      <td>Full time</td>\n",
       "      <td>We provide a unique Master’s education in Mate...</td>\n",
       "      <td>September</td>\n",
       "      <td>Please see the university website for further ...</td>\n",
       "      <td>MSc</td>\n",
       "      <td>1 year full time</td>\n",
       "      <td>Bradford</td>\n",
       "      <td>United Kingdom</td>\n",
       "      <td>On Campus</td>\n",
       "      <td>https://www.findamasters.com/masters-degrees/c...</td>\n",
       "    </tr>\n",
       "    <tr>\n",
       "      <th>5997</th>\n",
       "      <td>Materials Chemistry MSc</td>\n",
       "      <td>University of Edinburgh</td>\n",
       "      <td>School of Chemistry</td>\n",
       "      <td>Full time</td>\n",
       "      <td>Programme descriptionMaterials Chemistry has e...</td>\n",
       "      <td>September</td>\n",
       "      <td>Tuition fees vary between degree programmes. F...</td>\n",
       "      <td>MSc</td>\n",
       "      <td>1 year full-time</td>\n",
       "      <td>Edinburgh</td>\n",
       "      <td>United Kingdom</td>\n",
       "      <td>On Campus</td>\n",
       "      <td>https://www.findamasters.com/masters-degrees/c...</td>\n",
       "    </tr>\n",
       "    <tr>\n",
       "      <th>5998</th>\n",
       "      <td>Materials Engineering</td>\n",
       "      <td>University of Padua</td>\n",
       "      <td>School of Engineering</td>\n",
       "      <td>Full time</td>\n",
       "      <td>The Master's degree Materials Engineering is a...</td>\n",
       "      <td>October</td>\n",
       "      <td>Our tuition fees will not exceed 2700 euros pe...</td>\n",
       "      <td>MSc</td>\n",
       "      <td>2 years</td>\n",
       "      <td>Padua</td>\n",
       "      <td>Italy</td>\n",
       "      <td>On Campus</td>\n",
       "      <td>https://www.findamasters.com/masters-degrees/c...</td>\n",
       "    </tr>\n",
       "    <tr>\n",
       "      <th>5999</th>\n",
       "      <td>Materials Engineering MSc</td>\n",
       "      <td>Swansea University</td>\n",
       "      <td>School of Engineering and Applied Sciences</td>\n",
       "      <td>Full time</td>\n",
       "      <td>The MSc in Materials Engineering provides you ...</td>\n",
       "      <td>September</td>\n",
       "      <td>Please visit our website for the Materials Eng...</td>\n",
       "      <td>MSc</td>\n",
       "      <td>1 year full-time; 2 years part-time; 3 years p...</td>\n",
       "      <td>Swansea</td>\n",
       "      <td>United Kingdom</td>\n",
       "      <td>On Campus</td>\n",
       "      <td>https://www.findamasters.com/masters-degrees/c...</td>\n",
       "    </tr>\n",
       "  </tbody>\n",
       "</table>\n",
       "<p>6000 rows × 13 columns</p>\n",
       "</div>"
      ],
      "text/plain": [
       "                                             courseName  \\\n",
       "0              3D Design for Virtual Environments - MSc   \n",
       "1                          Accounting and Finance - MSc   \n",
       "2     Accounting, Accountability & Financial Managem...   \n",
       "3     Accounting, Financial Management and Digital B...   \n",
       "4                                        Addictions MSc   \n",
       "...                                                 ...   \n",
       "5995              Materials and Molecular Modelling MSc   \n",
       "5996                          Materials Chemistry - MSc   \n",
       "5997                            Materials Chemistry MSc   \n",
       "5998                              Materials Engineering   \n",
       "5999                          Materials Engineering MSc   \n",
       "\n",
       "                     universityName  \\\n",
       "0     Glasgow Caledonian University   \n",
       "1               University of Leeds   \n",
       "2             King’s College London   \n",
       "3             University of Reading   \n",
       "4             King’s College London   \n",
       "...                             ...   \n",
       "5995      University College London   \n",
       "5996         University of Bradford   \n",
       "5997        University of Edinburgh   \n",
       "5998            University of Padua   \n",
       "5999             Swansea University   \n",
       "\n",
       "                                            facultyName isItFullTime  \\\n",
       "0           School of Engineering and Built Environment    Full time   \n",
       "1                      Leeds University Business School    Full time   \n",
       "2                                King’s Business School    Full time   \n",
       "3                                Henley Business School    Full time   \n",
       "4     Institute of Psychiatry, Psychology and Neuros...    Full time   \n",
       "...                                                 ...          ...   \n",
       "5995                            Department of Chemistry    Full time   \n",
       "5996                           Faculty of Life Sciences    Full time   \n",
       "5997                                School of Chemistry    Full time   \n",
       "5998                              School of Engineering    Full time   \n",
       "5999         School of Engineering and Applied Sciences    Full time   \n",
       "\n",
       "                                            description  startDate  \\\n",
       "0     3D visualisation and animation play a role in ...  September   \n",
       "1     Businesses and governments rely on sound finan...  September   \n",
       "2     Our Accounting, Accountability & Financial Man...  September   \n",
       "3     Embark on a professional accounting career wit...  September   \n",
       "4     Join us for an online session for prospective ...  September   \n",
       "...                                                 ...        ...   \n",
       "5995  Register your interest in graduate study at UC...  September   \n",
       "5996  We provide a unique Master’s education in Mate...  September   \n",
       "5997  Programme descriptionMaterials Chemistry has e...  September   \n",
       "5998  The Master's degree Materials Engineering is a...    October   \n",
       "5999  The MSc in Materials Engineering provides you ...  September   \n",
       "\n",
       "                                                   fees modality  \\\n",
       "0     Please see the university website for further ...      MSc   \n",
       "1     UK: £18,000 (Total) International: £34,750 (To...      MSc   \n",
       "2     Please see the university website for further ...      MSc   \n",
       "3     Please see the university website for further ...      MSc   \n",
       "4     Please see the university website for further ...      MSc   \n",
       "...                                                 ...      ...   \n",
       "5995                                Full time - £14,100      MSc   \n",
       "5996  Please see the university website for further ...      MSc   \n",
       "5997  Tuition fees vary between degree programmes. F...      MSc   \n",
       "5998  Our tuition fees will not exceed 2700 euros pe...      MSc   \n",
       "5999  Please visit our website for the Materials Eng...      MSc   \n",
       "\n",
       "                                               duration       city  \\\n",
       "0                                      1 year full-time    Glasgow   \n",
       "1                                      1 year full time      Leeds   \n",
       "2                                             1 year FT     London   \n",
       "3                                      1 year full time    Reading   \n",
       "4                                           One year FT     London   \n",
       "...                                                 ...        ...   \n",
       "5995                                   1 year full time     London   \n",
       "5996                                   1 year full time   Bradford   \n",
       "5997                                   1 year full-time  Edinburgh   \n",
       "5998                                            2 years      Padua   \n",
       "5999  1 year full-time; 2 years part-time; 3 years p...    Swansea   \n",
       "\n",
       "             country administration  \\\n",
       "0     United Kingdom      On Campus   \n",
       "1     United Kingdom      On Campus   \n",
       "2     United Kingdom      On Campus   \n",
       "3     United Kingdom      On Campus   \n",
       "4     United Kingdom      On Campus   \n",
       "...              ...            ...   \n",
       "5995  United Kingdom      On Campus   \n",
       "5996  United Kingdom      On Campus   \n",
       "5997  United Kingdom      On Campus   \n",
       "5998           Italy      On Campus   \n",
       "5999  United Kingdom      On Campus   \n",
       "\n",
       "                                                    url  \n",
       "0     https://www.findamasters.com/masters-degrees/c...  \n",
       "1     https://www.findamasters.com/masters-degrees/c...  \n",
       "2     https://www.findamasters.com/masters-degrees/c...  \n",
       "3     https://www.findamasters.com/masters-degrees/c...  \n",
       "4     https://www.findamasters.com/masters-degrees/c...  \n",
       "...                                                 ...  \n",
       "5995  https://www.findamasters.com/masters-degrees/c...  \n",
       "5996  https://www.findamasters.com/masters-degrees/c...  \n",
       "5997  https://www.findamasters.com/masters-degrees/c...  \n",
       "5998  https://www.findamasters.com/masters-degrees/c...  \n",
       "5999  https://www.findamasters.com/masters-degrees/c...  \n",
       "\n",
       "[6000 rows x 13 columns]"
      ]
     },
     "execution_count": 58,
     "metadata": {},
     "output_type": "execute_result"
    }
   ],
   "source": [
    "import pandas as pd\n",
    "\n",
    "# Read the TSV file into a DataFrame\n",
    "file_path = 'merged_courses.tsv'\n",
    "data = pd.read_csv(file_path, sep='\\t')\n",
    "\n",
    "# Display the DataFrame\n",
    "data"
   ]
  },
  {
   "cell_type": "markdown",
   "metadata": {},
   "source": [
    "## Here is the bash code for CommandLine.sh :"
   ]
  },
  {
   "cell_type": "code",
   "execution_count": null,
   "metadata": {},
   "outputs": [],
   "source": [
    "#!/bin/bash\n",
    "\n",
    "# Create an empty merged file\n",
    "touch merged_courses.tsv\n",
    "\n",
    "for ((i = 1; i <= 6000; i++)); do\n",
    "  folder=\"HTML_folders/page_${i}\"\n",
    "  file=\"html_${i}.html.tsv\"\n",
    "\n",
    "  if [ $i -eq 1 ]; then\n",
    "    # For the first file, copy the whole content\n",
    "    cat \"${folder}/${file}\" >> merged_courses.tsv\n",
    "  else\n",
    "    # For files 2 to 6000, omit the first row\n",
    "    tail -n +2 \"${folder}/${file}\" >> merged_courses.tsv\n",
    "  fi\n",
    "done\n",
    "\n",
    "printf \"The merged_courses.tsv file is generated. \\n\"\n",
    "\n",
    "# Question-1:\n",
    "\n",
    "printf \"# Question-1: \\n\"\n",
    "\n",
    "# Read 'merged_courses.tsv' file and generate counts for each country\n",
    "country_count=$(awk -F'\\t' 'NR>1 { countries[$11]++ } END { for (country in countries) print \"{\\\"country\\\": \\\"\" country \"\\\", \\\"counts\\\": \" countries[country] \"}\" }' merged_courses.tsv)\n",
    "\n",
    "# Sort the country count based on counts in descending order\n",
    "sorted_country_count=$(echo \"$country_count\" | jq -s 'sort_by(-.counts)')\n",
    "\n",
    "echo \"$sorted_country_count\" | jq '.[:5]'\n",
    "\n",
    "# Extract the value of \"country\" from the first cell and store it in most_frequent_country\n",
    "most_frequent_country=$(echo \"$sorted_country_count\" | jq -r '.[0].country')\n",
    "\n",
    "echo \"Most frequent country: $most_frequent_country\"\n",
    "\n",
    "# Loop over 'merged_courses.tsv' file and filter rows by most frequent country\n",
    "city_list=$(awk -F'\\t' -v most_frequent_country=\"$most_frequent_country\" 'NR>1 && $11 == most_frequent_country {\n",
    "    cities[$10]++;\n",
    "}\n",
    "END {\n",
    "    for (city in cities) {\n",
    "        printf \"{\\\"country\\\": \\\"%s\\\", \\\"city\\\": \\\"%s\\\", \\\"city_occurrence\\\": %d}\\n\", most_frequent_country, city, cities[city];\n",
    "    }\n",
    "}' merged_courses.tsv | jq -s '.')\n",
    "\n",
    "# Sort the city_list based on city_occurrence\n",
    "sorted_city_list=$(echo \"$city_list\" | jq 'sort_by(-.city_occurrence)')\n",
    "\n",
    "echo \"$sorted_city_list\" | jq '.[:5]'\n",
    "\n",
    "# Extract the maximum city_occurrence value\n",
    "max_occurrence=$(echo \"$sorted_city_list\" | jq '[.[] | .city_occurrence] | max')\n",
    "\n",
    "# Find cities with the maximum city_occurrence\n",
    "max_cities=$(echo \"$sorted_city_list\" | jq --arg max_occurrence \"$max_occurrence\" \"[.[] | select(.city_occurrence == $max_occurrence) | .city]\")\n",
    "\n",
    "printf \"\\n The most Master's Degrees are in the following cities: \"\n",
    "echo \"$max_cities\"\n",
    "\n",
    "# Question-2:\n",
    "\n",
    "printf \"# Question-2: \\n\"\n",
    "\n",
    "# Initialize an empty array to store 'part_time' rows\n",
    "part_time=()\n",
    "\n",
    "# Read 'merged_courses.tsv' line by line\n",
    "while IFS=$'\\t' read -r col1 col2 col3 isItFullTime col5; do\n",
    "    # Check if the value in the 'isItFullTime' column is 'Part time'\n",
    "    if [ \"$isItFullTime\" = \"Part time\" ]; then\n",
    "        # If true, add the entire row to the 'part_time' array\n",
    "        part_time+=(\"$col1\" \"$col2\" \"$col3\" \"$isItFullTime\" \"$col5\")\n",
    "    fi\n",
    "done < merged_courses.tsv\n",
    "\n",
    "# Print the length of the 'part_time' array\n",
    "echo \"Number of colleges offering Part-Time education is: ${#part_time[@]}\"\n",
    "\n",
    "# Question-3:\n",
    "\n",
    "printf \"# Question-3: \\n\"\n",
    "\n",
    "# Initialize an empty array to store rows containing 'Engineer' in 'courseName'\n",
    "contain_engineer=()\n",
    "\n",
    "# Read 'merged_courses.tsv' line by line\n",
    "while IFS=$'\\t' read -r courseName col2 col3 col4 col5; do\n",
    "    # Check if 'courseName' column contains 'Engineer'\n",
    "    if [[ \"$courseName\" == *\"Engineer\"* ]]; then\n",
    "        # If true, add the entire row to 'contain_engineer' array\n",
    "        contain_engineer+=(\"$courseName\" \"$col2\" \"$col3\" \"$col4\" \"$col5\")\n",
    "    fi\n",
    "done < merged_courses.tsv\n",
    "\n",
    "# Print the length of the 'contain_engineer' array\n",
    "echo \"Length of 'contain_engineer' list: ${#contain_engineer[@]}\"\n",
    "\n",
    "# Calculate the length of the 'contain_engineer' array\n",
    "length=${#contain_engineer[@]}\n",
    "\n",
    "# Perform the calculation using bc for floating-point arithmetic\n",
    "result=$(echo \"scale=2; $length / 6000 * 100\" | bc)\n",
    "\n",
    "echo \"The percentage of courses in Engineering is: $result%\""
   ]
  },
  {
   "cell_type": "markdown",
   "metadata": {},
   "source": [
    "### Here is the result:"
   ]
  },
  {
   "cell_type": "code",
   "execution_count": null,
   "metadata": {},
   "outputs": [],
   "source": [
    "(base) armanfeili@Armans-MacBook-Pro ADM-HW3 % bash CommandLine.sh\n",
    "The merged_courses.tsv file is generated. \n",
    "# Question-1: \n",
    "[\n",
    "  {\n",
    "    \"country\": \"United Kingdom\",\n",
    "    \"counts\": 4479\n",
    "  },\n",
    "  {\n",
    "    \"country\": \"Ireland\",\n",
    "    \"counts\": 251\n",
    "  },\n",
    "  {\n",
    "    \"country\": \"Netherlands\",\n",
    "    \"counts\": 210\n",
    "  },\n",
    "  {\n",
    "    \"country\": \"USA\",\n",
    "    \"counts\": 182\n",
    "  },\n",
    "  {\n",
    "    \"country\": \"Germany\",\n",
    "    \"counts\": 125\n",
    "  }\n",
    "]\n",
    "Most frequent country: United Kingdom\n",
    "[\n",
    "  {\n",
    "    \"country\": \"United Kingdom\",\n",
    "    \"city\": \"London\",\n",
    "    \"city_occurrence\": 1086\n",
    "  },\n",
    "  {\n",
    "    \"country\": \"United Kingdom\",\n",
    "    \"city\": \"Glasgow\",\n",
    "    \"city_occurrence\": 296\n",
    "  },\n",
    "  {\n",
    "    \"country\": \"United Kingdom\",\n",
    "    \"city\": \"Edinburgh\",\n",
    "    \"city_occurrence\": 247\n",
    "  },\n",
    "  {\n",
    "    \"country\": \"United Kingdom\",\n",
    "    \"city\": \"Nottingham\",\n",
    "    \"city_occurrence\": 124\n",
    "  },\n",
    "  {\n",
    "    \"country\": \"United Kingdom\",\n",
    "    \"city\": \"Bristol\",\n",
    "    \"city_occurrence\": 123\n",
    "  }\n",
    "]\n",
    "\n",
    " The most Master's Degrees are in the following cities: [\n",
    "  \"London\"\n",
    "]\n",
    "# Question-2: \n",
    "Number of colleges offering Part-Time education is: 3185\n",
    "# Question-3: \n",
    "Length of 'contain_engineer' list: 3075\n",
    "The percentage of courses in Engineering is: 51.00%"
   ]
  },
  {
   "cell_type": "markdown",
   "metadata": {},
   "source": [
    "![](./screen-shots/CommandLine-screenshot.png)"
   ]
  },
  {
   "cell_type": "markdown",
   "metadata": {},
   "source": [
    "## 7. Algorithmic Question\n",
    "Leonardo is an intern at a company. He is paid based on the total number of hours he has worked. They agreed d days ago that Leonardo could not work less than \"mintime\" or more than \"maxtime\" hours per i-th day. Furthermore, he was warned by HR that on his last day at the company, he should provide a detailed report on how many hours he worked each day for the previous d days.\n",
    "\n",
    "Today is the day Leonardo should report to HR, but the problem is that he didn't account for how many hours he put in for each day, so he only has the total sum of the hours (sumHours) he put in total in these d days. He believes that if he creates a report in which each number \"daysHours\" corresponds to the total hours he worked on the i-th day while satisfying the HR limitations and the total sum of all \"daysHours\"  equals \"sumHours\" he would be fine.\n",
    "\n",
    "He cannot create such a report independently and requests your assistance. He will give you the number of days \"d\" , total hours spent \"sumHours\" , and the HR limitations for each day \"i\"\n",
    ", and he wants you to assist him in determining whether it is possible to create such a fake report. If that is possible, make such a report.\n",
    "\n",
    "Input\n",
    "\n",
    "The first line of input contains two integers d,  \"sumHours\"- the number of days Leonardo worked there and the total number of hours he worked for the company. Each of the following d lines contains two integer numbers \"mintime\" and \"maxtime\"- the minimum and maximum hours he can work on the \"i\"'th day.\n",
    "\n",
    "Output\n",
    "\n",
    "If such a report cannot be generated, print 'NO' in one output line. If such a report is possible, print 'YES' in the output and d numbers - the number of hours Leonardo spent each day - in the second line. If more than one solution exists, print any of them."
   ]
  },
  {
   "cell_type": "markdown",
   "metadata": {},
   "source": [
    "### 1.Implement a code to solve the above mentioned problem.(**following cell is the answer**)"
   ]
  },
  {
   "cell_type": "code",
   "execution_count": 61,
   "metadata": {},
   "outputs": [
    {
     "name": "stdout",
     "output_type": "stream",
     "text": [
      "enter the d and the sumHours:  4 18\n",
      "enter the min and max Hours for 1'th' day :  0 2\n",
      "enter the min and max Hours for 2'th' day :  3 6\n",
      "enter the min and max Hours for 3'th' day :  19 22\n",
      "enter the min and max Hours for 4'th' day :  13 18\n"
     ]
    },
    {
     "name": "stdout",
     "output_type": "stream",
     "text": [
      "YES\n",
      "0 0 0 18\n",
      "0 3 0 15\n",
      "0 4 0 14\n",
      "0 5 0 13\n",
      "1 0 0 17\n",
      "1 3 0 14\n",
      "1 4 0 13\n",
      "2 0 0 16\n",
      "2 3 0 13\n"
     ]
    }
   ],
   "source": [
    "inupt_day_sumhours=input(\"enter the d and the sumHours: \").split()\n",
    "d=int(inupt_day_sumhours[0]) #the number of days Leonardo worked\n",
    "sum_hours=int(inupt_day_sumhours[1]) #the total number of hours he worked for the company\n",
    "\n",
    "day_limits=list() #creating a list of minimums and maximums of each day he workd\n",
    "for i in range(d):\n",
    "    inupt_min_max =input(f\"enter the min and max Hours for {i + 1}'th' day : \").split()\n",
    "    inupt_min=int(inupt_min_max[0])\n",
    "    inupt_max=int(inupt_min_max[1])\n",
    "    day_limits.append(([] if inupt_min == 0 else [0]) + [i for i in range(inupt_min, inupt_max + 1)])\n",
    "    \n",
    "results=list()\n",
    "from itertools import product\n",
    "all_combinations = list(product(*day_limits))\n",
    "for combination in all_combinations:\n",
    "    if sum(combination)==sum_hours:\n",
    "        results.append(combination)\n",
    "if len(results)==0:\n",
    "    print(\"NO\")\n",
    "else:\n",
    "    print(\"YES\")\n",
    "    for i in results:\n",
    "        print(*i)"
   ]
  },
  {
   "cell_type": "markdown",
   "metadata": {},
   "source": [
    "##### 2.What is the time complexity (the Big O notation) of your solution? Please provide a detailed explanation of how you calculated the time complexity.\n",
    "well the time complexity of my code is elaborated as below,line by line:\n",
    "##### A.\n",
    "the firt parsing input(the first 3 lines):Tis has a constant time complexity of O(1).because it performs a fixed number of operations regardless of the input size.\n",
    "##### B.\n",
    "Creating day_limits List(the next 6lines):The loop that fills the day_limits list iterates d times, and as we know the d is the number of days Leonardo worked. In each iteration, it performs a constant number of operations. Therefore, the time complexity of this part is O(d) and because days are a few it will be the same as o(\"a small number like=4\").\n",
    "##### C.\n",
    "Generating All Combinations of the given intervals: we are using the product function from the itertools module to generate all combinations of hours for each day. The number of combinations is tied to the number of options for each day. In the worst case scenario, this results in a total of (max-min+1)^d combinations. The time complexity of generating all combinations is O((max-min+1)^d), where max and min are the maximum and minimum hours for a day, respectively.\n",
    "##### D.\n",
    "Checking Combinations and Printing Results: The loop that iterates over all combinations to check if the sum of each combination tuple is equal to sum_hours has a time complexity of O((max-min+1)^d) since it loops through all combinations.\n",
    "Printing the results has a time complexity proportional to the number of results, which can be at most O((max-min+1)^d) in the worst case scenario."
   ]
  },
  {
   "cell_type": "markdown",
   "metadata": {},
   "source": [
    "![](./screen-shots/Screen-Shot-time-complexity.png)"
   ]
  },
  {
   "cell_type": "markdown",
   "metadata": {},
   "source": [
    "#### 4.What do you think of the optimality of your code? Do you believe it is optimal? Can you improve? Please elaborate on your response.\n",
    "\n",
    "regarding the optimality of my code, it can be optimal just for a few entered days(d).Due to the fact that it has an exponential time complexity, it is not optimal for big numbers of \"d\". Let me elaborate on my response: at the very first attempts, i decided to do this assignment with many different loops to get the answer. but my code had problems in its algorithm which just checked two successive days and it was not correct.then I googled my question to see how I could go through a list of some tuples to find the SumHour out of each element of these nested tuples in an optimal way. I figured out that this problem should be resolved by implementing a Greedy Algorithm... I searched about it and got into its functionality. Afterward, using the Greedy algorithm, I came up with an algorithm that worked But just printed out one soulution and also i was not worked for all inputs and as it was mentioned in the question,the code has to print all the possible solutions to this problem and not just one solution.ultimately,i came up with this algorithm which can be turned into a more optimal by using greedy and recursive form of algorithms at the same time to generate the right report and print all the possible outcomes but it is not working for some inputs.. i just mention it but i still believe on my algorithm for thorough and correct answer than this one which i wrote by the help of CHatGPT."
   ]
  },
  {
   "cell_type": "code",
   "execution_count": 62,
   "metadata": {},
   "outputs": [
    {
     "name": "stdout",
     "output_type": "stream",
     "text": [
      "enter the d and eh sumHours:  3 17\n",
      "enter the min and max Hours for 1'th' day :  0 2\n",
      "enter the min and max Hours for 2'th' day :  3 6\n",
      "enter the min and max Hours for 3'th' day :  5 15\n"
     ]
    },
    {
     "name": "stdout",
     "output_type": "stream",
     "text": [
      "YES\n",
      "0 3 14\n",
      "0 4 13\n",
      "0 5 12\n",
      "0 6 11\n",
      "1 3 13\n",
      "1 4 12\n",
      "1 5 11\n",
      "1 6 10\n",
      "2 3 12\n",
      "2 4 11\n",
      "2 5 10\n",
      "2 6 9\n"
     ]
    }
   ],
   "source": [
    "# grabing the Inputs:\n",
    "inupt_day_sumhours=input(\"enter the d and eh sumHours: \").split()\n",
    "d=int(inupt_day_sumhours[0]) #the number of days Leonardo worked\n",
    "sum_hours=int(inupt_day_sumhours[1]) #the total number of hours he worked for the company\n",
    "\n",
    "day_limits=list() #creating a list of minimums and maximums of each day he workd\n",
    "for i in range(d):\n",
    "    inupt_min_max = input(f\"enter the min and max Hours for {i + 1}'th' day : \").split()\n",
    "    inupt_min=int(inupt_min_max[0])\n",
    "    inupt_max=int(inupt_min_max[1])\n",
    "    day_limits.append([inupt_min,inupt_max])\n",
    "#if i want to print all the possible outcomes, then i have to create a function\n",
    "# to call it again and again which is called recursive function\n",
    "def generate_all_reports(d, sum_hours, day_limits, temporary_report=None, index=0):\n",
    "    #first it is needed to chech whether this is the first report or not\n",
    "    #if it is the first one, we should create a report list\n",
    "    if temporary_report is None:\n",
    "        temporary_report = [0] * d\n",
    "    #we need to chech wether we get to the last day to terminate our recursive report generationg process\n",
    "    if index == d:\n",
    "        if sum(temporary_report) == sum_hours: #here all the temporary lists which have our\n",
    "            return [temporary_report.copy()]   #condition is being seperated for the final result\n",
    "        else:\n",
    "            return []\n",
    "\n",
    "    #this block of code is the recursive generation of all valid reports. It explores different\n",
    "    #combinations of hours for the current day and recursively explores all possible outcomes for the remaining\n",
    "    #days. The results are piled up in the reports list, which is then returned.\n",
    "    reports = list()\n",
    "    for hours in range(day_limits[index][0], min(day_limits[index][1] + 1, sum_hours - sum(temporary_report) + 1)):\n",
    "        temporary_report[index] = hours\n",
    "        remaining_reports = generate_all_reports(d, sum_hours, day_limits, temporary_report.copy(), index + 1)\n",
    "        reports.extend(remaining_reports)\n",
    "    return reports\n",
    "\n",
    "#here we call our functioon\n",
    "all_reports = generate_all_reports(d, sum_hours, day_limits)\n",
    "#and last nut not least, we print our final result\n",
    "if not all_reports:\n",
    "    print(\"NO\")\n",
    "else:\n",
    "    print(\"YES\")\n",
    "    for report in all_reports:\n",
    "        print(*report)"
   ]
  },
  {
   "cell_type": "code",
   "execution_count": 64,
   "metadata": {},
   "outputs": [
    {
     "name": "stdout",
     "output_type": "stream",
     "text": [
      "enter the min and max Hours for 1'th' day :  1 6\n",
      "enter the min and max Hours for 2'th' day :  1 1\n",
      "enter the min and max Hours for 3'th' day :  5 6\n"
     ]
    },
    {
     "name": "stdout",
     "output_type": "stream",
     "text": [
      "NO\n"
     ]
    }
   ],
   "source": [
    "day_limits=list() #creating a list of minimums and maximums of each day he workd\n",
    "for i in range(d):\n",
    "    inupt_min_max = input(f\"enter the min and max Hours for {i + 1}'th' day : \").split()\n",
    "    inupt_min=int(inupt_min_max[0])\n",
    "    inupt_max=int(inupt_min_max[1])\n",
    "    day_limits.append([inupt_min,inupt_max])\n",
    "\n",
    "#here we call our functioon\n",
    "all_reports = generate_all_reports(d, sum_hours, day_limits)\n",
    "#and last nut not least, we print our final result\n",
    "if not all_reports:\n",
    "    print(\"NO\")\n",
    "else:\n",
    "    print(\"YES\")\n",
    "    for report in all_reports:\n",
    "        print(*report)"
   ]
  },
  {
   "cell_type": "code",
   "execution_count": null,
   "metadata": {},
   "outputs": [],
   "source": []
  }
 ],
 "metadata": {
  "kernelspec": {
   "display_name": "Python 3 (ipykernel)",
   "language": "python",
   "name": "python3"
  },
  "language_info": {
   "codemirror_mode": {
    "name": "ipython",
    "version": 3
   },
   "file_extension": ".py",
   "mimetype": "text/x-python",
   "name": "python",
   "nbconvert_exporter": "python",
   "pygments_lexer": "ipython3",
   "version": "3.12.0"
  }
 },
 "nbformat": 4,
 "nbformat_minor": 4
}
